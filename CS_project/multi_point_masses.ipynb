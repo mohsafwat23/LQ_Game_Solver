{
 "cells": [
  {
   "cell_type": "code",
   "execution_count": 1,
   "metadata": {},
   "outputs": [
    {
     "name": "stderr",
     "output_type": "stream",
     "text": [
      "\u001b[32m\u001b[1m  Activating\u001b[22m\u001b[39m environment at `~/Desktop/PHD2022/Autumn/CSE 579/CS_project/LQ_Game_Solver/CS_project/Project.toml`\n"
     ]
    }
   ],
   "source": [
    "import Pkg; Pkg.activate(@__DIR__); Pkg.instantiate()\n",
    "#import Pkg; Pkg.activate(joinpath(@__DIR__,\"..\")); Pkg.instantiate()"
   ]
  },
  {
   "cell_type": "code",
   "execution_count": 2,
   "metadata": {},
   "outputs": [],
   "source": [
    "using LinearAlgebra\n",
    "using Plots\n",
    "using SparseArrays\n",
    "using ForwardDiff\n",
    "using Random\n",
    "#using ControlSystems"
   ]
  },
  {
   "cell_type": "markdown",
   "metadata": {},
   "source": [
    "### 2D Point Mass Continous dynamics"
   ]
  },
  {
   "cell_type": "code",
   "execution_count": 3,
   "metadata": {},
   "outputs": [
    {
     "data": {
      "text/plain": [
       "point_mass (generic function with 1 method)"
      ]
     },
     "execution_count": 3,
     "metadata": {},
     "output_type": "execute_result"
    }
   ],
   "source": [
    "c = 0.0\n",
    "m = 1.0\n",
    "function point_mass(x, u)\n",
    "   # x = state[1]                #x_1 = ẋ\n",
    "    ẋ = x[3]\n",
    "    ẍ = -(c/m)*ẋ + u[1]/(m)  #x_2 = ẍ = (-c/m)ẋ + u/m \n",
    "    #y = state[3]\n",
    "    ẏ = x[4]\n",
    "    ÿ = -(c/m)*ẏ + u[2]/(m)  #x_2 = ẍ = (-c/m)ẋ + u/m \n",
    "    return [ẋ; ẏ; ẍ; ÿ]\n",
    "end"
   ]
  },
  {
   "cell_type": "markdown",
   "metadata": {},
   "source": [
    "### Linearizing and discretizing the dynamics"
   ]
  },
  {
   "cell_type": "code",
   "execution_count": 4,
   "metadata": {},
   "outputs": [],
   "source": [
    "function lin_dyn_discrete(dynamics, x, u, dt)\n",
    "    A = ForwardDiff.jacobian(dx -> dynamics(dx, u), x)\n",
    "    B = ForwardDiff.jacobian(du -> dynamics(x, du), u)\n",
    "    A = dt .* A + I\n",
    "    B = dt .* B\n",
    "    return A, B\n",
    "end\n",
    "x = [0; 0; 0 ;0]\n",
    "u = [0; 0];"
   ]
  },
  {
   "cell_type": "code",
   "execution_count": 5,
   "metadata": {},
   "outputs": [
    {
     "data": {
      "text/plain": [
       "8×2 Matrix{Float64}:\n",
       " 0.0   0.0\n",
       " 0.0   0.0\n",
       " 0.0   0.0\n",
       " 0.0   0.0\n",
       " 0.0   0.0\n",
       " 0.0   0.0\n",
       " 0.01  0.0\n",
       " 0.0   0.01"
      ]
     },
     "execution_count": 5,
     "metadata": {},
     "output_type": "execute_result"
    }
   ],
   "source": [
    "A1, B1 = lin_dyn_discrete(point_mass, x, u, 0.01)\n",
    "A2, B2 = lin_dyn_discrete(point_mass, x, u, 0.01)\n",
    "A = blockdiag(sparse(A1), sparse(A2))\n",
    "B1Shape = size(B1)\n",
    "B2Shape = size(B2)\n",
    "B1 = [sparse(B1); zeros(B2Shape)]\n",
    "B2 = [zeros(B1Shape); B2]"
   ]
  },
  {
   "cell_type": "markdown",
   "metadata": {},
   "source": [
    "### Cost function"
   ]
  },
  {
   "cell_type": "code",
   "execution_count": 36,
   "metadata": {},
   "outputs": [
    {
     "data": {
      "text/plain": [
       "cost (generic function with 1 method)"
      ]
     },
     "execution_count": 36,
     "metadata": {},
     "output_type": "execute_result"
    }
   ],
   "source": [
    "# Constraint \n",
    "obstacle = [10.0, 10.0, 0.0, 0.0]\n",
    "dmax = 2.0\n",
    "ρ = 500.0\n",
    "# Q = 0.1*I(4) #state cost for point mass 1\n",
    "# R = 10.0*I(2)\n",
    "# Qn = 10.0*I(4)\n",
    "function cost(Qi, Rii, Rij, Qni, x, ui, uj, xgoal, uigoal, ujgoal, B)\n",
    "\n",
    "    goal = x - xgoal# check x or x̂\n",
    "    rel_dist = (x[1:2] - x[5:6])'*I*(x[1:2] - x[5:6])\n",
    "    if B \n",
    "        return 0.5*goal'*Qni*goal #+ ρ/(exp(rel_dist))\n",
    "    else            \n",
    "        dx = x - xgoal\n",
    "        dui = ui - uigoal\n",
    "        duj = uj - ujgoal\n",
    "#         c = (rel_dist - dmax)\n",
    "#         if c < 0\n",
    "#             c = 0.0000000000000001\n",
    "#         end\n",
    "\n",
    "        return 0.5*(dx'*Qi*dx + dui'*Rii*dui + duj'*Rij*duj) + ρ*(min(sqrt(rel_dist) - dmax, 0))^2 #- (ρ)*log2(c)\n",
    "        \n",
    "    end\n",
    "end"
   ]
  },
  {
   "cell_type": "markdown",
   "metadata": {},
   "source": [
    "## Quadriticize the cost function"
   ]
  },
  {
   "cell_type": "code",
   "execution_count": 37,
   "metadata": {},
   "outputs": [
    {
     "data": {
      "text/plain": [
       "quadratic_cost (generic function with 1 method)"
      ]
     },
     "execution_count": 37,
     "metadata": {},
     "output_type": "execute_result"
    }
   ],
   "source": [
    "function quadratic_cost(cost_fun, Qi, Rii, Rij, Qni, x, ui, uj, xgoal, uigoal, ujgoal, B)\n",
    "    \"\"\"\n",
    "    2nd order Taylor expansion of cost at t\n",
    "    I neglected the mixed paritals in the hessian\n",
    "    \"\"\"\n",
    "    Q̂i = ForwardDiff.hessian(dx -> cost_fun(Qi, Rii, Rij, Qni, dx, ui, uj, xgoal, uigoal, ujgoal, B), x)\n",
    "    l̂i = ForwardDiff.gradient(dx -> cost_fun(Qi, Rii, Rij, Qni, dx, ui, uj, xgoal, uigoal, ujgoal, B), x)\n",
    "    R̂ii = ForwardDiff.hessian(du -> cost_fun(Qi, Rii, Rij, Qni, x, du, uj, xgoal, uigoal, ujgoal, B), ui)\n",
    "    r̂ii = ForwardDiff.gradient(du -> cost_fun(Qi, Rii, Rij, Qni, x, du, uj, xgoal, uigoal, ujgoal, B), ui)\n",
    "    R̂ij = ForwardDiff.hessian(du -> cost_fun(Qi, Rii, Rij, Qni, x, ui, du, xgoal, uigoal, ujgoal, B), uj)\n",
    "    r̂ij = ForwardDiff.gradient(du -> cost_fun(Qi, Rii, Rij, Qni, x, ui, du, xgoal, uigoal, ujgoal, B), uj)\n",
    "\n",
    "    if B\n",
    "        dx = x - xgoal\n",
    "        dui = zeros(size(ui))\n",
    "        duj = zeros(size(uj))\n",
    "    else\n",
    "        dx = x - xgoal\n",
    "        dui = ui - uigoal\n",
    "        duj = uj - ujgoal\n",
    "    end\n",
    "    cost = 0.5 * dx' * (Q̂i*dx + 2*l̂i) + 0.5 * dui' * (R̂ii*dui + 2*r̂ii) + 0.5 * duj' * (R̂ij*duj + 2*r̂ij)\n",
    "    return cost, Q̂i, l̂i, R̂ii, r̂ii, R̂ij, r̂ij\n",
    "end"
   ]
  },
  {
   "cell_type": "markdown",
   "metadata": {},
   "source": [
    "## Create costs for the 2 players"
   ]
  },
  {
   "cell_type": "code",
   "execution_count": 53,
   "metadata": {},
   "outputs": [],
   "source": [
    "Q1 = sparse(zeros(8,8)) #state cost for point mass 1\n",
    "Q1[1,1] = 1; Q1[2,2] = 1; Q1[3,3] = 1; Q1[4,4] = 1;\n",
    "Qn1 = Q1\n",
    "Q2 = sparse(zeros(8,8))   #state cost for point mass 2\n",
    "Q2[5,5] = 1; Q2[6,6] = 1; Q2[7,7] = 1; Q2[8,8] = 1;\n",
    "Qn2 = Q2\n",
    "R11 = 1*I(2)    #Control cost for player 1\n",
    "R22 = 1*I(2)    #Contorl cost for player 2\n",
    "R12 = sparse(zeros(2,2))    #Control cost for player 1 associated with player 2's controls\n",
    "R21 = sparse(zeros(2,2));    #Control cost for player 2 associated with player 1's controls"
   ]
  },
  {
   "cell_type": "code",
   "execution_count": 39,
   "metadata": {},
   "outputs": [
    {
     "data": {
      "text/plain": [
       "2.0e6"
      ]
     },
     "execution_count": 39,
     "metadata": {},
     "output_type": "execute_result"
    }
   ],
   "source": [
    "x = [1; 2; 0 ;0; 5; 1; 0; 0]\n",
    "xgoal = [1; 2; 0 ;0; 6; 2; 0; 1]\n",
    "u1 = [200; 0]; u2 = [1; 0];\n",
    "u1goal = [0; 0]; u2goal = [0; 0]; \n",
    "cost(Q1, R11, R12, Qn1, x, u1, u2, xgoal, u1goal, u2goal, false)"
   ]
  },
  {
   "cell_type": "markdown",
   "metadata": {},
   "source": [
    "## Player 1 "
   ]
  },
  {
   "cell_type": "code",
   "execution_count": 40,
   "metadata": {},
   "outputs": [
    {
     "data": {
      "text/plain": [
       "(6.0e6, [1.0 0.0 … 0.0 0.0; 0.0 1.0 … 0.0 0.0; … ; 0.0 0.0 … 0.0 0.0; 0.0 0.0 … 0.0 0.0], [0.0, 0.0, 0.0, 0.0, 0.0, 0.0, 0.0, 0.0], [100.0 0.0; 0.0 100.0], [20000.0, 0.0], [0.0 0.0; 0.0 0.0], [0.0, 0.0])"
      ]
     },
     "execution_count": 40,
     "metadata": {},
     "output_type": "execute_result"
    }
   ],
   "source": [
    "~, Q1, l1, R11, r11, R12, r12 = quadratic_cost(cost, Q1, R11, R12, Qn1, x, u1, u2, xgoal, u1goal, u2goal, false)"
   ]
  },
  {
   "cell_type": "markdown",
   "metadata": {},
   "source": [
    "## Player 2"
   ]
  },
  {
   "cell_type": "code",
   "execution_count": 41,
   "metadata": {},
   "outputs": [
    {
     "data": {
      "text/plain": [
       "(154.5, [0.0 0.0 … 0.0 0.0; 0.0 0.0 … 0.0 0.0; … ; 0.0 0.0 … 1.0 0.0; 0.0 0.0 … 0.0 1.0], [0.0, 0.0, 0.0, 0.0, -1.0, -1.0, 0.0, -1.0], [100.0 0.0; 0.0 100.0], [100.0, 0.0], [0.0 0.0; 0.0 0.0], [0.0, 0.0])"
      ]
     },
     "execution_count": 41,
     "metadata": {},
     "output_type": "execute_result"
    }
   ],
   "source": [
    "~, Q2, l2, R22, r22, R21, r21 = quadratic_cost(cost, Q2, R22, R21, Qn2, x, u2, u1, xgoal, u2goal, u1goal, false)"
   ]
  },
  {
   "cell_type": "markdown",
   "metadata": {},
   "source": [
    "#### Point Mass Discrete"
   ]
  },
  {
   "cell_type": "markdown",
   "metadata": {},
   "source": [
    "$$ \\frac{d}{dt}x = Ax + \\sum Bu$$\n",
    "\n",
    "Single 2D point mass:\n",
    "$$\\frac{d}{dt}\\begin{bmatrix} x \\\\ y \\\\ \\dot{x} \\\\ \\dot{y}\\end{bmatrix} =  \n",
    " \\begin{bmatrix} 0 & 0 & 1 & 0 \\\\ 0 & 0 & 0 & 1 \\\\ 0 & 0 & -c/m & 0 \\\\ 0 & 0 & 0 & -c/m \\end{bmatrix}\n",
    " \\begin{bmatrix} x \\\\ y \\\\ \\dot{x} \\\\ \\dot{y}\\end{bmatrix} + \n",
    " \\begin{bmatrix} 0 & 0 \\\\ 0 & 0 \\\\ 1/m & 0 \\\\ 0 & 1/m \\end{bmatrix}\n",
    " \\begin{bmatrix} u_x \\\\ u_y\\end{bmatrix} $$\n",
    "\n",
    "two 2D point masses:\n",
    "$$\\frac{d}{dt}\\begin{bmatrix} x_1 \\\\ y_1 \\\\ \\dot{x}_1 \\\\ \\dot{y}_1 \\\\ x_2 \\\\ y_2 \\\\ \\dot{x}_2 \\\\ \\dot{y}_2\\end{bmatrix} =  \n",
    " \\begin{bmatrix} 0 & 0 & 1 & 0 & 0 & 0 & 0 & 0\\\\ \n",
    "                0 & 0 & 0 & 1 & 0 & 0 & 0 & 0 \\\\ \n",
    "                0 & 0 & -c/m_1 & 0 & 0 & 0 & 0 & 0\\\\ \n",
    "                0 & 0 & 0 & -c/m_1 & 0 & 0 & 0 & 0\\\\\n",
    "                0 & 0 & 0 & 0 & 0 & 0 & 1 & 0\\\\ \n",
    "                0 & 0 & 0 & 0 & 0 & 0 & 0 & 1\\\\ \n",
    "                0 & 0 & 0 & 0 & 0 & 0 & -c/m_2 & 0\\\\ \n",
    "                0 & 0 & 0 & 0 & 0 & 0 & 0 & -c/m_2\\\\ \\end{bmatrix}\n",
    " \\begin{bmatrix} x_1 \\\\ y_1 \\\\ \\dot{x}_1 \\\\ \\dot{y}_1 \\\\ x_2 \\\\ y_2 \\\\ \\dot{x}_2 \\\\ \\dot{y}_2\\end{bmatrix} + \n",
    " \\begin{bmatrix} 0 & 0 \\\\ 0 & 0 \\\\ 1/m_1 & 0 \\\\ 0 & 1/m_1 \\\\ 0 & 0 \\\\ 0 & 0 \\\\ 0 & 0 \\\\ 0 & 0\\end{bmatrix}\n",
    " \\begin{bmatrix} u_x^1 \\\\ u_y^1 \\end{bmatrix} +\n",
    " \\begin{bmatrix} 0 & 0 \\\\ 0 & 0 \\\\ 0 & 0 \\\\ 0 & 0 \\\\ 0 & 0 \\\\ 0 & 0 \\\\ 1/m_2 & 0 \\\\ 0 & 1/m_2\\end{bmatrix}\n",
    " \\begin{bmatrix} u_x^2 \\\\ u_y^2 \\end{bmatrix}  $$\n"
   ]
  },
  {
   "cell_type": "markdown",
   "metadata": {},
   "source": [
    "### State and input Jacobian of 2 point masses"
   ]
  },
  {
   "cell_type": "code",
   "execution_count": null,
   "metadata": {},
   "outputs": [],
   "source": []
  },
  {
   "cell_type": "code",
   "execution_count": 12,
   "metadata": {},
   "outputs": [],
   "source": [
    "# x0 = [0; 0; 1; 0; 0; 0; 0; 0]\n",
    "# xref = [2; 1; 1; 2; 0; 0; 0; 0]\n",
    "# function cost(xref, x0)\n",
    "#     x_k = copy(xref - x0)\n",
    "#     c1 = 0\n",
    "#     c2 = 0\n",
    "#     for k in length(k_steps)\n",
    "#         K1 = -sparse([0.1 0.1 0.1 0.0 0.0 0.0 0.0 0.0; 0.0 0.0 0.0 0.0 0.0 0.0 0.0 0.0])\n",
    "#         K2 = -sparse([0.3 -0.1 0.2 0.0 0.0 0.0 0.0 0.0; 0.0 0.0 0.0 0.0 0.0 0.0 0.0 0.0])\n",
    "#         u1 = K1*x_k\n",
    "#         u2 = K2*x_k\n",
    "#         x_k = Ad*x_k + B1d*u1 + B2d*u2\n",
    "#         c1 += x_k'*Q1*x_k + u1'*R11*u1 + u2'*R12*u2\n",
    "#         c2 += x_k'*Q2*x_k + u2'*R22*u2 + u2'*R21*u2\n",
    "#     end\n",
    "#     return c1,c2\n",
    "# end"
   ]
  },
  {
   "cell_type": "markdown",
   "metadata": {},
   "source": [
    "\\begin{bmatrix} S11 & S12 \\\\ S21 & S22 \\end{bmatrix}\n",
    "\\begin{bmatrix} P1 \\\\ P2 \\end{bmatrix} = \n",
    "\\begin{bmatrix} Y1 \\\\ Y2 \\end{bmatrix}"
   ]
  },
  {
   "cell_type": "markdown",
   "metadata": {},
   "source": [
    "\\begin{bmatrix} R^{11} + (B^{1'} * V₁ * B^1) & (B^{1'} * V₁ * B^2) \\\\ (B^{2'} * V_2 * B^1) & R^{22} + (B^{2'} * V_2 * B^2) \\end{bmatrix}"
   ]
  },
  {
   "cell_type": "code",
   "execution_count": 13,
   "metadata": {},
   "outputs": [
    {
     "ename": "LoadError",
     "evalue": "UndefVarError: k_steps not defined",
     "output_type": "error",
     "traceback": [
      "UndefVarError: k_steps not defined",
      "",
      "Stacktrace:",
      " [1] top-level scope",
      "   @ :0",
      " [2] eval",
      "   @ ./boot.jl:360 [inlined]",
      " [3] include_string(mapexpr::typeof(REPL.softscope), mod::Module, code::String, filename::String)",
      "   @ Base ./loading.jl:1116"
     ]
    }
   ],
   "source": [
    "k_steps"
   ]
  },
  {
   "cell_type": "code",
   "execution_count": 56,
   "metadata": {},
   "outputs": [],
   "source": [
    "# n = 8 #8 states\n",
    "# m = 2 #2 controls\n",
    "# function lqGame!(n, m)\n",
    "#     \"\"\"\n",
    "#     Input\n",
    "#     Ad is an nxn matrix (8x8)\n",
    "#     B1d is an nxm matrix (8x2)\n",
    "#     B2d is an nxm matrix (8x2)\n",
    "#     u is mx1 (2x1)\n",
    "#     Q1 is an nxn matrix (8x8)\n",
    "#     Q2 is an nxn matrix (8x8)\n",
    "#     R11 is an mxm matrix (2x2)\n",
    "#     R12 is an mxm matrix (2x2)\n",
    "#     R21 is an mxm matrix (2x2)\n",
    "#     R22 is an mxm matrix (2x2)\n",
    "#     Output\n",
    "#     P₁ is an mxn matrix (2x8)\n",
    "#     P₂ is an mxn matrix (2x8)\n",
    "#     \"\"\"\n",
    "\n",
    "#     V₁ = copy(Q1) #at last time step\n",
    "#     V₂ = copy(Q2) #at last time step\n",
    "#     P₁ = zeros(k_steps, n*m)\n",
    "#     P₂ = zeros(k_steps, n*m)\n",
    "#     #α₁ = zeros(T[1], m)\n",
    "#     #α₂ = zeros(T[1], m)\n",
    "\n",
    "#     for t in 1:k_steps\n",
    "#         # solving for Ps, check equation 19 in document\n",
    "#         # Player 1\n",
    "#         S11 = R11 + (B1d' * V₁ * B1d) #2x2\n",
    "#         S12 = B1d' * V₁ * B2d # 2x2\n",
    "#         S22 = R22 + (B2d' * V₂ * B2d)\n",
    "#         S21 = B2d' * V₂ * B1d \n",
    "#         S = [S11 S12; S21 S22] # 4x4\n",
    "#         Y1 = B1d' * V₁ * Ad # 2x8\n",
    "#         Y2 = B2d' * V₂ * Ad \n",
    "#         Y = [Y1; Y2] # 4 x 8\n",
    "#         P = S\\Y\n",
    "#         P₁ₜ = P[1:2, :]\n",
    "#         P₂ₜ = P[3:4, :]\n",
    "#         # Player 2\n",
    "#         # Assign Values\n",
    "#         P₁[t, :] = reshape(P₁ₜ, (1, n*m))\n",
    "#         P₂[t, :] = reshape(P₂ₜ, (1, n*m))\n",
    "#         #Update value function(s)\n",
    "#         Fₜ = Ad - (B1d*P₁ₜ + B2d*P₂ₜ)\n",
    "#         V₁ = Q1 + (P₁ₜ' * R11 * P₁ₜ) + (P₂ₜ' * R12 * P₂ₜ) + (Fₜ' * V₁ * Fₜ)\n",
    "#         V₂ = Q2 + (P₁ₜ' * R21 * P₁ₜ) + (P₂ₜ' * R22 * P₂ₜ) + (Fₜ' * V₂ * Fₜ)\n",
    "#         #K[i, :] = reshape(transpose(K_i), (n*m,1))\n",
    "#         #println(\"f\",reshape(K[i, :], (2,4))\n",
    "#     end\n",
    "#     return P₁, P₂#, α₁, α₂\n",
    "# end"
   ]
  },
  {
   "cell_type": "code",
   "execution_count": 42,
   "metadata": {},
   "outputs": [
    {
     "data": {
      "text/plain": [
       "lqGame! (generic function with 2 methods)"
      ]
     },
     "execution_count": 42,
     "metadata": {},
     "output_type": "execute_result"
    }
   ],
   "source": [
    "n = 8 #8 states\n",
    "m = 2 #2 controls\n",
    "function lqGame!(Aₜ, B1ₜ, B2ₜ, Q1ₜ, Q2ₜ, l1ₜ, l2ₜ, R11ₜ, R12ₜ, R21ₜ, R22ₜ, r11ₜ, r22ₜ, r12ₜ, r21ₜ)\n",
    "    \"\"\"\n",
    "    Input\n",
    "    Ad is an nxn matrix (8x8)\n",
    "    B1d is an nxm matrix (8x2)\n",
    "    B2d is an nxm matrix (8x2)\n",
    "    u is mx1 (2x1)\n",
    "    Q1 is an nxn matrix (8x8)\n",
    "    Q2 is an nxn matrix (8x8)\n",
    "    l1 is a 8x1\n",
    "    R11 is an mxm matrix (2x2)\n",
    "    R12 is an mxm matrix (2x2)\n",
    "    R21 is an mxm matrix (2x2)\n",
    "    R22 is an mxm matrix (2x2)\n",
    "    Output\n",
    "    P₁ is an mxn matrix (2x8)\n",
    "    P₂ is an mxn matrix (2x8)\n",
    "    α₁ (1x2)\n",
    "    ζ₁ is an nx1 matrix (8x1)\n",
    "    \"\"\"\n",
    "    V₁ = copy(Q1ₜ[:,:,end]) #at last time step\n",
    "    V₂ = copy(Q2ₜ[:,:,end]) #at last time step\n",
    "\n",
    "    ζ₁ = copy(l1ₜ[:,end]) #at last time step\n",
    "    ζ₂ = copy(l2ₜ[:,end]) #at last time step\n",
    "\n",
    "    P₁ = zeros(Float32, (m, n, k_steps))\n",
    "    P₂ = zeros(Float32, (m, n, k_steps))\n",
    "    \n",
    "    α₁ = zeros(Float32, (m, k_steps))\n",
    "    α₂ = zeros(Float32, (m, k_steps))\n",
    "\n",
    "    for t in (k_steps-1):-1:1\n",
    "        # solving for Ps, check equation 19 in document\n",
    "        S11 = R11ₜ[:,:,t] + (B1ₜ[:,:,t]' * V₁ * B1ₜ[:,:,t]) #2x2\n",
    "        S12 = B1ₜ[:,:,t]' * V₁ * B2ₜ[:,:,t] # 2x2\n",
    "        S22 = R22ₜ[:,:,t] + (B2ₜ[:,:,t]' * V₂ * B2ₜ[:,:,t])\n",
    "        S21 = B2ₜ[:,:,t]' * V₂ * B1ₜ[:,:,t]\n",
    "        S = [S11 S12; S21 S22] # 4x4\n",
    "        Y1 = B1ₜ[:,:,t]' * V₁ * Aₜ[:,:,t] # 2x8\n",
    "        Y2 = B2ₜ[:,:,t]' * V₂ * Aₜ[:,:,t] \n",
    "        Y = [Y1; Y2] # 4 x 8\n",
    "        P = S\\Y # 4x8\n",
    "        P₁[:,:,t] = P[1:2, :]\n",
    "        P₂[:,:,t] = P[3:4, :]\n",
    "        \n",
    "        # solve for αs (right hand side of the eqn)\n",
    "        Yα1 = (B1ₜ[:,:,t]' * ζ₁) + r11ₜ[:,t] # 2x2\n",
    "        Yα2 = (B2ₜ[:,:,t]' * ζ₂) + r22ₜ[:,t] # 2x2\n",
    "        Yα = [Yα1; Yα2]  # 4x2\n",
    "        α = S\\Yα # 4x2\n",
    "        α₁[:,t] = α[1:2, :]\n",
    "        α₂[:,t] = α[3:4, :]\n",
    "        \n",
    "        #Update value function(s)\n",
    "        Fₜ = Aₜ[:,:,t] - (B1ₜ[:,:,t]*P₁[:,:,t] + B2ₜ[:,:,t]*P₂[:,:,t])\n",
    "        \n",
    "        βₜ = - (B1ₜ[:,:,t] * α₁[:,t] + B2ₜ[:,:,t] * α₂[:,t])\n",
    "        \n",
    "        ζ₁ = l1ₜ[:,t] + ((P₁[:,:,t]' * R11ₜ[:,:,t] * α₁[:,t]) - (P₁[:,:,t]' * r11ₜ[:,t])) + \n",
    "            ((P₂[:,:,t]' * R12ₜ[:,:,t] * α₂[:,t]) - (P₂[:,:,t]' * r12ₜ[:,t])) + Fₜ'*(ζ₁ + (V₁ * βₜ))\n",
    "        \n",
    "        ζ₂ = l2ₜ[:,t] + ((P₁[:,:,t]' * R21ₜ[:,:,t] * α₁[:,t]) - (P₁[:,:,t]' * r21ₜ[:,t])) + \n",
    "            ((P₂[:,:,t]' * R22ₜ[:,:,t] * α₂[:,t]) - (P₂[:,:,t]' * r22ₜ[:,t])) + Fₜ'*(ζ₂ + (V₂ * βₜ))\n",
    "        \n",
    "        V₁ = Q1ₜ[:,:,t] + (P₁[:,:,t]' * R11ₜ[:,:,t] * P₁[:,:,t]) + \n",
    "            (P₂[:,:,t]' * R12ₜ[:,:,t] * P₂[:,:,t]) + (Fₜ' * V₁ * Fₜ)\n",
    "        \n",
    "        V₂ = Q2ₜ[:,:,t] + (P₁[:,:,t]' * R21ₜ[:,:,t] * P₁[:,:,t]) + \n",
    "            (P₂[:,:,t]' * R22ₜ[:,:,t] * P₂[:,:,t]) + (Fₜ' * V₂ * Fₜ)\n",
    "    end\n",
    "    return P₁, P₂, α₁, α₂\n",
    "end"
   ]
  },
  {
   "cell_type": "code",
   "execution_count": 55,
   "metadata": {},
   "outputs": [],
   "source": [
    "# function Rollout_RK4(fun, x₀, x̂, û, H, dt, P, α, α_scale)\n",
    "#     \"\"\"\n",
    "#     Rollout dynamics with initial state x₀ \n",
    "#     and control law u = -Px - α\n",
    "#     P is an n x b gain matrix\n",
    "#     α is m x 1\n",
    "#     \"\"\"\n",
    "#     umax = [2,2]\n",
    "#     umin = [-1,-1]\n",
    "    \n",
    "#     m = 2 #2 controls\n",
    "#     k_steps = trunc(Int, H/dt) \n",
    "#     xₜ = zeros(k_steps, length(x₀)) # 1500 x n\n",
    "#     uₜ = zeros(k_steps, m)\n",
    "#     xₜ[1,:] .= x₀\n",
    "#     for t=1:(k_steps-1)\n",
    "#         # WHAT IS x̂ in xₜ[t,:] - x̂\n",
    "#         #uₜ[t,:] .= clamp.([0,0] - P[:,:,t]*(xₜ[t,:] - [20,20,0,0]) - α[:,t], umin, umax)\n",
    "#         uₜ[t,:] .= clamp.(û[t,:] - P[:,:,t]*(xₜ[t,:] - x̂[t,:]) - α_scale*α[:,t], umin, umax)\n",
    "#         k1 = fun(xₜ[t,:], uₜ[t,:])\n",
    "#         k2 = fun(xₜ[t,:] + 0.5*dt*k1, uₜ[t,:])\n",
    "#         k3 = fun(xₜ[t,:] + 0.5*dt*k2, uₜ[t,:])\n",
    "#         k4 = fun(xₜ[t,:] + dt*k3, uₜ[t,:])\n",
    "#         xₜ[t+1,:] = xₜ[t,:] + (dt/6.0)*(k1 + 2*k2 + 2*k3 + k4)\n",
    "#     end\n",
    "    \n",
    "#     return xₜ, uₜ\n",
    "# end"
   ]
  },
  {
   "cell_type": "code",
   "execution_count": 44,
   "metadata": {},
   "outputs": [
    {
     "data": {
      "text/plain": [
       "isConverged (generic function with 2 methods)"
      ]
     },
     "execution_count": 44,
     "metadata": {},
     "output_type": "execute_result"
    }
   ],
   "source": [
    "function isConverged(current, last, tolerance = 1e-4)\n",
    "    if norm(current - last) > tolerance\n",
    "        return false\n",
    "    else \n",
    "        return true\n",
    "    end\n",
    "end"
   ]
  },
  {
   "cell_type": "code",
   "execution_count": 46,
   "metadata": {},
   "outputs": [],
   "source": [
    "# n1 = 4\n",
    "# n2 = 4\n",
    "# m1 = 2\n",
    "# m2 = 2\n",
    "# dt = 0.1 #step size\n",
    "# H = 10.0  #Horizon\n",
    "# k_steps = trunc(Int, H/dt) \n",
    "# x1₀= [1.0; 0.0; 0.0; 0.0] \n",
    "# x2₀ = [0.0; 1.0; 0.0; 0.0]\n",
    "# x1goal = [1.0; 3.0; 0.0; 0.0]\n",
    "# x2goal = [3.0; 1.0; 0.0; 0.0]\n",
    "# x̂₁ = zeros(k_steps, n1) # 1500 x need\n",
    "# x̂₂ = zeros(k_steps, n2) # 1500 x need\n",
    "# û₁ = zeros(k_steps, m1)\n",
    "# û₂ = zeros(k_steps, m2) \n",
    "# P₁ = rand(m1, n1, k_steps)*0.1\n",
    "# P₂ = rand(m2, n2, k_steps)*0.1\n",
    "# α₁ = rand(m1, k_steps)*0.1\n",
    "# α₂ = rand(m2, k_steps)*0.1\n",
    "\n",
    "# # Rollout player 1\n",
    "# x1ₜ, u1ₜ = Rollout_RK4(point_mass, x1₀, x̂₁, û₁, H, dt, P₁, α₁, 1.0) #xₜ is [k_steps, 4]\n",
    "\n",
    "# # Rollout player 2\n",
    "# x2ₜ, u2ₜ = Rollout_RK4(point_mass, x2₀, x̂₂, û₂, H, dt, P₂, α₂, 1.0) #xₜ is [k_steps, 4]\n",
    "\n",
    "\n",
    "# Aₜ = zeros(Float32, (n, n, k_steps))\n",
    "# B1ₜ = zeros(Float32, (n, m, k_steps))\n",
    "# B2ₜ = zeros(Float32, (n, m, k_steps))\n",
    "\n",
    "# Q1ₜ = zeros(Float32, (n, n, k_steps))\n",
    "# Q2ₜ = zeros(Float32, (n, n, k_steps))\n",
    "\n",
    "# l1ₜ = zeros(Float32, (n, k_steps))\n",
    "# l2ₜ = zeros(Float32, (n, k_steps))\n",
    "\n",
    "# R11ₜ = zeros(Float32, (m, m, k_steps))\n",
    "# R12ₜ = zeros(Float32, (m, m, k_steps))\n",
    "# R22ₜ = zeros(Float32, (m, m, k_steps))\n",
    "# R21ₜ = zeros(Float32, (m, m, k_steps))\n",
    "\n",
    "# r11ₜ = zeros(Float32, (m, k_steps))\n",
    "# r12ₜ = zeros(Float32, (m, k_steps))\n",
    "# r22ₜ = zeros(Float32, (m, k_steps))\n",
    "# r21ₜ = zeros(Float32, (m, k_steps))"
   ]
  },
  {
   "cell_type": "code",
   "execution_count": 47,
   "metadata": {},
   "outputs": [],
   "source": [
    "# #println(total_cost)\n",
    "# converged = false\n",
    "# u1goal = [0; 0]; u2goal = [0; 0]; \n",
    "# #all_cost = []\n",
    "# βreg = 1.0\n",
    "# αₗ = [1.0, 0.6, 0.4, 0.2, 0.1, 0.01]\n",
    "# while !converged\n",
    "#     converged = isConverged([x1ₜ; x2ₜ], [x̂₁; x̂₂], 1e-2)\n",
    "#     #println(converged)\n",
    "#     total_cost1 = 0\n",
    "#     total_cost2 = 0\n",
    "#     for t = 1:(k_steps-1)\n",
    "#         # 2. Linearize dynamics about trajectory\n",
    "#         # WHAT IS x̂ in xₜ[t,:] - x̂\n",
    "#        # x[1:4]; x[5:end]\n",
    "#         dx1 = x1ₜ[t,:] - x̂₁[t,:]\n",
    "#         dx2 = x2ₜ[t,:] - x̂₂[t,:]\n",
    "#         du1 = u1ₜ[t,:] - û₁[t,:]\n",
    "#         du2 = u2ₜ[t,:] - û₂[t,:]\n",
    "#         #Aₜ[:,:,t], Bₜ[:,:,t] = lin_dyn_discrete(point_mass, dx, du, dt)\n",
    "\n",
    "#         A1, B1 = lin_dyn_discrete(point_mass, dx1, du1, dt)\n",
    "#         A2, B2 = lin_dyn_discrete(point_mass, dx2, du2, dt)\n",
    "#         Aₜ[:,:,t] = blockdiag(sparse(A1), sparse(A2))\n",
    "#         B1Shape = size(B1)\n",
    "#         B2Shape = size(B2)\n",
    "#         B1ₜ[:,:,t] = [sparse(B1); zeros(B2Shape)]\n",
    "#         B2ₜ[:,:,t] = [zeros(B1Shape); B2]\n",
    "#         # 3. Compute second order Taylor series expansion the cost function\n",
    "#         # WHAT IS x̂ in xₜ[t,:] - x̂\n",
    "#         #costval, Qₜ[:,:,t], lₜ[:,t], Rₜ[:,:,t], rₜ[:,t] = quadratic_cost(cost, xₜ[t,:], uₜ[t,:], xgoal, ugoal, false)\n",
    "#         #Player 1 cost\n",
    "#         costval1, Q1ₜ[:,:,t], l1ₜ[:,t], R11ₜ[:,:,t], r11ₜ[:,t], R12ₜ[:,:,t], r12ₜ[:,t] = quadratic_cost(cost, Q1, R11, R12, Qn1, [x1ₜ[t,:]; x2ₜ[t,:]], u1ₜ[t,:], u2ₜ[t,:], [x1goal; x2goal], u1goal, u2goal, false)\n",
    "#         #Player 2 cost\n",
    "#         costval2, Q2ₜ[:,:,t], l2ₜ[:,t], R22ₜ[:,:,t], r22ₜ[:,t], R21ₜ[:,:,t], r21ₜ[:,t] = quadratic_cost(cost, Q2, R22, R21, Qn2, [x1ₜ[t,:]; x2ₜ[t,:]], u1ₜ[t,:], u2ₜ[t,:], [x1goal; x2goal], u1goal, u2goal, false)\n",
    "#         # Regularization\n",
    "#         while !isposdef(Q1ₜ[:,:,t])\n",
    "#             Q1ₜ[:,:,t] = Q1ₜ[:,:,t] + βreg*I\n",
    "#         end\n",
    "#         while !isposdef(Q2ₜ[:,:,t])\n",
    "#             Q2ₜ[:,:,t] = Q2ₜ[:,:,t] + βreg*I\n",
    "#         end\n",
    "#         # @show Rₜ[:,:,t] \n",
    "#         total_cost1 += costval1\n",
    "#         total_cost2 += costval2\n",
    "#     end\n",
    "#     #Player 1 Terminal cost\n",
    "#     costval1, Q1ₜ[:,:,end], l1ₜ[:,end], R11ₜ[:,:,end], r11ₜ[:,end], R12ₜ[:,:,end], r12ₜ[:,end] = quadratic_cost(cost, Q1, R11, R12, Qn1, [x1ₜ[end,:]; x2ₜ[end,:]], u1ₜ[end,:], u2ₜ[end,:], [x1goal; x2goal], u1goal, u2goal, true)\n",
    "#     #Player 2 Terminal cost\n",
    "#     costval2, Q2ₜ[:,:,end], l2ₜ[:,end], R22ₜ[:,:,end], r22ₜ[:,end], R21ₜ[:,:,end], r21ₜ[:,end] = quadratic_cost(cost, Q2, R22, R21, Qn2, [x1ₜ[end,:]; x2ₜ[end,:]], u1ₜ[end,:], u2ₜ[end,:], [x1goal; x2goal], u1goal, u2goal, true)\n",
    "\n",
    "#     total_cost1 += costval1\n",
    "#     total_cost2 += costval2\n",
    "\n",
    "#     # @show costs[end]\n",
    "#     # 4. Do lqr\n",
    "#     #P, α = affinelq!(Aₜ, Bₜ, Qₜ, lₜ, Rₜ , rₜ);\n",
    "#     P₁, P₂, α₁, α₂ = lqGame!(Aₜ, B1ₜ, B2ₜ, Q1ₜ, Q2ₜ, l1ₜ, l2ₜ, R11ₜ, R12ₜ, R21ₜ, R22ₜ, r11ₜ, r22ₜ, r12ₜ, r21ₜ)\n",
    "\n",
    "#     x1ₜ = x̂₁\n",
    "#     x2ₜ = x̂₂\n",
    "#     u1ₜ = û₁\n",
    "#     u2ₜ = û₂\n",
    "#     # Rollout player 1\n",
    "#     x1ₜ, u1ₜ = Rollout_RK4(point_mass, x1₀, x̂₁, û₁, H, dt, P₁[:, 1:4, :], α₁, 1.0) #xₜ is [k_steps, 4]\n",
    "\n",
    "#     # Rollout player 2\n",
    "#     x2ₜ, u2ₜ = Rollout_RK4(point_mass, x2₀, x̂₂, û₂, H, dt, P₂[:, 5:end, :], α₂, 1.0) #xₜ is [k_steps, 4]\n",
    "#     #println(converged)\n",
    "\n",
    "#     #     push!(all_cost, total_cost)\n",
    "#     #     #@show xₜ[1,:] \n",
    "#     #     #@show xₜ[end,:]\n",
    "#     @show total_cost1, total_cost2\n",
    "# end"
   ]
  },
  {
   "cell_type": "code",
   "execution_count": 54,
   "metadata": {},
   "outputs": [
    {
     "data": {
      "text/plain": [
       "rollout_PM (generic function with 1 method)"
      ]
     },
     "execution_count": 54,
     "metadata": {},
     "output_type": "execute_result"
    }
   ],
   "source": [
    "m₁ = 1\n",
    "m₂ = 1\n",
    "c = 0.1\n",
    "A1 = sparse([0 0 1 0; 0 0 0 1; 0 0 (-c/m₁) 0; 0 0 0 (-c/m₁)])\n",
    "A2 = sparse([0 0 1 0; 0 0 0 1; 0 0 (-c/m₂) 0; 0 0 0 (-c/m₂)])\n",
    "A = blockdiag(A1, A2)\n",
    "B1 = sparse([0 0; 0 0; (1/m₁) 0; 0 (1/m₁); 0 0; 0 0; 0 0; 0 0])  #Control Jacobian for point mass 1\n",
    "B2 = sparse([0 0; 0 0; 0 0; 0 0; 0 0; 0 0; (1/m₂) 0; 0 (1/m₂)])    #Control Jacobian for point mass 2\n",
    "dt = 0.1 #step size\n",
    "H = 10.0  #Horizon\n",
    "k_steps = trunc(Int, H/dt) \n",
    "\n",
    "Ad = dt .* A + I    #discretize (zero order hold)\n",
    "B1d = dt .*B1   #discrete (zero order hold)\n",
    "B2d = dt .*B2;   #discrete (zero order hold)\n",
    "Ad\n",
    "function rollout_PM(x₀, x̂, û, H, dt, P, α, α_scale)\n",
    "    umax = [2.0,2.0]\n",
    "    umin = [-2.0,-2.0]\n",
    "    m = 2 #2 controls\n",
    "    k_steps = trunc(Int, H/dt) \n",
    "    xₜ = zeros(k_steps, length(x₀)) # 1500 x n\n",
    "    u1ₜ = zeros(k_steps, m) \n",
    "    u2ₜ = zeros(k_steps, m) \n",
    "    xₜ[1,:] .= x₀\n",
    "    #xgoal = [1.0; 3.0; 0.0; 0.0; 3.0; 1.0; 0.0; 0.0]\n",
    "    for t=1:(k_steps-1)\n",
    "        u1ₜ[t,:] .= clamp.(û[1][t,:] - P[1][:,:,t]*(xₜ[t,:] - x̂[t,:]) - α_scale*α[1][:,t], umin, umax)\n",
    "        u2ₜ[t,:] .= clamp.(û[2][t,:] - P[2][:,:,t]*(xₜ[t,:] - x̂[t,:]) - α_scale*α[2][:,t], umin, umax)\n",
    "        xₜ[t+1,:] .= Ad*xₜ[t,:] + B1d*u1ₜ[t,:] + B2d*u2ₜ[t,:]\n",
    "        #xₜ[t+1,:] .= Ad*(xₜ[t,:] - x̂[t,:]) + B1d*(u1ₜ[t,:] - û[1][t,:]) + B2d*(u2ₜ[t,:] - û[2][t,:])\n",
    "    end\n",
    "    return xₜ, u1ₜ, u2ₜ\n",
    "end"
   ]
  },
  {
   "cell_type": "code",
   "execution_count": 49,
   "metadata": {},
   "outputs": [
    {
     "data": {
      "text/plain": [
       "2×100 Matrix{Float32}:\n",
       " 0.0  0.0  0.0  0.0  0.0  0.0  0.0  0.0  …  0.0  0.0  0.0  0.0  0.0  0.0  0.0\n",
       " 0.0  0.0  0.0  0.0  0.0  0.0  0.0  0.0     0.0  0.0  0.0  0.0  0.0  0.0  0.0"
      ]
     },
     "execution_count": 49,
     "metadata": {},
     "output_type": "execute_result"
    }
   ],
   "source": [
    "n = 8\n",
    "m1 = 2\n",
    "m2 = 2\n",
    "# dt = 0.1 #step size\n",
    "# H = 10.0  #Horizon\n",
    "# k_steps = trunc(Int, H/dt) \n",
    "x₀= [5.0; 0.0; 0.0; 0.0; 0.0; 5.0; 0.0; 0.0] \n",
    "xgoal = [5.0; 10.0; 0.0; 0.0; 10.0; 5.0; 0.0; 0.0]\n",
    "x̂ = zeros(k_steps, n) # 1500 x need\n",
    "û₁ = zeros(k_steps, m1)\n",
    "û₂ = zeros(k_steps, m2) \n",
    "P₁ = rand(m1, n, k_steps)*0.01\n",
    "P₂ = rand(m2, n, k_steps)*0.01\n",
    "α₁ = rand(m1, k_steps)*0.01\n",
    "α₂ = rand(m2, k_steps)*0.01\n",
    "\n",
    "P = [P₁, P₂]\n",
    "α = [α₁, α₂]\n",
    "û = [û₁, û₂]\n",
    "\n",
    "xₜ, u1ₜ, u2ₜ = rollout_PM(x₀, x̂, û, H, dt, P, α, 0.0) #xₜ is [k_steps, 4]\n",
    "\n",
    "Aₜ = zeros(Float32, (n, n, k_steps))\n",
    "B1ₜ = zeros(Float32, (n, m, k_steps))\n",
    "B2ₜ = zeros(Float32, (n, m, k_steps))\n",
    "\n",
    "Q1ₜ = zeros(Float32, (n, n, k_steps))\n",
    "Q2ₜ = zeros(Float32, (n, n, k_steps))\n",
    "\n",
    "l1ₜ = zeros(Float32, (n, k_steps))\n",
    "l2ₜ = zeros(Float32, (n, k_steps))\n",
    "\n",
    "R11ₜ = zeros(Float32, (m, m, k_steps))\n",
    "R12ₜ = zeros(Float32, (m, m, k_steps))\n",
    "R22ₜ = zeros(Float32, (m, m, k_steps))\n",
    "R21ₜ = zeros(Float32, (m, m, k_steps))\n",
    "\n",
    "r11ₜ = zeros(Float32, (m, k_steps))\n",
    "r12ₜ = zeros(Float32, (m, k_steps))\n",
    "r22ₜ = zeros(Float32, (m, k_steps))\n",
    "r21ₜ = zeros(Float32, (m, k_steps))"
   ]
  },
  {
   "cell_type": "code",
   "execution_count": 50,
   "metadata": {},
   "outputs": [
    {
     "name": "stdout",
     "output_type": "stream",
     "text": [
      "(total_cost1, total_cost2) = (16864.464385365307, 16889.909938076264)\n",
      "(total_cost1, total_cost2) = (12075.199378187166, 12093.102578412552)\n",
      "(total_cost1, total_cost2) = (-295346.83435661753, -295335.24215487216)\n",
      "(total_cost1, total_cost2) = (497692.6300197138, 497800.6478394063)\n",
      "(total_cost1, total_cost2) = (846067.6836440336, 846051.0631224022)\n",
      "(total_cost1, total_cost2) = (714388.4218035194, 714673.4774169457)\n",
      "(total_cost1, total_cost2) = (652806.2863073215, 653249.0927036721)\n",
      "(total_cost1, total_cost2) = (468634.74568701466, 469363.2884087664)\n",
      "(total_cost1, total_cost2) = (226708.9163034204, 227739.64447560508)\n",
      "(total_cost1, total_cost2) = (61657.61877610871, 62913.94790402766)\n",
      "(total_cost1, total_cost2) = (263053.54657416785, 264375.1376910338)\n",
      "(total_cost1, total_cost2) = (218128.5766537126, 219477.0310732344)\n",
      "(total_cost1, total_cost2) = (139248.02389564505, 140615.8429784626)\n",
      "(total_cost1, total_cost2) = (105279.40457479091, 106651.54298330662)\n",
      "(total_cost1, total_cost2) = (75046.58093636032, 76386.28040581594)\n",
      "(total_cost1, total_cost2) = (67098.72628662613, 68373.85449145465)\n",
      "(total_cost1, total_cost2) = (69731.77120377253, 70919.45083336854)\n",
      "(total_cost1, total_cost2) = (65490.29060990786, 66581.53167141379)\n",
      "(total_cost1, total_cost2) = (66072.21851710281, 67065.25996734847)\n",
      "(total_cost1, total_cost2) = (53016.36168884201, 53919.64064197059)\n",
      "(total_cost1, total_cost2) = (60652.30681256601, 61471.2090840711)\n",
      "(total_cost1, total_cost2) = (52681.16362721742, 53423.42068086807)\n",
      "(total_cost1, total_cost2) = (64938.01497289171, 65610.36360146257)\n",
      "(total_cost1, total_cost2) = (60624.46553226495, 61233.06436841686)\n",
      "(total_cost1, total_cost2) = (57879.67816807576, 58430.28369644855)\n",
      "(total_cost1, total_cost2) = (56208.32223578268, 56706.20272968994)\n",
      "(total_cost1, total_cost2) = (55212.18676699574, 55662.02886605183)\n",
      "(total_cost1, total_cost2) = (54722.50906331847, 55128.7839327653)\n",
      "(total_cost1, total_cost2) = (54540.02370885796, 54906.61866601793)\n",
      "(total_cost1, total_cost2) = (54565.126664439165, 54895.70169167626)\n",
      "(total_cost1, total_cost2) = (54747.8339915477, 55045.648639003826)\n",
      "(total_cost1, total_cost2) = (55023.90414611476, 55292.0653895597)\n",
      "(total_cost1, total_cost2) = (55347.03328163405, 55588.18684893864)\n",
      "(total_cost1, total_cost2) = (55700.66417163707, 55917.33213260697)\n",
      "(total_cost1, total_cost2) = (56061.907701498945, 56256.36195993608)\n",
      "(total_cost1, total_cost2) = (56418.390233487735, 56592.67301479083)\n",
      "(total_cost1, total_cost2) = (56772.58573683505, 56928.60955916077)\n",
      "(total_cost1, total_cost2) = (57114.594236408615, 57254.02914295885)\n",
      "(total_cost1, total_cost2) = (57442.21583313086, 57566.684724955325)\n",
      "(total_cost1, total_cost2) = (57745.96401336213, 57856.82494078963)\n",
      "(total_cost1, total_cost2) = (58026.681362267824, 58125.17945898024)\n",
      "(total_cost1, total_cost2) = (58285.805853337995, 58373.08931089114)\n",
      "(total_cost1, total_cost2) = (58524.5077175551, 58601.63184340527)\n",
      "(total_cost1, total_cost2) = (58740.503393767896, 58808.36982226889)\n",
      "(total_cost1, total_cost2) = (58939.328959412465, 58998.807970839975)\n",
      "(total_cost1, total_cost2) = (59120.3725523023, 59172.23364583351)\n",
      "(total_cost1, total_cost2) = (59287.05072734424, 59332.01549749899)\n",
      "(total_cost1, total_cost2) = (59438.13179722696, 59476.83769109021)\n",
      "(total_cost1, total_cost2) = (59575.162291595385, 59608.190978788305)\n",
      "(total_cost1, total_cost2) = (59698.183577273696, 59726.051038145626)\n",
      "(total_cost1, total_cost2) = (59811.30860714466, 59834.50242770499)\n",
      "(total_cost1, total_cost2) = (59913.25657442511, 59932.20836318737)\n",
      "(total_cost1, total_cost2) = (60004.16943250539, 60019.26339598242)\n",
      "(total_cost1, total_cost2) = (60085.81355816514, 60097.40041807925)\n",
      "(total_cost1, total_cost2) = (60160.46962315647, 60168.87265145735)\n",
      "(total_cost1, total_cost2) = (60230.82031009549, 60236.34389338977)\n",
      "(total_cost1, total_cost2) = (60293.52922845887, 60296.43637681999)\n",
      "(total_cost1, total_cost2) = (60348.65174431196, 60349.17890048122)\n",
      "(total_cost1, total_cost2) = (60398.81769146565, 60397.18307984133)\n",
      "(total_cost1, total_cost2) = (60443.16221040796, 60439.56150933381)\n",
      "(total_cost1, total_cost2) = (60483.95233058063, 60478.56619192164)\n",
      "(total_cost1, total_cost2) = (60521.255645802135, 60514.24798508841)\n",
      "(total_cost1, total_cost2) = (60556.49651091812, 60548.018980838024)\n",
      "(total_cost1, total_cost2) = (60587.89232246099, 60578.07903277498)\n",
      "(total_cost1, total_cost2) = (60617.37260498791, 60606.347422645085)\n",
      "(total_cost1, total_cost2) = (60643.411622852975, 60631.28583527732)\n",
      "(total_cost1, total_cost2) = (60666.47742894861, 60653.35104976644)\n",
      "(total_cost1, total_cost2) = (60687.13302006758, 60673.097101961044)\n",
      "(total_cost1, total_cost2) = (60704.416158902764, 60689.55269574709)\n",
      "(total_cost1, total_cost2) = (60720.61868004365, 60705.00346113032)\n",
      "(total_cost1, total_cost2) = (60735.60739844558, 60719.30911709758)\n",
      "(total_cost1, total_cost2) = (60749.37977964255, 60732.46080235993)\n",
      "(total_cost1, total_cost2) = (60761.977286702495, 60744.49427001352)\n",
      "(total_cost1, total_cost2) = (60773.4630171402, 60755.4673778964)\n",
      "(total_cost1, total_cost2) = (60783.93653340276, 60765.47502382374)\n",
      "(total_cost1, total_cost2) = (60793.458295280754, 60774.573385265285)\n",
      "(total_cost1, total_cost2) = (60802.12814379785, 60782.85843712049)\n",
      "(total_cost1, total_cost2) = (60809.99974914913, 60790.380311679546)\n",
      "(total_cost1, total_cost2) = (60815.83395620421, 60795.89682011153)\n",
      "(total_cost1, total_cost2) = (60821.65531275473, 60801.42967055054)\n",
      "(total_cost1, total_cost2) = (60827.23098413228, 60806.74329687936)\n",
      "(total_cost1, total_cost2) = (60832.44586695762, 60811.72010948691)\n",
      "(total_cost1, total_cost2) = (60837.28037169161, 60816.338248828906)\n",
      "(total_cost1, total_cost2) = (60841.70498312384, 60820.56629045937)\n",
      "(total_cost1, total_cost2) = (60845.74851584573, 60824.431133465936)\n",
      "(total_cost1, total_cost2) = (60849.420276187295, 60827.94052230348)\n",
      "(total_cost1, total_cost2) = (60852.77552986845, 60831.14824475667)\n",
      "(total_cost1, total_cost2) = (60855.82172937553, 60834.060339537435)\n",
      "(total_cost1, total_cost2) = (60858.578947972965, 60836.695676849246)\n",
      "(total_cost1, total_cost2) = (60861.07917409269, 60839.08516094571)\n",
      "(total_cost1, total_cost2) = (60863.348931544264, 60841.254274556195)\n",
      "(total_cost1, total_cost2) = (60865.4119961221, 60843.2258644755)\n",
      "(total_cost1, total_cost2) = (60867.284107535415, 60845.01487563777)\n",
      "(total_cost1, total_cost2) = (60868.98718375265, 60846.64242203469)\n",
      "(total_cost1, total_cost2) = (60870.5315817388, 60848.11815694826)\n",
      "(total_cost1, total_cost2) = (60871.92775986062, 60849.45193860031)\n",
      "(total_cost1, total_cost2) = (60873.20431405443, 60850.67177945385)\n",
      "(total_cost1, total_cost2) = (60874.35189794131, 60851.767836571824)\n",
      "(total_cost1, total_cost2) = (60875.407928861336, 60852.77700691395)\n",
      "(total_cost1, total_cost2) = (60877.654183144215, 60854.98097722782)\n",
      "(total_cost1, total_cost2) = (60877.77387616174, 60855.06170922633)\n",
      "(total_cost1, total_cost2) = (60879.512372325284, 60856.76528598901)\n",
      "(total_cost1, total_cost2) = (60880.606435996946, 60857.827346032835)\n",
      "(total_cost1, total_cost2) = (60881.33840259837, 60858.5301590423)\n",
      "(total_cost1, total_cost2) = (60881.88481410777, 60859.05003338153)\n",
      "(total_cost1, total_cost2) = (60882.32339297692, 60859.4644388863)\n",
      "(total_cost1, total_cost2) = (60882.69290387237, 60859.81197840626)\n",
      "(total_cost1, total_cost2) = (60883.02224501625, 60860.12132879953)\n",
      "(total_cost1, total_cost2) = (60883.30813011642, 60860.389021474904)\n",
      "(total_cost1, total_cost2) = (60883.58035653281, 60860.64471409513)\n",
      "(total_cost1, total_cost2) = (60883.82125487816, 60860.87060042517)\n",
      "(total_cost1, total_cost2) = (60884.045166942706, 60861.08087871787)\n",
      "(total_cost1, total_cost2) = (60884.26801606108, 60861.29133274669)\n",
      "(total_cost1, total_cost2) = (60884.46484946633, 60861.47690187006)\n",
      "(total_cost1, total_cost2) = (60884.65961942029, 60861.66140916547)\n",
      "(total_cost1, total_cost2) = (60884.835006154586, 60861.82747056635)\n",
      "(total_cost1, total_cost2) = (60884.99826760502, 60861.98225630148)\n",
      "(total_cost1, total_cost2) = (60885.148174270376, 60862.12445378523)\n",
      "(total_cost1, total_cost2) = (60885.286704717095, 60862.25597790003)\n",
      "(total_cost1, total_cost2) = (60885.41501682182, 60862.37791850857)\n"
     ]
    },
    {
     "name": "stdout",
     "output_type": "stream",
     "text": [
      "(total_cost1, total_cost2) = (60885.52912801666, 60862.48626907209)\n",
      "(total_cost1, total_cost2) = (60885.63783975937, 60862.58972154103)\n",
      "(total_cost1, total_cost2) = (60885.73022384889, 60862.677289870044)\n",
      "(total_cost1, total_cost2) = (60885.819108714575, 60862.76180101302)\n",
      "(total_cost1, total_cost2) = (60885.90203903923, 60862.84076175327)\n",
      "(total_cost1, total_cost2) = (60885.98027027752, 60862.91539231639)\n",
      "(total_cost1, total_cost2) = (60886.04203599047, 60862.973892912596)\n",
      "(total_cost1, total_cost2) = (60886.10382482799, 60863.032705330814)\n",
      "(total_cost1, total_cost2) = (60886.169534483684, 60863.095700661375)\n",
      "(total_cost1, total_cost2) = (60886.22253654645, 60863.146249712074)\n",
      "(total_cost1, total_cost2) = (60886.27006328603, 60863.19154274369)\n",
      "(total_cost1, total_cost2) = (60886.30857480988, 60863.227999508774)\n",
      "(total_cost1, total_cost2) = (60886.3471787201, 60863.264758589685)\n",
      "(total_cost1, total_cost2) = (60886.38332875609, 60863.299208322154)\n",
      "(total_cost1, total_cost2) = (60886.421902247544, 60863.33625485958)\n",
      "(total_cost1, total_cost2) = (60886.4468292392, 60863.359794773256)\n",
      "(total_cost1, total_cost2) = (60886.47463565714, 60863.38635745945)\n",
      "(total_cost1, total_cost2) = (60886.49931668225, 60863.409890156836)\n",
      "(total_cost1, total_cost2) = (60886.51821316106, 60863.42774814912)\n",
      "(total_cost1, total_cost2) = (60886.53988447769, 60863.44844596924)\n",
      "(total_cost1, total_cost2) = (60886.56264413272, 60863.47035979164)\n",
      "(total_cost1, total_cost2) = (60886.58404829021, 60863.49098602404)\n",
      "(total_cost1, total_cost2) = (60886.6106544731, 60863.51687443205)\n",
      "(total_cost1, total_cost2) = (60886.62618439003, 60863.531784760205)\n",
      "(total_cost1, total_cost2) = (60886.635930151984, 60863.540968709734)\n",
      "(total_cost1, total_cost2) = (60886.65063215643, 60863.55516589231)\n",
      "(total_cost1, total_cost2) = (60886.66304841902, 60863.5670941949)\n",
      "(total_cost1, total_cost2) = (60886.66757432863, 60863.571191841795)\n",
      "(total_cost1, total_cost2) = (60886.673933874205, 60863.57716111409)\n",
      "(total_cost1, total_cost2) = (60886.68306869232, 60863.58591263123)\n",
      "(total_cost1, total_cost2) = (60886.68495187717, 60863.58745211249)\n",
      "(total_cost1, total_cost2) = (60886.68579731588, 60863.5879859201)\n",
      "(total_cost1, total_cost2) = (60886.688956767466, 60863.59088005918)\n",
      "(total_cost1, total_cost2) = (60886.69580287775, 60863.5974984041)\n",
      "(total_cost1, total_cost2) = (60886.70041207437, 60863.601879076974)\n",
      "(total_cost1, total_cost2) = (60886.70680963028, 60863.6080791831)\n",
      "(total_cost1, total_cost2) = (60886.71726573727, 60863.61835001755)\n",
      "(total_cost1, total_cost2) = (60886.71604592675, 60863.616967463524)\n",
      "(total_cost1, total_cost2) = (60886.7155177637, 60863.61628932457)\n",
      "(total_cost1, total_cost2) = (60886.71422210508, 60863.61483244624)\n",
      "(total_cost1, total_cost2) = (60886.718505500015, 60863.61897041743)\n",
      "(total_cost1, total_cost2) = (60886.71615961511, 60863.61649431019)\n",
      "(total_cost1, total_cost2) = (60886.72160293741, 60863.62183008587)\n",
      "(total_cost1, total_cost2) = (60886.7263024701, 60863.62643490949)\n",
      "(total_cost1, total_cost2) = (60886.73347396797, 60863.6335197812)\n",
      "(total_cost1, total_cost2) = (60886.736527586596, 60863.636486759955)\n",
      "(total_cost1, total_cost2) = (60886.73925256586, 60863.639139108396)\n",
      "(total_cost1, total_cost2) = (60886.744640076184, 60863.6444646085)\n"
     ]
    }
   ],
   "source": [
    "#println(total_cost)\n",
    "converged = false\n",
    "u1goal = [0; 0]; u2goal = [0; 0]; \n",
    "#all_cost = []\n",
    "βreg = 1.0\n",
    "αₗ = [1.0, 0.6, 0.4, 0.2, 0.1, 0.01]\n",
    "while !converged\n",
    "#for i in 1:50\n",
    "    converged = isConverged(xₜ, x̂, 1e-6)\n",
    "    #println(converged)\n",
    "    total_cost1 = 0\n",
    "    total_cost2 = 0\n",
    "    for t = 1:(k_steps-1)\n",
    "        # 2. Linearize dynamics about trajectory\n",
    "        # WHAT IS x̂ in xₜ[t,:] - x̂\n",
    "       # x[1:4]; x[5:end]\n",
    "#         dx1 = x1ₜ[t,:] - x̂₁[t,:]\n",
    "#         dx2 = x2ₜ[t,:] - x̂₂[t,:]\n",
    "#         du1 = u1ₜ[t,:] - û₁[t,:]\n",
    "#         du2 = u2ₜ[t,:] - û₂[t,:]\n",
    "        \n",
    "        Aₜ[:,:,t] = Ad\n",
    "        B1ₜ[:,:,t] = B1d\n",
    "        B2ₜ[:,:,t] = B2d\n",
    "        \n",
    "        #Player 1 cost quadratic_cost(cost_fun, Qi, Rii, Rij, Qni, x, ui, uj, xgoal, uigoal, ujgoal, B)\n",
    "        costval1, Q1ₜ[:,:,t], l1ₜ[:,t], R11ₜ[:,:,t], r11ₜ[:,t], R12ₜ[:,:,t], r12ₜ[:,t] = \n",
    "        quadratic_cost(cost, Q1, R11, R12, Qn1, xₜ[t,:], u1ₜ[t,:], u2ₜ[t,:], xgoal, u1goal, u2goal, false)\n",
    "        #Player 2 cost\n",
    "        costval2, Q2ₜ[:,:,t], l2ₜ[:,t], R22ₜ[:,:,t], r22ₜ[:,t], R21ₜ[:,:,t], r21ₜ[:,t] = \n",
    "        quadratic_cost(cost, Q2, R22, R21, Qn2, xₜ[t,:], u2ₜ[t,:], u1ₜ[t,:], xgoal, u2goal, u1goal, false)\n",
    "        # Regularization\n",
    "        while !isposdef(Q1ₜ[:,:,t])\n",
    "            Q1ₜ[:,:,t] = Q1ₜ[:,:,t] + βreg*I\n",
    "        end\n",
    "        while !isposdef(Q2ₜ[:,:,t])\n",
    "            Q2ₜ[:,:,t] = Q2ₜ[:,:,t] + βreg*I\n",
    "        end\n",
    "        # @show Rₜ[:,:,t] \n",
    "        total_cost1 += costval1\n",
    "        total_cost2 += costval2\n",
    "    end\n",
    "    #Player 1 Terminal cost\n",
    "    costval1, Q1ₜ[:,:,end], l1ₜ[:,end], R11ₜ[:,:,end], r11ₜ[:,end], R12ₜ[:,:,end], r12ₜ[:,end] = \n",
    "    quadratic_cost(cost, Q1, R11, R12, Qn1, xₜ[end,:], u1ₜ[end,:], u2ₜ[end,:], xgoal, u1goal, u2goal, true)\n",
    "    #Player 2 Terminal cost\n",
    "    costval2, Q2ₜ[:,:,end], l2ₜ[:,end], R22ₜ[:,:,end], r22ₜ[:,end], R21ₜ[:,:,end], r21ₜ[:,end] = \n",
    "    quadratic_cost(cost, Q2, R22, R21, Qn2, xₜ[end,:], u2ₜ[end,:], u1ₜ[end,:], xgoal, u2goal, u1goal, true)\n",
    "\n",
    "    total_cost1 += costval1\n",
    "    total_cost2 += costval2\n",
    "\n",
    "    # @show costs[end]\n",
    "    # 4. Do lqr\n",
    "    #P, α = affinelq!(Aₜ, Bₜ, Qₜ, lₜ, Rₜ , rₜ);\n",
    "    P₁, P₂, α₁, α₂ = lqGame!(Aₜ, B1ₜ, B2ₜ, Q1ₜ, Q2ₜ, l1ₜ, l2ₜ, R11ₜ, R12ₜ, R21ₜ, R22ₜ, r11ₜ, r22ₜ, r12ₜ, r21ₜ)\n",
    "\n",
    "    x̂ = xₜ\n",
    "    û₁ = u1ₜ\n",
    "    û₂ = u2ₜ \n",
    "    P = [P₁, P₂]\n",
    "    α = [α₁, α₂]\n",
    "    û = [û₁, û₂]\n",
    "   \n",
    "    xₜ, u1ₜ, u2ₜ = rollout_PM(x₀, x̂, û, H, dt, P, α, 0.5)\n",
    "    #println(converged)\n",
    "\n",
    "    #     push!(all_cost, total_cost)\n",
    "    #     #@show xₜ[1,:] \n",
    "    #     #@show xₜ[end,:]\n",
    "    @show total_cost1, total_cost2\n",
    "end"
   ]
  },
  {
   "cell_type": "code",
   "execution_count": 51,
   "metadata": {},
   "outputs": [
    {
     "data": {
      "text/plain": [
       "8-element Vector{Float64}:\n",
       "  6.30443791340976\n",
       " 10.84382132801231\n",
       " -0.00853964509973533\n",
       "  0.8972893152722381\n",
       "  9.310151490083795\n",
       "  4.1942940309041905\n",
       "  0.8387612236250144\n",
       "  0.008312572863730158"
      ]
     },
     "execution_count": 51,
     "metadata": {},
     "output_type": "execute_result"
    }
   ],
   "source": [
    "xₜ[end,:]"
   ]
  },
  {
   "cell_type": "code",
   "execution_count": 52,
   "metadata": {},
   "outputs": [
    {
     "name": "stderr",
     "output_type": "stream",
     "text": [
      "┌ Info: Saved animation to /Users/mohsafwat/Desktop/PHD2022/Autumn/CSE 579/CS_project/LQ_Game_Solver/CS_project/pms.gif\n",
      "└ @ Plots /Users/mohsafwat/.julia/packages/Plots/YbrTT/src/animation.jl:149\n"
     ]
    },
    {
     "data": {
      "text/html": [
       "<img src=\"data:image/gif;base64,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\" />"
      ],
      "text/plain": [
       "Plots.AnimatedGif(\"/Users/mohsafwat/Desktop/PHD2022/Autumn/CSE 579/CS_project/LQ_Game_Solver/CS_project/pms.gif\")"
      ]
     },
     "execution_count": 52,
     "metadata": {},
     "output_type": "execute_result"
    }
   ],
   "source": [
    "anim = @animate for t in 1:k_steps\n",
    "    scatter([xₜ[t, :][1]], [xₜ[t, :][2]], m = (:circle, 12),\n",
    "    xlims = (-1, 15), \n",
    "    ylims = (-1, 15), )\n",
    "    scatter!([xₜ[t, :][5]], [xₜ[t, :][6]], m = (:circle, 12))\n",
    "end every 10;\n",
    "gif(anim, \"pms.gif\")"
   ]
  },
  {
   "cell_type": "code",
   "execution_count": null,
   "metadata": {},
   "outputs": [],
   "source": []
  }
 ],
 "metadata": {
  "kernelspec": {
   "display_name": "Julia 1.6.7",
   "language": "julia",
   "name": "julia-1.6"
  },
  "language_info": {
   "file_extension": ".jl",
   "mimetype": "application/julia",
   "name": "julia",
   "version": "1.6.7"
  },
  "vscode": {
   "interpreter": {
    "hash": "aee8b7b246df8f9039afb4144a1f6fd8d2ca17a180786b69acc140d282b71a49"
   }
  }
 },
 "nbformat": 4,
 "nbformat_minor": 2
}
