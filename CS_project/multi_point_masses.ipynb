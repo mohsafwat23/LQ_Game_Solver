{
 "cells": [
  {
   "cell_type": "code",
   "execution_count": 1,
   "metadata": {},
   "outputs": [
    {
     "name": "stderr",
     "output_type": "stream",
     "text": [
      "\u001b[32m\u001b[1m  Activating\u001b[22m\u001b[39m environment at `~/Desktop/PHD2022/Autumn/CSE 579/CS_project/CS_project/Project.toml`\n"
     ]
    }
   ],
   "source": [
    "import Pkg; Pkg.activate(@__DIR__); Pkg.instantiate()\n",
    "#import Pkg; Pkg.activate(joinpath(@__DIR__,\"..\")); Pkg.instantiate()"
   ]
  },
  {
   "cell_type": "code",
   "execution_count": 2,
   "metadata": {},
   "outputs": [],
   "source": [
    "using LinearAlgebra\n",
    "using Plots\n",
    "#using ControlSystems"
   ]
  },
  {
   "cell_type": "code",
   "execution_count": 3,
   "metadata": {},
   "outputs": [
    {
     "data": {
      "text/plain": [
       "point_mass (generic function with 1 method)"
      ]
     },
     "metadata": {},
     "output_type": "display_data"
    }
   ],
   "source": [
    "c = 0.0\n",
    "m = 1.0\n",
    "function point_mass(state, u)\n",
    "    x = state[1]                #x_1 = ẋ\n",
    "    ẋ = state[2]\n",
    "    ẍ = -(c/m)*x[2] + u[1]/(m)  #x_2 = ẍ = (-c/m)ẋ + u/m \n",
    "    y = state[3]\n",
    "    ẏ = state[4]\n",
    "    ÿ = -(c/m)*x[4] + u[2]/(m)  #x_2 = ẍ = (-c/m)ẋ + u/m \n",
    "    # dx[3] = x[3]\n",
    "    # dx[4] = -(c/m)*x[3] + u(t)/(m)  #x_2 = ẍ = (-c/m)ẋ + u/m\n",
    "    return [ẋ; ẍ; ẏ; ÿ]\n",
    "end"
   ]
  },
  {
   "cell_type": "markdown",
   "metadata": {},
   "source": [
    "#### Point Mass Discrete"
   ]
  },
  {
   "cell_type": "code",
   "execution_count": 4,
   "metadata": {},
   "outputs": [],
   "source": [
    "n = 2 #n states\n",
    "m = 1 #2 controls\n",
    "dt = 0.01 #step size\n",
    "H = 15.0  #Horizon\n",
    "k_steps = trunc(Int, H/dt) \n",
    "#A = [0 1; 0 -c/m]\n",
    "A = [0 0 1 0; 0 0 0 1; 0 0 (-c/m) 0; 0 0 0 (-c/m)]  #Input Jacobian\n",
    "B1 = [(1/m) 0; 0 (1/m); 0 0; 0 0] #Control Jacobian for point mass 1\n",
    "B2 = [0 0; 0 0; (1/m) 0; 0 (1/m)] #Control Jacobian for point mass 2\n",
    "Ad = dt .* A + I    #discretize (zero order hold)\n",
    "B1d = dt .*B1   #discrete (zero order hold)\n",
    "B2d = dt .*B2   #discrete (zero order hold)\n",
    "Q1 = [1 0 0 0; 0 1 0 0; 0 0 0 0; 0 0 0 0] #state cost for point mass 1\n",
    "Q2 = [-1 0 0 0; 0 -1 0 0; 0 0 0 0; 0 0 0 0]   #state cost for point mass 2\n",
    "R11 = [1 0; 0 1]    #Control cost for player 1\n",
    "R22 = [1 0; 0 1]    #Contorl cost for player 2\n",
    "R12 = [0 0; 0 0]    #Control cost for player 1 associated with player 2's controls\n",
    "R21 = [0 0; 0 0];    #Control cost for player 2 associated with player 1's controls"
   ]
  },
  {
   "cell_type": "code",
   "execution_count": 5,
   "metadata": {},
   "outputs": [
    {
     "data": {
      "text/plain": [
       "cost (generic function with 1 method)"
      ]
     },
     "metadata": {},
     "output_type": "display_data"
    }
   ],
   "source": [
    "x0 = [0, 1, 1, 0]\n",
    "xref = [2; 1; 1; 2]\n",
    "function cost(xref, x0)\n",
    "    x_k = copy(xref - x0)\n",
    "    c1 = 0\n",
    "    c2 = 0\n",
    "    for k in length(k_steps)\n",
    "        u1 = -[0.1 0.1 0.1 0.0; 0.0 0.0 0.0 0.0]*x_k\n",
    "        u2 = -[0.12 0.1 0.1 0.0; 0.0 0.0 0.0 0.0]*x_k\n",
    "        x_k = Ad*x_k + B1d*u1 + B2d*u2\n",
    "        c1 += transpose(x_k)*Q1*x_k + transpose(u1)*R11*u1 + transpose(u2)*R12*u2\n",
    "        c2 += transpose(x_k)*Q2*x_k + transpose(u2)*R22*u2 + transpose(u2)*R21*u2\n",
    "    end\n",
    "    return c1,c2\n",
    "end"
   ]
  },
  {
   "cell_type": "code",
   "execution_count": 6,
   "metadata": {},
   "outputs": [
    {
     "data": {
      "text/plain": [
       "(4.032404, -3.934804)"
      ]
     },
     "metadata": {},
     "output_type": "display_data"
    }
   ],
   "source": [
    "c1, c2 = cost(xref, x0)"
   ]
  },
  {
   "cell_type": "code",
   "execution_count": 111,
   "metadata": {},
   "outputs": [
    {
     "data": {
      "text/plain": [
       "2-element Vector{Float64}:\n",
       " 0.0\n",
       " 0.01"
      ]
     },
     "execution_count": 111,
     "metadata": {},
     "output_type": "execute_result"
    }
   ],
   "source": [
    "Bd"
   ]
  },
  {
   "cell_type": "code",
   "execution_count": 234,
   "metadata": {},
   "outputs": [
    {
     "data": {
      "text/plain": [
       "lqr! (generic function with 2 methods)"
      ]
     },
     "execution_count": 234,
     "metadata": {},
     "output_type": "execute_result"
    }
   ],
   "source": [
    "# dt = 0.01\n",
    "# A = [0 1; 0 -c/m]\n",
    "# B = [0; 1/m]\n",
    "# Ad = dt .* A + I #discrete\n",
    "# Bd = dt .*B #discrete\n",
    "function lqr!(T,n,m)\n",
    "    Q = 20.0*I#[0.5 0; 0 0.3]\n",
    "    R = 1.0*I#[0.5]\n",
    "    V = copy(Q)\n",
    "    #println(T[1])\n",
    "    T[1] = T[1] #- 1\n",
    "    K = zeros(T[1], n*m)\n",
    "\n",
    "    for i in 1:T[1]\n",
    "        K_i = -inv(R + transpose(Bd) * V * Bd) * transpose(Bd) * V * Ad\n",
    "        #println(\"fff\", K_i)\n",
    "        V = Q + transpose(K_i) * R * K_i + transpose(Ad + Bd * K_i) * V * (Ad + Bd * K_i)\n",
    "        K[i, :] = reshape(transpose(K_i), (n*m,1))\n",
    "        #println(\"f\",reshape(K[i, :], (2,4))\n",
    "    end\n",
    "    #println(\"lqr..\")\n",
    "    return K\n",
    "end"
   ]
  },
  {
   "cell_type": "code",
   "execution_count": 235,
   "metadata": {},
   "outputs": [],
   "source": [
    "tf = 15.0\n",
    "t = Array(range(0, tf, step=0.01))\n",
    "length(t)\n",
    "T_all = [1000]\n",
    "K = lqr!(T_all,n,m)\n",
    "x0 = [0.; 0.; 0. ; 0.]\n",
    "#x0 = [0.; 0.]\n",
    "#xref = [5.; 0.]\n",
    "xref = [5.; 0.; 5. ; 0.]\n",
    "#Forward rollout starting at x0\n",
    "xhist = zeros(T_all[1],n)\n",
    "xhist[1,:] = x0\n",
    "uhist = zeros(T_all[1]-1,m)\n",
    "for t = 1:(T_all[1]-1)\n",
    "    #uhist[t,:] = -K[t,:]*(xhist[t,:] - xref)\n",
    "    uhist[t,:] .= reshape(K[end, :], (m, n))*(xhist[t,:] - xref)\n",
    "\n",
    "    xhist[t+1,:] .= Ad*xhist[t,:] + reshape(Bd,(n,m))*uhist[t,:]\n",
    "end\n",
    "#K"
   ]
  },
  {
   "cell_type": "code",
   "execution_count": 236,
   "metadata": {},
   "outputs": [
    {
     "data": {
      "text/plain": [
       "1000×4 Matrix{Float64}:\n",
       " 0.0         0.0          0.0         0.0\n",
       " 0.00108836  0.217672     0.00131481  0.262961\n",
       " 0.00429597  0.42385      0.00518979  0.512035\n",
       " 0.00951044  0.619044     0.0114892   0.747841\n",
       " 0.0166244   0.803745     0.0200832   0.970971\n",
       " 0.0255352   0.978423     0.0308481   1.18199\n",
       " 0.036145    1.14353      0.0436653   1.38145\n",
       " 0.04836     1.29948      0.0584218   1.56985\n",
       " 0.062091    1.44671      0.0750096   1.74771\n",
       " 0.0772525   1.58559      0.0933256   1.91549\n",
       " 0.093763    1.71651      0.113271    2.07365\n",
       " 0.111545    1.83983      0.134753    2.22262\n",
       " 0.130523    1.95588      0.15768     2.36282\n",
       " ⋮                                    \n",
       " 4.99974     0.00026237   6.03999     0.000316959\n",
       " 4.99975     0.000259688  6.03999     0.000313719\n",
       " 4.99975     0.000257034  6.03999     0.000310512\n",
       " 4.99975     0.000254406  6.03999     0.000307338\n",
       " 4.99975     0.000251806  6.04        0.000304196\n",
       " 4.99976     0.000249231  6.04        0.000301086\n",
       " 4.99976     0.000246684  6.04        0.000298008\n",
       " 4.99976     0.000244162  6.04001     0.000294962\n",
       " 4.99976     0.000241666  6.04001     0.000291947\n",
       " 4.99977     0.000239196  6.04001     0.000288963\n",
       " 4.99977     0.000236751  6.04002     0.000286009\n",
       " 4.99977     0.00023433   6.04002     0.000283085"
      ]
     },
     "execution_count": 236,
     "metadata": {},
     "output_type": "execute_result"
    }
   ],
   "source": [
    "xhist"
   ]
  },
  {
   "cell_type": "code",
   "execution_count": null,
   "metadata": {},
   "outputs": [],
   "source": []
  },
  {
   "cell_type": "code",
   "execution_count": 128,
   "metadata": {},
   "outputs": [
    {
     "data": {
      "text/plain": [
       "2×4 Matrix{Float64}:\n",
       " 0.991377     1.72209      -3.55366e-13  6.203e-14\n",
       " 3.16664e-12  8.60255e-13   0.991377     1.72209"
      ]
     },
     "execution_count": 128,
     "metadata": {},
     "output_type": "execute_result"
    }
   ],
   "source": [
    "Q = 1.0*I#[0.5 0; 0 0.3]\n",
    "R = 1.0*I#[0.5]\n",
    "Kinf = dlqr(Ad,Bd,Q,R)"
   ]
  },
  {
   "cell_type": "code",
   "execution_count": 129,
   "metadata": {},
   "outputs": [
    {
     "data": {
      "text/plain": [
       "8-element Vector{Float64}:\n",
       " -0.9913771736849692\n",
       " -1.7220868293653293\n",
       "  0.0\n",
       "  0.0\n",
       "  0.0\n",
       "  0.0\n",
       " -0.9913771736849692\n",
       " -1.7220868293653293"
      ]
     },
     "execution_count": 129,
     "metadata": {},
     "output_type": "execute_result"
    }
   ],
   "source": [
    "K = lqr!(T_all)[end, :]"
   ]
  },
  {
   "cell_type": "code",
   "execution_count": null,
   "metadata": {},
   "outputs": [],
   "source": []
  }
 ],
 "metadata": {
  "kernelspec": {
   "display_name": "Julia 1.6.7",
   "language": "julia",
   "name": "julia-1.6"
  },
  "language_info": {
   "file_extension": ".jl",
   "mimetype": "application/julia",
   "name": "julia",
   "version": "1.6.7"
  },
  "orig_nbformat": 4,
  "vscode": {
   "interpreter": {
    "hash": "aee8b7b246df8f9039afb4144a1f6fd8d2ca17a180786b69acc140d282b71a49"
   }
  }
 },
 "nbformat": 4,
 "nbformat_minor": 2
}
