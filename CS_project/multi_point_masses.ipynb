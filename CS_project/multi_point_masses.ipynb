{
 "cells": [
  {
   "cell_type": "code",
   "execution_count": 1,
   "metadata": {},
   "outputs": [
    {
     "name": "stderr",
     "output_type": "stream",
     "text": [
      "\u001b[32m\u001b[1m  Activating\u001b[22m\u001b[39m environment at `~/Desktop/PHD2022/Autumn/CSE 579/CS_project/LQ_Game_Solver/CS_project/Project.toml`\n"
     ]
    }
   ],
   "source": [
    "import Pkg; Pkg.activate(@__DIR__); Pkg.instantiate()\n",
    "#import Pkg; Pkg.activate(joinpath(@__DIR__,\"..\")); Pkg.instantiate()"
   ]
  },
  {
   "cell_type": "code",
   "execution_count": 2,
   "metadata": {},
   "outputs": [],
   "source": [
    "using LinearAlgebra\n",
    "using Plots\n",
    "using SparseArrays\n",
    "using ForwardDiff\n",
    "#using ControlSystems"
   ]
  },
  {
   "cell_type": "markdown",
   "metadata": {},
   "source": [
    "### 2D Point Mass Continous dynamics"
   ]
  },
  {
   "cell_type": "code",
   "execution_count": 3,
   "metadata": {},
   "outputs": [
    {
     "data": {
      "text/plain": [
       "point_mass (generic function with 1 method)"
      ]
     },
     "metadata": {},
     "output_type": "display_data"
    }
   ],
   "source": [
    "c = 0.0\n",
    "m = 1.0\n",
    "function point_mass(x, u)\n",
    "   # x = state[1]                #x_1 = ẋ\n",
    "    ẋ = x[3]\n",
    "    ẍ = -(c/m)*ẋ + u[1]/(m)  #x_2 = ẍ = (-c/m)ẋ + u/m \n",
    "    #y = state[3]\n",
    "    ẏ = x[4]\n",
    "    ÿ = -(c/m)*ẏ + u[2]/(m)  #x_2 = ẍ = (-c/m)ẋ + u/m \n",
    "    return [ẋ; ẏ; ẍ; ÿ]\n",
    "end"
   ]
  },
  {
   "cell_type": "markdown",
   "metadata": {},
   "source": [
    "### Linearizing and discretizing the dynamics"
   ]
  },
  {
   "cell_type": "code",
   "execution_count": 4,
   "metadata": {},
   "outputs": [
    {
     "data": {
      "text/plain": [
       "4×2 Matrix{Float64}:\n",
       " 0.0   0.0\n",
       " 0.0   0.0\n",
       " 0.01  0.0\n",
       " 0.0   0.01"
      ]
     },
     "metadata": {},
     "output_type": "display_data"
    }
   ],
   "source": [
    "function lin_dyn_discrete(dynamics, x, u, dt)\n",
    "    A = ForwardDiff.jacobian(dx -> dynamics(dx, u), x)\n",
    "    B = ForwardDiff.jacobian(du -> dynamics(x, du), u)\n",
    "    A = dt .* A + I\n",
    "    B = dt .* B\n",
    "    return A, B\n",
    "end\n",
    "x = [0; 0; 0 ;0]\n",
    "u = [0; 0]\n",
    "A, B = lin_dyn_discrete(point_mass, x, u, 0.01)"
   ]
  },
  {
   "cell_type": "markdown",
   "metadata": {},
   "source": []
  },
  {
   "cell_type": "code",
   "execution_count": 43,
   "metadata": {},
   "outputs": [
    {
     "data": {
      "text/plain": [
       "cost (generic function with 1 method)"
      ]
     },
     "metadata": {},
     "output_type": "display_data"
    }
   ],
   "source": [
    "Q = sparse(zeros(4,4)) #state cost for point mass 1\n",
    "Q[1,1] = 1; Q[2,2] = 1; Q[3,3] = 1; Q[4,4] = 1;\n",
    "R = I(2)\n",
    "function cost(x, u)\n",
    "    c = 0.5*x'*Q*x + 0.5*u'*R*u #+ max(0, (x[1] - x[3])^2)\n",
    "    return c\n",
    "end"
   ]
  },
  {
   "cell_type": "code",
   "execution_count": 44,
   "metadata": {},
   "outputs": [
    {
     "data": {
      "text/plain": [
       "5.5"
      ]
     },
     "metadata": {},
     "output_type": "display_data"
    }
   ],
   "source": [
    "x = [0; 0; 1; 0]\n",
    "u = [1; 3]\n",
    "cost(x, u)"
   ]
  },
  {
   "cell_type": "code",
   "execution_count": 45,
   "metadata": {},
   "outputs": [
    {
     "data": {
      "text/plain": [
       "4-element Vector{Float64}:\n",
       " 0.0\n",
       " 0.0\n",
       " 1.0\n",
       " 0.0"
      ]
     },
     "metadata": {},
     "output_type": "display_data"
    }
   ],
   "source": [
    "#Q = ForwardDiff.hessian(dx -> cost(dx, u), x)\n",
    "R = ForwardDiff.hessian(du -> cost(x, du), u)\n",
    "l = ForwardDiff.gradient(dx -> cost(dx, u), x)"
   ]
  },
  {
   "cell_type": "code",
   "execution_count": 46,
   "metadata": {},
   "outputs": [
    {
     "data": {
      "text/plain": [
       "quadratic_cost (generic function with 1 method)"
      ]
     },
     "metadata": {},
     "output_type": "display_data"
    }
   ],
   "source": [
    "function quadratic_cost(cost_func, x, u)\n",
    "    \"\"\"\n",
    "    2nd order Taylor expansion of cost at t\n",
    "    I neglected the mixed paritals in the hessian\n",
    "    \"\"\"\n",
    "    Q = ForwardDiff.hessian(dx -> cost_func(dx, u), x)\n",
    "    l = ForwardDiff.gradient(dx -> cost_func(dx, u), x)\n",
    "    R = ForwardDiff.hessian(du -> cost_func(x, du), u)\n",
    "    r = ForwardDiff.gradient(du -> cost_func(x, du), u)\n",
    "    cost = 0.5 * x' * (Q*x + 2*l) + 0.5 * u' * (R*u + 2*r)\n",
    "    return cost, Q, l, R, r\n",
    "end"
   ]
  },
  {
   "cell_type": "code",
   "execution_count": 47,
   "metadata": {},
   "outputs": [
    {
     "data": {
      "text/plain": [
       "(16.5, [1.0 0.0 0.0 0.0; 0.0 1.0 0.0 0.0; 0.0 0.0 1.0 0.0; 0.0 0.0 0.0 1.0], [0.0, 0.0, 1.0, 0.0], [1.0 0.0; 0.0 1.0], [1.0, 3.0])"
      ]
     },
     "metadata": {},
     "output_type": "display_data"
    }
   ],
   "source": [
    "quadratic_cost(cost, x, u)\n"
   ]
  },
  {
   "cell_type": "markdown",
   "metadata": {},
   "source": [
    "#### Point Mass Discrete"
   ]
  },
  {
   "cell_type": "markdown",
   "metadata": {},
   "source": [
    "$$ \\frac{d}{dt}x = Ax + \\sum Bu$$\n",
    "\n",
    "Single 2D point mass:\n",
    "$$\\frac{d}{dt}\\begin{bmatrix} x \\\\ y \\\\ \\dot{x} \\\\ \\dot{y}\\end{bmatrix} =  \n",
    " \\begin{bmatrix} 0 & 0 & 1 & 0 \\\\ 0 & 0 & 0 & 1 \\\\ 0 & 0 & -c/m & 0 \\\\ 0 & 0 & 0 & -c/m \\end{bmatrix}\n",
    " \\begin{bmatrix} x \\\\ y \\\\ \\dot{x} \\\\ \\dot{y}\\end{bmatrix} + \n",
    " \\begin{bmatrix} 0 & 0 \\\\ 0 & 0 \\\\ 1/m & 0 \\\\ 0 & 1/m \\end{bmatrix}\n",
    " \\begin{bmatrix} u_x \\\\ u_y\\end{bmatrix} $$\n",
    "\n",
    "two 2D point masses:\n",
    "$$\\frac{d}{dt}\\begin{bmatrix} x_1 \\\\ y_1 \\\\ \\dot{x}_1 \\\\ \\dot{y}_1 \\\\ x_2 \\\\ y_2 \\\\ \\dot{x}_2 \\\\ \\dot{y}_2\\end{bmatrix} =  \n",
    " \\begin{bmatrix} 0 & 0 & 1 & 0 & 0 & 0 & 0 & 0\\\\ \n",
    "                0 & 0 & 0 & 1 & 0 & 0 & 0 & 0 \\\\ \n",
    "                0 & 0 & -c/m_1 & 0 & 0 & 0 & 0 & 0\\\\ \n",
    "                0 & 0 & 0 & -c/m_1 & 0 & 0 & 0 & 0\\\\\n",
    "                0 & 0 & 0 & 0 & 0 & 0 & 1 & 0\\\\ \n",
    "                0 & 0 & 0 & 0 & 0 & 0 & 0 & 1\\\\ \n",
    "                0 & 0 & 0 & 0 & 0 & 0 & -c/m_2 & 0\\\\ \n",
    "                0 & 0 & 0 & 0 & 0 & 0 & 0 & -c/m_2\\\\ \\end{bmatrix}\n",
    " \\begin{bmatrix} x_1 \\\\ y_1 \\\\ \\dot{x}_1 \\\\ \\dot{y}_1 \\\\ x_2 \\\\ y_2 \\\\ \\dot{x}_2 \\\\ \\dot{y}_2\\end{bmatrix} + \n",
    " \\begin{bmatrix} 0 & 0 \\\\ 0 & 0 \\\\ 1/m_1 & 0 \\\\ 0 & 1/m_1 \\\\ 0 & 0 \\\\ 0 & 0 \\\\ 0 & 0 \\\\ 0 & 0\\end{bmatrix}\n",
    " \\begin{bmatrix} u_x^1 \\\\ u_y^1 \\end{bmatrix} +\n",
    " \\begin{bmatrix} 0 & 0 \\\\ 0 & 0 \\\\ 0 & 0 \\\\ 0 & 0 \\\\ 0 & 0 \\\\ 0 & 0 \\\\ 1/m_2 & 0 \\\\ 0 & 1/m_2\\end{bmatrix}\n",
    " \\begin{bmatrix} u_x^2 \\\\ u_y^2 \\end{bmatrix}  $$\n"
   ]
  },
  {
   "cell_type": "markdown",
   "metadata": {},
   "source": [
    "### State and input Jacobian of 2 point masses"
   ]
  },
  {
   "cell_type": "code",
   "execution_count": 10,
   "metadata": {},
   "outputs": [
    {
     "data": {
      "text/plain": [
       "8×2 SparseMatrixCSC{Float64, Int64} with 2 stored entries:\n",
       "  ⋅    ⋅ \n",
       "  ⋅    ⋅ \n",
       "  ⋅    ⋅ \n",
       "  ⋅    ⋅ \n",
       "  ⋅    ⋅ \n",
       "  ⋅    ⋅ \n",
       " 1.0   ⋅ \n",
       "  ⋅   1.0"
      ]
     },
     "metadata": {},
     "output_type": "display_data"
    }
   ],
   "source": [
    "m₁ = 1\n",
    "m₂ = 1\n",
    "c = 0\n",
    "A1 = sparse([0 0 1 0; 0 0 0 1; 0 0 (-c/m₁) 0; 0 0 0 (-c/m₁)])\n",
    "A2 = sparse([0 0 1 0; 0 0 0 1; 0 0 (-c/m₂) 0; 0 0 0 (-c/m₂)])\n",
    "A = blockdiag(A1, A2)\n",
    "B1 = sparse([0 0; 0 0; (1/m₁) 0; 0 (1/m₁); 0 0; 0 0; 0 0; 0 0])  #Control Jacobian for point mass 1\n",
    "B2 = sparse([0 0; 0 0; 0 0; 0 0; 0 0; 0 0; (1/m₂) 0; 0 (1/m₂)])    #Control Jacobian for point mass 2"
   ]
  },
  {
   "cell_type": "markdown",
   "metadata": {},
   "source": [
    "### Discretize"
   ]
  },
  {
   "cell_type": "code",
   "execution_count": 11,
   "metadata": {},
   "outputs": [
    {
     "data": {
      "text/plain": [
       "8×8 SparseMatrixCSC{Float64, Int64} with 12 stored entries:\n",
       " 1.0   ⋅   0.01   ⋅     ⋅    ⋅    ⋅     ⋅ \n",
       "  ⋅   1.0   ⋅    0.01   ⋅    ⋅    ⋅     ⋅ \n",
       "  ⋅    ⋅   1.0    ⋅     ⋅    ⋅    ⋅     ⋅ \n",
       "  ⋅    ⋅    ⋅    1.0    ⋅    ⋅    ⋅     ⋅ \n",
       "  ⋅    ⋅    ⋅     ⋅    1.0   ⋅   0.01   ⋅ \n",
       "  ⋅    ⋅    ⋅     ⋅     ⋅   1.0   ⋅    0.01\n",
       "  ⋅    ⋅    ⋅     ⋅     ⋅    ⋅   1.0    ⋅ \n",
       "  ⋅    ⋅    ⋅     ⋅     ⋅    ⋅    ⋅    1.0"
      ]
     },
     "metadata": {},
     "output_type": "display_data"
    }
   ],
   "source": [
    "dt = 0.01 #step size\n",
    "H = 30.0  #Horizon\n",
    "k_steps = trunc(Int, H/dt) \n",
    "\n",
    "Ad = dt .* A + I    #discretize (zero order hold)\n",
    "B1d = dt .*B1   #discrete (zero order hold)\n",
    "B2d = dt .*B2;   #discrete (zero order hold)\n",
    "Ad"
   ]
  },
  {
   "cell_type": "code",
   "execution_count": 12,
   "metadata": {},
   "outputs": [
    {
     "data": {
      "text/plain": [
       "2×2 SparseMatrixCSC{Float64, Int64} with 0 stored entries:\n",
       "  ⋅    ⋅ \n",
       "  ⋅    ⋅ "
      ]
     },
     "metadata": {},
     "output_type": "display_data"
    }
   ],
   "source": [
    "Q1 = sparse(zeros(8,8)) #state cost for point mass 1\n",
    "Q1[1,1] = 1; Q1[2,2] = 1; Q1[3,3] = 1; Q1[4,4] = 1; Q1[5,1] = 1; Q1[5,5] = -1; Q1[6,1]=1; Q1[6,6]=-1;\n",
    "Q2 = sparse(zeros(8,8))   #state cost for point mass 2\n",
    "Q2[5,5] = 1; Q2[6,6] = 1; Q2[7,7] = 1; Q2[8,8] = 1;\n",
    "R11 = I(2)    #Control cost for player 1\n",
    "R22 = I(2)    #Contorl cost for player 2\n",
    "R12 = sparse(zeros(2,2))    #Control cost for player 1 associated with player 2's controls\n",
    "R21 = sparse(zeros(2,2))    #Control cost for player 2 associated with player 1's controls\n"
   ]
  },
  {
   "cell_type": "code",
   "execution_count": 13,
   "metadata": {},
   "outputs": [
    {
     "data": {
      "text/plain": [
       "8×8 SparseMatrixCSC{Float64, Int64} with 8 stored entries:\n",
       " 1.0   ⋅    ⋅    ⋅     ⋅     ⋅    ⋅    ⋅ \n",
       "  ⋅   1.0   ⋅    ⋅     ⋅     ⋅    ⋅    ⋅ \n",
       "  ⋅    ⋅   1.0   ⋅     ⋅     ⋅    ⋅    ⋅ \n",
       "  ⋅    ⋅    ⋅   1.0    ⋅     ⋅    ⋅    ⋅ \n",
       " 1.0   ⋅    ⋅    ⋅   -1.0    ⋅    ⋅    ⋅ \n",
       " 1.0   ⋅    ⋅    ⋅     ⋅   -1.0   ⋅    ⋅ \n",
       "  ⋅    ⋅    ⋅    ⋅     ⋅     ⋅    ⋅    ⋅ \n",
       "  ⋅    ⋅    ⋅    ⋅     ⋅     ⋅    ⋅    ⋅ "
      ]
     },
     "metadata": {},
     "output_type": "display_data"
    }
   ],
   "source": [
    "Q1"
   ]
  },
  {
   "cell_type": "code",
   "execution_count": 14,
   "metadata": {},
   "outputs": [
    {
     "data": {
      "text/plain": [
       "cost (generic function with 1 method)"
      ]
     },
     "metadata": {},
     "output_type": "display_data"
    }
   ],
   "source": [
    "x0 = [0; 0; 1; 0; 0; 0; 0; 0]\n",
    "xref = [2; 1; 1; 2; 0; 0; 0; 0]\n",
    "function cost(xref, x0)\n",
    "    x_k = copy(xref - x0)\n",
    "    c1 = 0\n",
    "    c2 = 0\n",
    "    for k in length(k_steps)\n",
    "        K1 = -sparse([0.1 0.1 0.1 0.0 0.0 0.0 0.0 0.0; 0.0 0.0 0.0 0.0 0.0 0.0 0.0 0.0])\n",
    "        K2 = -sparse([0.3 -0.1 0.2 0.0 0.0 0.0 0.0 0.0; 0.0 0.0 0.0 0.0 0.0 0.0 0.0 0.0])\n",
    "        u1 = K1*x_k\n",
    "        u2 = K2*x_k\n",
    "        x_k = Ad*x_k + B1d*u1 + B2d*u2\n",
    "        c1 += x_k'*Q1*x_k + u1'*R11*u1 + u2'*R12*u2\n",
    "        c2 += x_k'*Q2*x_k + u2'*R22*u2 + u2'*R21*u2\n",
    "    end\n",
    "    return c1,c2\n",
    "end"
   ]
  },
  {
   "cell_type": "code",
   "execution_count": 15,
   "metadata": {},
   "outputs": [
    {
     "data": {
      "text/plain": [
       "(9.130409, 0.250025)"
      ]
     },
     "metadata": {},
     "output_type": "display_data"
    }
   ],
   "source": [
    "c1, c2 = cost(xref, x0)"
   ]
  },
  {
   "cell_type": "markdown",
   "metadata": {},
   "source": [
    "\\begin{bmatrix} S11 & S12 \\\\ S21 & S22 \\end{bmatrix}\n",
    "\\begin{bmatrix} P1 \\\\ P2 \\end{bmatrix} = \n",
    "\\begin{bmatrix} Y1 \\\\ Y2 \\end{bmatrix}"
   ]
  },
  {
   "cell_type": "markdown",
   "metadata": {},
   "source": [
    "\\begin{bmatrix} R^{11} + (B^{1'} * V₁ * B^1) & (B^{1'} * V₁ * B^2) \\\\ (B^{2'} * V_2 * B^1) & R^{22} + (B^{2'} * V_2 * B^2) \\end{bmatrix}"
   ]
  },
  {
   "cell_type": "code",
   "execution_count": 16,
   "metadata": {},
   "outputs": [
    {
     "data": {
      "text/plain": [
       "3000"
      ]
     },
     "metadata": {},
     "output_type": "display_data"
    }
   ],
   "source": [
    "k_steps"
   ]
  },
  {
   "cell_type": "code",
   "execution_count": 31,
   "metadata": {},
   "outputs": [
    {
     "data": {
      "text/plain": [
       "lqGame! (generic function with 1 method)"
      ]
     },
     "metadata": {},
     "output_type": "display_data"
    }
   ],
   "source": [
    "n = 8 #8 states\n",
    "m = 2 #2 controls\n",
    "function lqGame!(n, m)\n",
    "    \"\"\"\n",
    "    Input\n",
    "    Ad is an nxn matrix (8x8)\n",
    "    B1d is an nxm matrix (8x2)\n",
    "    B2d is an nxm matrix (8x2)\n",
    "    u is mx1 (2x1)\n",
    "    Q1 is an nxn matrix (8x8)\n",
    "    Q2 is an nxn matrix (8x8)\n",
    "    R11 is an mxm matrix (2x2)\n",
    "    R12 is an mxm matrix (2x2)\n",
    "    R21 is an mxm matrix (2x2)\n",
    "    R22 is an mxm matrix (2x2)\n",
    "    Output\n",
    "    P₁ is an mxn matrix (2x8)\n",
    "    P₂ is an mxn matrix (2x8)\n",
    "    \"\"\"\n",
    "\n",
    "    V₁ = copy(Q1) #at last time step\n",
    "    V₂ = copy(Q2) #at last time step\n",
    "    P₁ = zeros(k_steps, n*m)\n",
    "    P₂ = zeros(k_steps, n*m)\n",
    "    #α₁ = zeros(T[1], m)\n",
    "    #α₂ = zeros(T[1], m)\n",
    "\n",
    "    for t in 1:k_steps\n",
    "        # solving for Ps, check equation 19 in document\n",
    "        # Player 1\n",
    "        S11 = R11 + (B1d' * V₁ * B1d) #2x2\n",
    "        S12 = B1d' * V₁ * B2d # 2x2\n",
    "        S22 = R22 + (B2d' * V₂ * B2d)\n",
    "        S21 = B2d' * V₂ * B1d \n",
    "        S = [S11 S12; S21 S22] # 4x4\n",
    "        Y1 = B1d' * V₁ * Ad # 2x8\n",
    "        Y2 = B2d' * V₂ * Ad \n",
    "        Y = [Y1; Y2] # 4 x 8\n",
    "        P = S\\Y\n",
    "        P₁ₜ = P[1:2, :]\n",
    "        P₂ₜ = P[3:4, :]\n",
    "        # Player 2\n",
    "        # Assign Values\n",
    "        P₁[t, :] = reshape(P₁ₜ, (1, n*m))\n",
    "        P₂[t, :] = reshape(P₂ₜ, (1, n*m))\n",
    "        #Update value function(s)\n",
    "        Fₜ = Ad - (B1d*P₁ₜ + B2d*P₂ₜ)\n",
    "        V₁ = Q1 + (P₁ₜ' * R11 * P₁ₜ) + (P₂ₜ' * R12 * P₂ₜ) + (Fₜ' * V₁ * Fₜ)\n",
    "        V₂ = Q2 + (P₁ₜ' * R21 * P₁ₜ) + (P₂ₜ' * R22 * P₂ₜ) + (Fₜ' * V₂ * Fₜ)\n",
    "        #K[i, :] = reshape(transpose(K_i), (n*m,1))\n",
    "        #println(\"f\",reshape(K[i, :], (2,4))\n",
    "    end\n",
    "    return P₁, P₂#, α₁, α₂\n",
    "end"
   ]
  },
  {
   "cell_type": "code",
   "execution_count": 90,
   "metadata": {},
   "outputs": [
    {
     "data": {
      "text/plain": [
       "affinelq! (generic function with 1 method)"
      ]
     },
     "metadata": {},
     "output_type": "display_data"
    }
   ],
   "source": [
    "n = 4 #8 states\n",
    "m = 2 #2 controls\n",
    "function affinelq!(Aₜ, Bₜ, Qₜ, lₜ, Rₜ , rₜ)\n",
    "\n",
    "    V = copy(Qₜ[:,:,end]) #at last time step\n",
    "    ζ = copy(lₜ[:,end]) #at last time step\n",
    "    #P = zeros(k_steps, n*m)\n",
    "    P = zeros(Float32, (m, n, k_steps))\n",
    "    #α = zeros(k_steps, m)\n",
    "    α = zeros(Float32, (m, k_steps))\n",
    "\n",
    "    #α₂ = zeros(T[1], m)\n",
    "\n",
    "    for t in k_steps:-1:1\n",
    "        # solving for Ps, check equation 19 in document\n",
    "        # Player 1\n",
    "        Pₜ = (Rₜ[:,:,t] + (Bₜ[:,:,t]' * V * Bₜ[:,:,t]))\\(Bₜ[:,:,t]' * V * Aₜ[:,:,t])\n",
    "        αₜ = (Rₜ[:,:,t] + (Bₜ[:,:,t]' * V * Bₜ[:,:,t]))\\(Bₜ[:,:,t]' * ζ)\n",
    "        # Assign Values\n",
    "        #P[t, :] = reshape(Pₜ, (1, n*m))\n",
    "        #α[t, :] = αₜ\n",
    "        P[:,:,t] = Pₜ\n",
    "        α[:,t] = αₜ\n",
    "        #Update value function(s)\n",
    "        Fₜ = Aₜ[:,:,t] - (Bₜ[:,:,t]*Pₜ)\n",
    "        βₜ = - Bₜ[:,:,t] * αₜ\n",
    "        ζ = lₜ[:,t] + (Pₜ' * Rₜ[:,:,t] * αₜ - Pₜ' * rₜ[:,t]) + Fₜ'*(ζ + V * βₜ)\n",
    "        V = Qₜ[:,:,t]' + (Pₜ' * Rₜ[:,:,t] * Pₜ) + (Fₜ' * V * Fₜ)\n",
    "        #K[i, :] = reshape(transpose(K_i), (n*m,1))\n",
    "        #println(\"f\",reshape(K[i, :], (2,4))\n",
    "    end\n",
    "    return P, α\n",
    "end"
   ]
  },
  {
   "cell_type": "code",
   "execution_count": 68,
   "metadata": {},
   "outputs": [
    {
     "ename": "DimensionMismatch",
     "evalue": "DimensionMismatch(\"parent has 16 elements, which is incompatible with size (1, 8)\")",
     "output_type": "error",
     "traceback": [
      "DimensionMismatch(\"parent has 16 elements, which is incompatible with size (1, 8)\")\n",
      "\n",
      "Stacktrace:\n",
      " [1] _throw_dmrs(n::Int64, str::String, dims::Tuple{Int64, Int64})\n",
      "   @ Base ./reshapedarray.jl:181\n",
      " [2] _reshape\n",
      "   @ ./reshapedarray.jl:176 [inlined]\n",
      " [3] reshape(parent::SparseMatrixCSC{Float64, Int64}, dims::Tuple{Int64, Int64})\n",
      "   @ Base ./reshapedarray.jl:112\n",
      " [4] lqGame!(n::Int64, m::Int64)\n",
      "   @ Main ~/Desktop/PHD2022/Autumn/CSE 579/CS_project/LQ_Game_Solver/CS_project/multi_point_masses.ipynb:44\n",
      " [5] top-level scope\n",
      "   @ ~/Desktop/PHD2022/Autumn/CSE 579/CS_project/LQ_Game_Solver/CS_project/multi_point_masses.ipynb:1"
     ]
    }
   ],
   "source": [
    "P₁, P₂ = lqGame!(n,m);"
   ]
  },
  {
   "cell_type": "code",
   "execution_count": 69,
   "metadata": {},
   "outputs": [
    {
     "data": {
      "text/plain": [
       "16-element Vector{Float64}:\n",
       " 0.0\n",
       " 0.0\n",
       " 0.0\n",
       " 0.0\n",
       " 0.009999000099990002\n",
       " 0.0\n",
       " 0.0\n",
       " 0.009999000099990002\n",
       " 0.0\n",
       " 0.0\n",
       " 0.0\n",
       " 0.0\n",
       " 0.0\n",
       " 0.0\n",
       " 0.0\n",
       " 0.0"
      ]
     },
     "metadata": {},
     "output_type": "display_data"
    }
   ],
   "source": [
    "P₁[1,:]"
   ]
  },
  {
   "cell_type": "code",
   "execution_count": 34,
   "metadata": {},
   "outputs": [
    {
     "data": {
      "text/plain": [
       "2×8 Matrix{Float64}:\n",
       " 0.0  0.0  0.009999  0.0       0.0  0.0  0.0  0.0\n",
       " 0.0  0.0  0.0       0.009999  0.0  0.0  0.0  0.0"
      ]
     },
     "metadata": {},
     "output_type": "display_data"
    }
   ],
   "source": [
    "reshape(P₁[1, :], (m, n))"
   ]
  },
  {
   "cell_type": "code",
   "execution_count": 143,
   "metadata": {},
   "outputs": [
    {
     "data": {
      "text/plain": [
       "Rollout_RK4 (generic function with 2 methods)"
      ]
     },
     "metadata": {},
     "output_type": "display_data"
    }
   ],
   "source": [
    "function Rollout_RK4(fun, x₀, xf, H, dt, P, α)\n",
    "    \"\"\"\n",
    "    Rollout dynamics with initial state x₀ \n",
    "    and control law u = -Px - α\n",
    "    P is an n x b gain matrix\n",
    "    α is m x 1\n",
    "    \"\"\"\n",
    "    m = 2 #2 controls\n",
    "    k_steps = trunc(Int, H/dt) \n",
    "    xₜ = zeros(k_steps, length(x₀)) # 1500 x n\n",
    "    uₜ = zeros(k_steps, m) \n",
    "    xₜ[1,:] .= x₀\n",
    "    for t=1:(k_steps-1)\n",
    "        uₜ[t,:] = -P[:,:,t]*(xₜ[t,:] - xf) - α[:,t]\n",
    "        k1 = fun(xₜ[t,:], uₜ[t,:])\n",
    "        k2 = fun(xₜ[t,:] + 0.5*dt*k1, uₜ[t,:])\n",
    "        k3 = fun(xₜ[t,:] + 0.5*dt*k2, uₜ[t,:])\n",
    "        k4 = fun(xₜ[t,:] + dt*k3, uₜ[t,:])\n",
    "        xₜ[t+1,:] = xₜ[t,:] + (dt/6.0)*(k1 + 2*k2 + 2*k3 + k4)\n",
    "    end\n",
    "    \n",
    "    return xₜ, uₜ\n",
    "end"
   ]
  },
  {
   "cell_type": "code",
   "execution_count": 144,
   "metadata": {},
   "outputs": [
    {
     "data": {
      "text/plain": [
       "2×3000 Matrix{Float64}:\n",
       " 0.0  0.0  0.0  0.0  0.0  0.0  0.0  0.0  …  0.0  0.0  0.0  0.0  0.0  0.0  0.0\n",
       " 0.0  0.0  0.0  0.0  0.0  0.0  0.0  0.0     0.0  0.0  0.0  0.0  0.0  0.0  0.0"
      ]
     },
     "metadata": {},
     "output_type": "display_data"
    }
   ],
   "source": [
    "x₀=[0; 0; 0; 0]\n",
    "dt = 0.01 #step size\n",
    "H = 30.0  #Horizon\n",
    "P = zeros(2,4,3000)\n",
    "α = zeros(2,3000)"
   ]
  },
  {
   "cell_type": "code",
   "execution_count": 145,
   "metadata": {},
   "outputs": [],
   "source": [
    "# x0 = [1; 0; 0; 0; 0; 1; 0; 0]\n",
    "# xref = [1; 2; 0; 0; 2; 1; 0; 0]\n",
    "# #Forward rollout starting at x0\n",
    "# xhist = zeros(k_steps,n)\n",
    "# xhist[1,:] = x0\n",
    "# u1_all = zeros(k_steps, m)\n",
    "# u2_all = zeros(k_steps, m)\n",
    "# for t = 1:(k_steps - 1)\n",
    "#     #uhist[t,:] = -K[t,:]*(xhist[t,:] - xref)\n",
    "#     u1_all[t,:] .= -reshape(P₁[t, :], (m, n))*(xhist[t,:] - xref)\n",
    "#     u2_all[t,:] .= -reshape(P₂[t, :], (m, n))*(xhist[t,:] - xref)\n",
    "\n",
    "#     xhist[t+1,:] .= Ad*xhist[t,:] + B1d*u1_all[t,:] + B2d*u2_all[t,:]#reshape(Bd,(n,m))*uhist[t,:]\n",
    "# end\n",
    "# #K"
   ]
  },
  {
   "cell_type": "code",
   "execution_count": 146,
   "metadata": {},
   "outputs": [],
   "source": [
    "# anim = @animate for t in 1:k_steps\n",
    "#     scatter([xhist[t, :][1]], [xhist[t, :][2]], m = (:circle, 12),\n",
    "#     xlims = (-2, 3), \n",
    "#     ylims = (-1, 2), )\n",
    "#     scatter!([xhist[t, :][5]], [xhist[t, :][6]], m = (:circle, 12),\n",
    "#     xlims = (-2, 3), \n",
    "#     ylims = (-1, 2), )\n",
    "# end every 10;\n",
    "# gif(anim, \"pms.gif\")"
   ]
  },
  {
   "cell_type": "code",
   "execution_count": 147,
   "metadata": {},
   "outputs": [
    {
     "data": {
      "text/plain": [
       "(2, 4, 3000)"
      ]
     },
     "metadata": {},
     "output_type": "display_data"
    }
   ],
   "source": [
    "#function ilqr()\n",
    "    # 1. Initialize an initial feasible trajectory\n",
    "n = 4\n",
    "m = 2\n",
    "x₀ = [0; 0; 0; 0]\n",
    "xf = [2; 2; 0; 0]\n",
    "xₜ, uₜ = Rollout_RK4(point_mass, x₀, xf, H, dt, P, α) #xₜ is [k_steps, 4]\n",
    "Aₜ = zeros(Float32, (n, n, k_steps))\n",
    "Bₜ = zeros(Float32, (n, m, k_steps))\n",
    "Qₜ = zeros(Float32, (n, n, k_steps))\n",
    "lₜ = zeros(Float32, (n, k_steps))\n",
    "Rₜ = zeros(Float32, (m, m, k_steps))\n",
    "rₜ = zeros(Float32, (m, k_steps))\n",
    "\n",
    "for t = 1:(k_steps)\n",
    "    # 2. Linearize dynamics about trajectory\n",
    "    Aₜ[:,:,t], Bₜ[:,:,t] = lin_dyn_discrete(point_mass, xₜ[t,:] - xf, uₜ[t,:], dt)\n",
    "    # 3. Compute second order Taylor series expansion the cost function\n",
    "    c, Qₜ[:,:,t], lₜ[:,t], Rₜ[:,:,t], rₜ[:,t] = quadratic_cost(cost, xₜ[t,:] - xf, uₜ[t,:])\n",
    "end\n",
    "\n",
    "# 4. Do lqr\n",
    "P, α = affinelq!(Aₜ, Bₜ, Qₜ, lₜ, Rₜ , rₜ)\n",
    "\n",
    "size(P)\n",
    "#end"
   ]
  },
  {
   "cell_type": "code",
   "execution_count": 148,
   "metadata": {},
   "outputs": [
    {
     "data": {
      "text/plain": [
       "([0.0 0.0 0.0 0.0; 9.660896017670631e-5 9.660896017670631e-5 0.019130426862566472 0.019130426862566472; … ; 3.333526516700677 3.333526516700677 0.0004373745817753235 0.0004373745817753235; 3.3335307625407467 3.3335307625407467 0.0004120467906871093 0.0004120467906871093], [3.942016124725342 3.942016124725342; 3.9379452432799242 3.9379452432799242; … ; 2.9449865860996246e-5 2.9449865860996246e-5; 0.0 0.0])"
      ]
     },
     "metadata": {},
     "output_type": "display_data"
    }
   ],
   "source": [
    "xₜ, uₜ = Rollout_RK4(point_mass, x₀, xf, H, dt, P, α)"
   ]
  },
  {
   "cell_type": "code",
   "execution_count": 150,
   "metadata": {},
   "outputs": [
    {
     "data": {
      "text/plain": [
       "4-element Vector{Float64}:\n",
       " 3.3335307625407467\n",
       " 3.3335307625407467\n",
       " 0.0004120467906871093\n",
       " 0.0004120467906871093"
      ]
     },
     "metadata": {},
     "output_type": "display_data"
    }
   ],
   "source": [
    "xₜ[end,:]"
   ]
  },
  {
   "cell_type": "code",
   "execution_count": null,
   "metadata": {},
   "outputs": [],
   "source": []
  }
 ],
 "metadata": {
  "kernelspec": {
   "display_name": "Julia 1.6.7",
   "language": "julia",
   "name": "julia-1.6"
  },
  "language_info": {
   "file_extension": ".jl",
   "mimetype": "application/julia",
   "name": "julia",
   "version": "1.6.7"
  },
  "orig_nbformat": 4,
  "vscode": {
   "interpreter": {
    "hash": "aee8b7b246df8f9039afb4144a1f6fd8d2ca17a180786b69acc140d282b71a49"
   }
  }
 },
 "nbformat": 4,
 "nbformat_minor": 2
}
