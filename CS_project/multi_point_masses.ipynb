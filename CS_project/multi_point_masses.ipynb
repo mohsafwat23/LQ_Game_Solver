{
 "cells": [
  {
   "cell_type": "code",
   "execution_count": 1,
   "metadata": {},
   "outputs": [
    {
     "name": "stderr",
     "output_type": "stream",
     "text": [
      "\u001b[32m\u001b[1m  Activating\u001b[22m\u001b[39m environment at `~/Desktop/PHD2022/Autumn/CSE 579/CS_project/LQ_Game_Solver/CS_project/Project.toml`\n"
     ]
    }
   ],
   "source": [
    "import Pkg; Pkg.activate(@__DIR__); Pkg.instantiate()\n",
    "#import Pkg; Pkg.activate(joinpath(@__DIR__,\"..\")); Pkg.instantiate()"
   ]
  },
  {
   "cell_type": "code",
   "execution_count": 12,
   "metadata": {},
   "outputs": [],
   "source": [
    "using LinearAlgebra\n",
    "using Plots\n",
    "using SparseArrays\n",
    "#using ControlSystems"
   ]
  },
  {
   "cell_type": "code",
   "execution_count": 3,
   "metadata": {},
   "outputs": [
    {
     "data": {
      "text/plain": [
       "point_mass (generic function with 1 method)"
      ]
     },
     "metadata": {},
     "output_type": "display_data"
    }
   ],
   "source": [
    "c = 0.0\n",
    "m = 1.0\n",
    "function point_mass(state, u)\n",
    "    x = state[1]                #x_1 = ẋ\n",
    "    ẋ = state[2]\n",
    "    ẍ = -(c/m)*x[2] + u[1]/(m)  #x_2 = ẍ = (-c/m)ẋ + u/m \n",
    "    y = state[3]\n",
    "    ẏ = state[4]\n",
    "    ÿ = -(c/m)*x[4] + u[2]/(m)  #x_2 = ẍ = (-c/m)ẋ + u/m \n",
    "    # dx[3] = x[3]\n",
    "    # dx[4] = -(c/m)*x[3] + u(t)/(m)  #x_2 = ẍ = (-c/m)ẋ + u/m\n",
    "    return [ẋ; ẍ; ẏ; ÿ]\n",
    "end"
   ]
  },
  {
   "cell_type": "markdown",
   "metadata": {},
   "source": [
    "#### Point Mass Discrete"
   ]
  },
  {
   "cell_type": "markdown",
   "metadata": {},
   "source": [
    "$$ \\frac{d}{dt}x = Ax + \\sum Bu$$\n",
    "\n",
    "Single 2D point mass:\n",
    "$$\\frac{d}{dt}\\begin{bmatrix} x \\\\ y \\\\ \\dot{x} \\\\ \\dot{y}\\end{bmatrix} =  \n",
    " \\begin{bmatrix} 0 & 0 & 1 & 0 \\\\ 0 & 0 & 0 & 1 \\\\ 0 & 0 & -c/m & 0 \\\\ 0 & 0 & 0 & -c/m \\end{bmatrix}\n",
    " \\begin{bmatrix} x \\\\ y \\\\ \\dot{x} \\\\ \\dot{y}\\end{bmatrix} + \n",
    " \\begin{bmatrix} 0 & 0 \\\\ 0 & 0 \\\\ 1/m & 0 \\\\ 0 & 1/m \\end{bmatrix}\n",
    " \\begin{bmatrix} u_x \\\\ u_y\\end{bmatrix} $$\n",
    "\n",
    "two 2D point masses:\n",
    "$$\\frac{d}{dt}\\begin{bmatrix} x_1 \\\\ y_1 \\\\ \\dot{x}_1 \\\\ \\dot{y}_1 \\\\ x_2 \\\\ y_2 \\\\ \\dot{x}_2 \\\\ \\dot{y}_2\\end{bmatrix} =  \n",
    " \\begin{bmatrix} 0 & 0 & 1 & 0 & 0 & 0 & 0 & 0\\\\ \n",
    "                0 & 0 & 0 & 1 & 0 & 0 & 0 & 0 \\\\ \n",
    "                0 & 0 & -c/m_1 & 0 & 0 & 0 & 0 & 0\\\\ \n",
    "                0 & 0 & 0 & -c/m_1 & 0 & 0 & 0 & 0\\\\\n",
    "                0 & 0 & 0 & 0 & 0 & 0 & 1 & 0\\\\ \n",
    "                0 & 0 & 0 & 0 & 0 & 0 & 0 & 1\\\\ \n",
    "                0 & 0 & 0 & 0 & 0 & 0 & -c/m_2 & 0\\\\ \n",
    "                0 & 0 & 0 & 0 & 0 & 0 & 0 & -c/m_2\\\\ \\end{bmatrix}\n",
    " \\begin{bmatrix} x_1 \\\\ y_1 \\\\ \\dot{x}_1 \\\\ \\dot{y}_1 \\\\ x_2 \\\\ y_2 \\\\ \\dot{x}_2 \\\\ \\dot{y}_2\\end{bmatrix} + \n",
    " \\begin{bmatrix} 0 & 0 \\\\ 0 & 0 \\\\ 1/m_1 & 0 \\\\ 0 & 1/m_1 \\\\ 0 & 0 \\\\ 0 & 0 \\\\ 0 & 0 \\\\ 0 & 0\\end{bmatrix}\n",
    " \\begin{bmatrix} u_x^1 \\\\ u_y^1 \\end{bmatrix} +\n",
    " \\begin{bmatrix} 0 & 0 \\\\ 0 & 0 \\\\ 0 & 0 \\\\ 0 & 0 \\\\ 0 & 0 \\\\ 0 & 0 \\\\ 1/m_2 & 0 \\\\ 0 & 1/m_2\\end{bmatrix}\n",
    " \\begin{bmatrix} u_x^2 \\\\ u_y^2 \\end{bmatrix}  $$\n"
   ]
  },
  {
   "cell_type": "markdown",
   "metadata": {},
   "source": [
    "### State and input Jacobian of 2 point masses"
   ]
  },
  {
   "cell_type": "code",
   "execution_count": 35,
   "metadata": {},
   "outputs": [
    {
     "data": {
      "text/plain": [
       "8×2 SparseMatrixCSC{Float64, Int64} with 2 stored entries:\n",
       "  ⋅    ⋅ \n",
       "  ⋅    ⋅ \n",
       "  ⋅    ⋅ \n",
       "  ⋅    ⋅ \n",
       "  ⋅    ⋅ \n",
       "  ⋅    ⋅ \n",
       " 1.0   ⋅ \n",
       "  ⋅   1.0"
      ]
     },
     "metadata": {},
     "output_type": "display_data"
    }
   ],
   "source": [
    "m₁ = 1\n",
    "m₂ = 1\n",
    "c = 0\n",
    "A1 = sparse([0 0 1 0; 0 0 0 1; 0 0 (-c/m₁) 0; 0 0 0 (-c/m₁)])\n",
    "A2 = sparse([0 0 1 0; 0 0 0 1; 0 0 (-c/m₂) 0; 0 0 0 (-c/m₂)])\n",
    "A = blockdiag(A1, A2)\n",
    "B1 = sparse([0 0; 0 0; (1/m₁) 0; 0 (1/m₁); 0 0; 0 0; 0 0; 0 0])  #Control Jacobian for point mass 1\n",
    "B2 = sparse([0 0; 0 0; 0 0; 0 0; 0 0; 0 0; (1/m₂) 0; 0 (1/m₂)])    #Control Jacobian for point mass 2"
   ]
  },
  {
   "cell_type": "markdown",
   "metadata": {},
   "source": [
    "### Discretize"
   ]
  },
  {
   "cell_type": "code",
   "execution_count": 93,
   "metadata": {},
   "outputs": [],
   "source": [
    "n = 8 #n states\n",
    "dt = 0.01 #step size\n",
    "H = 15.0  #Horizon\n",
    "k_steps = trunc(Int, H/dt) \n",
    "\n",
    "Ad = dt .* A + I    #discretize (zero order hold)\n",
    "B1d = dt .*B1   #discrete (zero order hold)\n",
    "B2d = dt .*B2;   #discrete (zero order hold)"
   ]
  },
  {
   "cell_type": "code",
   "execution_count": 85,
   "metadata": {},
   "outputs": [
    {
     "data": {
      "text/plain": [
       "2×2 SparseMatrixCSC{Float64, Int64} with 0 stored entries:\n",
       "  ⋅    ⋅ \n",
       "  ⋅    ⋅ "
      ]
     },
     "metadata": {},
     "output_type": "display_data"
    }
   ],
   "source": [
    "Q1 = sparse(zeros(8,8)) #state cost for point mass 1\n",
    "Q1[1,1] = 1; Q1[2,2] = 1;\n",
    "Q2 = sparse(zeros(8,8))   #state cost for point mass 2\n",
    "Q2[1,1] = -1; Q2[2,2] = -1;\n",
    "R11 = I(2)    #Control cost for player 1\n",
    "R22 = I(2)    #Contorl cost for player 2\n",
    "R12 = sparse(zeros(2,2))    #Control cost for player 1 associated with player 2's controls\n",
    "R21 = sparse(zeros(2,2))    #Control cost for player 2 associated with player 1's controls\n"
   ]
  },
  {
   "cell_type": "code",
   "execution_count": 91,
   "metadata": {},
   "outputs": [
    {
     "data": {
      "text/plain": [
       "cost (generic function with 1 method)"
      ]
     },
     "metadata": {},
     "output_type": "display_data"
    }
   ],
   "source": [
    "x0 = [0; 0; 1; 0; 0; 0; 0; 0]\n",
    "xref = [2; 1; 1; 2; 0; 0; 0; 0]\n",
    "function cost(xref, x0)\n",
    "    x_k = copy(xref - x0)\n",
    "    c1 = 0\n",
    "    c2 = 0\n",
    "    for k in length(k_steps)\n",
    "        K1 = -sparse([0.1 0.1 0.1 0.0 0.0 0.0 0.0 0.0; 0.0 0.0 0.0 0.0 0.0 0.0 0.0 0.0])\n",
    "        K2 = -sparse([0.3 -0.1 0.2 0.0 0.0 0.0 0.0 0.0; 0.0 0.0 0.0 0.0 0.0 0.0 0.0 0.0])\n",
    "        u1 = K1*x_k\n",
    "        u2 = K2*x_k\n",
    "        x_k = Ad*x_k + B1d*u1 + B2d*u2\n",
    "        c1 += x_k'*Q1*x_k + u1'*R11*u1 + u2'*R12*u2\n",
    "        c2 += x_k'*Q2*x_k + u2'*R22*u2 + u2'*R21*u2\n",
    "    end\n",
    "    return c1,c2\n",
    "end"
   ]
  },
  {
   "cell_type": "code",
   "execution_count": 92,
   "metadata": {},
   "outputs": [
    {
     "data": {
      "text/plain": [
       "(5.1304, -4.7904)"
      ]
     },
     "metadata": {},
     "output_type": "display_data"
    }
   ],
   "source": [
    "c1, c2 = cost(xref, x0)"
   ]
  },
  {
   "cell_type": "code",
   "execution_count": 8,
   "metadata": {},
   "outputs": [],
   "source": [
    "# dt = 0.01\n",
    "# A = [0 1; 0 -c/m]\n",
    "# B = [0; 1/m]\n",
    "# Ad = dt .* A + I #discrete\n",
    "# Bd = dt .*B #discrete\n",
    "# function lqr!(T,n,m)\n",
    "#     Q = 20.0*I#[0.5 0; 0 0.3]\n",
    "#     R = 1.0*I#[0.5]\n",
    "#     V = copy(Q)\n",
    "#     #println(T[1])\n",
    "#     T[1] = T[1] #- 1\n",
    "#     K = zeros(T[1], n*m)\n",
    "\n",
    "#     for i in 1:T[1]\n",
    "#         K_i = -inv(R + transpose(Bd) * V * Bd) * transpose(Bd) * V * Ad\n",
    "#         #println(\"fff\", K_i)\n",
    "#         V = Q + transpose(K_i) * R * K_i + transpose(Ad + Bd * K_i) * V * (Ad + Bd * K_i)\n",
    "#         K[i, :] = reshape(transpose(K_i), (n*m,1))\n",
    "#         #println(\"f\",reshape(K[i, :], (2,4))\n",
    "#     end\n",
    "#     #println(\"lqr..\")\n",
    "#     return K\n",
    "# end"
   ]
  },
  {
   "cell_type": "code",
   "execution_count": 11,
   "metadata": {},
   "outputs": [],
   "source": [
    "# tf = 15.0\n",
    "# t = Array(range(0, tf, step=0.01))\n",
    "# length(t)\n",
    "# T_all = [1000]\n",
    "# K = lqr!(T_all,n,m)\n",
    "# x0 = [0.; 0.; 0. ; 0.]\n",
    "# #x0 = [0.; 0.]\n",
    "# #xref = [5.; 0.]\n",
    "# xref = [5.; 0.; 5. ; 0.]\n",
    "# #Forward rollout starting at x0\n",
    "# xhist = zeros(T_all[1],n)\n",
    "# xhist[1,:] = x0\n",
    "# uhist = zeros(T_all[1]-1,m)\n",
    "# for t = 1:(T_all[1]-1)\n",
    "#     #uhist[t,:] = -K[t,:]*(xhist[t,:] - xref)\n",
    "#     uhist[t,:] .= reshape(K[end, :], (m, n))*(xhist[t,:] - xref)\n",
    "\n",
    "#     xhist[t+1,:] .= Ad*xhist[t,:] + reshape(Bd,(n,m))*uhist[t,:]\n",
    "# end\n",
    "#K"
   ]
  },
  {
   "cell_type": "code",
   "execution_count": 9,
   "metadata": {},
   "outputs": [],
   "source": [
    "# Q = 1.0*I#[0.5 0; 0 0.3]\n",
    "# R = 1.0*I#[0.5]\n",
    "# Kinf = dlqr(Ad,Bd,Q,R)"
   ]
  },
  {
   "cell_type": "code",
   "execution_count": 10,
   "metadata": {},
   "outputs": [],
   "source": [
    "# K = lqr!(T_all)[end, :]"
   ]
  },
  {
   "cell_type": "code",
   "execution_count": null,
   "metadata": {},
   "outputs": [],
   "source": []
  }
 ],
 "metadata": {
  "kernelspec": {
   "display_name": "Julia 1.6.7",
   "language": "julia",
   "name": "julia-1.6"
  },
  "language_info": {
   "file_extension": ".jl",
   "mimetype": "application/julia",
   "name": "julia",
   "version": "1.6.7"
  },
  "orig_nbformat": 4,
  "vscode": {
   "interpreter": {
    "hash": "aee8b7b246df8f9039afb4144a1f6fd8d2ca17a180786b69acc140d282b71a49"
   }
  }
 },
 "nbformat": 4,
 "nbformat_minor": 2
}
