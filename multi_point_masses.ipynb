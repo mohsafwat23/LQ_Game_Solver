{
 "cells": [
  {
   "cell_type": "code",
   "execution_count": 1,
   "metadata": {},
   "outputs": [
    {
     "name": "stderr",
     "output_type": "stream",
     "text": [
      "\u001b[32m\u001b[1m  Activating\u001b[22m\u001b[39m environment at `~/Desktop/repos/courses/seattle/CSE579-main/LQ_Game_Solver/CS_project/Project.toml`\n"
     ]
    }
   ],
   "source": [
    "import Pkg; Pkg.activate(@__DIR__); Pkg.instantiate()\n",
    "#import Pkg; Pkg.activate(joinpath(@__DIR__,\"..\")); Pkg.instantiate()"
   ]
  },
  {
   "cell_type": "code",
   "execution_count": 2,
   "metadata": {},
   "outputs": [],
   "source": [
    "using LinearAlgebra\n",
    "using Plots\n",
    "using SparseArrays\n",
    "using ForwardDiff\n",
    "using Random"
   ]
  },
  {
   "cell_type": "markdown",
   "metadata": {},
   "source": [
    "### 2D Point Mass Continous dynamics"
   ]
  },
  {
   "cell_type": "code",
   "execution_count": 3,
   "metadata": {},
   "outputs": [
    {
     "data": {
      "text/plain": [
       "point_mass (generic function with 1 method)"
      ]
     },
     "execution_count": 3,
     "metadata": {},
     "output_type": "execute_result"
    }
   ],
   "source": [
    "c = 0.0\n",
    "m = 1.0\n",
    "function point_mass(x, u)\n",
    "   # x = state[1]                #x_1 = ẋ\n",
    "    ẋ = x[3]\n",
    "    ẍ = -(c/m)*ẋ + u[1]/(m)  #x_2 = ẍ = (-c/m)ẋ + u/m \n",
    "    #y = state[3]\n",
    "    ẏ = x[4]\n",
    "    ÿ = -(c/m)*ẏ + u[2]/(m)  #x_2 = ẍ = (-c/m)ẋ + u/m \n",
    "    return [ẋ; ẏ; ẍ; ÿ]\n",
    "end"
   ]
  },
  {
   "cell_type": "markdown",
   "metadata": {},
   "source": [
    "### Linearizing and discretizing the dynamics"
   ]
  },
  {
   "cell_type": "code",
   "execution_count": 4,
   "metadata": {},
   "outputs": [],
   "source": [
    "function lin_dyn_discrete(dynamics, x, u, dt)\n",
    "    A = ForwardDiff.jacobian(dx -> dynamics(dx, u), x)\n",
    "    B = ForwardDiff.jacobian(du -> dynamics(x, du), u)\n",
    "    A = dt .* A + I\n",
    "    B = dt .* B\n",
    "    return A, B\n",
    "end\n",
    "x = [0; 0; 0 ;0]\n",
    "u = [0; 0];"
   ]
  },
  {
   "cell_type": "code",
   "execution_count": 5,
   "metadata": {},
   "outputs": [
    {
     "data": {
      "text/plain": [
       "8×2 Matrix{Float64}:\n",
       " 0.0   0.0\n",
       " 0.0   0.0\n",
       " 0.0   0.0\n",
       " 0.0   0.0\n",
       " 0.0   0.0\n",
       " 0.0   0.0\n",
       " 0.01  0.0\n",
       " 0.0   0.01"
      ]
     },
     "execution_count": 5,
     "metadata": {},
     "output_type": "execute_result"
    }
   ],
   "source": [
    "A1, B1 = lin_dyn_discrete(point_mass, x, u, 0.01)\n",
    "A2, B2 = lin_dyn_discrete(point_mass, x, u, 0.01)\n",
    "A = blockdiag(sparse(A1), sparse(A2))\n",
    "B1Shape = size(B1)\n",
    "B2Shape = size(B2)\n",
    "B1 = [sparse(B1); zeros(B2Shape)]\n",
    "B2 = [zeros(B1Shape); B2]"
   ]
  },
  {
   "cell_type": "markdown",
   "metadata": {},
   "source": [
    "### Cost function"
   ]
  },
  {
   "cell_type": "code",
   "execution_count": 6,
   "metadata": {},
   "outputs": [
    {
     "data": {
      "text/plain": [
       "cost (generic function with 1 method)"
      ]
     },
     "execution_count": 6,
     "metadata": {},
     "output_type": "execute_result"
    }
   ],
   "source": [
    "# Constraint \n",
    "obstacle = [10.0, 10.0, 0.0, 0.0]\n",
    "dmax = 2.0\n",
    "ρ = 500.0\n",
    "# Q = 0.1*I(4) #state cost for point mass 1\n",
    "# R = 10.0*I(2)\n",
    "# Qn = 10.0*I(4)\n",
    "function cost(Qi, Rii, Rij, Qni, x, ui, uj, xgoal, uigoal, ujgoal, B)\n",
    "\n",
    "    goal = x - xgoal# check x or x̂\n",
    "    rel_dist = (x[1:2] - x[5:6])'*I*(x[1:2] - x[5:6])\n",
    "    if B \n",
    "        return 0.5*goal'*Qni*goal #+ ρ/(exp(rel_dist))\n",
    "    else            \n",
    "        dx = x - xgoal\n",
    "        dui = ui - uigoal\n",
    "        duj = uj - ujgoal\n",
    "#         c = (rel_dist - dmax)\n",
    "#         if c < 0\n",
    "#             c = 0.0000000000000001\n",
    "#         end\n",
    "\n",
    "        return 0.5*(dx'*Qi*dx + dui'*Rii*dui + duj'*Rij*duj) + ρ*(min(sqrt(rel_dist) - dmax, 0))^2 #- (ρ)*log2(c)\n",
    "        \n",
    "    end\n",
    "end"
   ]
  },
  {
   "cell_type": "markdown",
   "metadata": {},
   "source": [
    "## Quadriticize the cost function"
   ]
  },
  {
   "cell_type": "code",
   "execution_count": 7,
   "metadata": {},
   "outputs": [
    {
     "data": {
      "text/plain": [
       "quadratic_cost (generic function with 1 method)"
      ]
     },
     "execution_count": 7,
     "metadata": {},
     "output_type": "execute_result"
    }
   ],
   "source": [
    "function quadratic_cost(cost_fun, Qi, Rii, Rij, Qni, x, ui, uj, xgoal, uigoal, ujgoal, B)\n",
    "    \"\"\"\n",
    "    2nd order Taylor expansion of cost at t\n",
    "    I neglected the mixed paritals in the hessian\n",
    "    \"\"\"\n",
    "    Q̂i = ForwardDiff.hessian(dx -> cost_fun(Qi, Rii, Rij, Qni, dx, ui, uj, xgoal, uigoal, ujgoal, B), x)\n",
    "    l̂i = ForwardDiff.gradient(dx -> cost_fun(Qi, Rii, Rij, Qni, dx, ui, uj, xgoal, uigoal, ujgoal, B), x)\n",
    "    R̂ii = ForwardDiff.hessian(du -> cost_fun(Qi, Rii, Rij, Qni, x, du, uj, xgoal, uigoal, ujgoal, B), ui)\n",
    "    r̂ii = ForwardDiff.gradient(du -> cost_fun(Qi, Rii, Rij, Qni, x, du, uj, xgoal, uigoal, ujgoal, B), ui)\n",
    "    R̂ij = ForwardDiff.hessian(du -> cost_fun(Qi, Rii, Rij, Qni, x, ui, du, xgoal, uigoal, ujgoal, B), uj)\n",
    "    r̂ij = ForwardDiff.gradient(du -> cost_fun(Qi, Rii, Rij, Qni, x, ui, du, xgoal, uigoal, ujgoal, B), uj)\n",
    "\n",
    "    if B\n",
    "        dx = x - xgoal\n",
    "        dui = zeros(size(ui))\n",
    "        duj = zeros(size(uj))\n",
    "    else\n",
    "        dx = x - xgoal\n",
    "        dui = ui - uigoal\n",
    "        duj = uj - ujgoal\n",
    "    end\n",
    "    cost = 0.5 * dx' * (Q̂i*dx + 2*l̂i) + 0.5 * dui' * (R̂ii*dui + 2*r̂ii) + 0.5 * duj' * (R̂ij*duj + 2*r̂ij)\n",
    "    return cost, Q̂i, l̂i, R̂ii, r̂ii, R̂ij, r̂ij\n",
    "end"
   ]
  },
  {
   "cell_type": "markdown",
   "metadata": {},
   "source": [
    "## Create costs for the 2 players"
   ]
  },
  {
   "cell_type": "code",
   "execution_count": 8,
   "metadata": {},
   "outputs": [],
   "source": [
    "Q1 = sparse(zeros(8,8)) #state cost for point mass 1\n",
    "Q1[1,1] = 1; Q1[2,2] = 1; Q1[3,3] = 1; Q1[4,4] = 1;\n",
    "Qn1 = Q1\n",
    "Q2 = sparse(zeros(8,8))   #state cost for point mass 2\n",
    "Q2[5,5] = 1; Q2[6,6] = 1; Q2[7,7] = 1; Q2[8,8] = 1;\n",
    "Qn2 = Q2\n",
    "R11 = 1*I(2)    #Control cost for player 1\n",
    "R22 = 1*I(2)    #Contorl cost for player 2\n",
    "R12 = sparse(zeros(2,2))    #Control cost for player 1 associated with player 2's controls\n",
    "R21 = sparse(zeros(2,2));    #Control cost for player 2 associated with player 1's controls"
   ]
  },
  {
   "cell_type": "code",
   "execution_count": 9,
   "metadata": {},
   "outputs": [
    {
     "data": {
      "text/plain": [
       "20000.0"
      ]
     },
     "execution_count": 9,
     "metadata": {},
     "output_type": "execute_result"
    }
   ],
   "source": [
    "x = [1; 2; 0 ;0; 5; 1; 0; 0]\n",
    "xgoal = [1; 2; 0 ;0; 6; 2; 0; 1]\n",
    "u1 = [200; 0]; u2 = [1; 0];\n",
    "u1goal = [0; 0]; u2goal = [0; 0]; \n",
    "cost(Q1, R11, R12, Qn1, x, u1, u2, xgoal, u1goal, u2goal, false)"
   ]
  },
  {
   "cell_type": "markdown",
   "metadata": {},
   "source": [
    "## Player 1 "
   ]
  },
  {
   "cell_type": "code",
   "execution_count": 10,
   "metadata": {},
   "outputs": [
    {
     "data": {
      "text/plain": [
       "(60000.0, [1.0 0.0 … 0.0 0.0; 0.0 1.0 … 0.0 0.0; … ; 0.0 0.0 … 0.0 0.0; 0.0 0.0 … 0.0 0.0], [0.0, 0.0, 0.0, 0.0, 0.0, 0.0, 0.0, 0.0], [1.0 0.0; 0.0 1.0], [200.0, 0.0], [0.0 0.0; 0.0 0.0], [0.0, 0.0])"
      ]
     },
     "execution_count": 10,
     "metadata": {},
     "output_type": "execute_result"
    }
   ],
   "source": [
    "~, Q1, l1, R11, r11, R12, r12 = quadratic_cost(cost, Q1, R11, R12, Qn1, x, u1, u2, xgoal, u1goal, u2goal, false)"
   ]
  },
  {
   "cell_type": "markdown",
   "metadata": {},
   "source": [
    "## Player 2"
   ]
  },
  {
   "cell_type": "code",
   "execution_count": 11,
   "metadata": {},
   "outputs": [
    {
     "data": {
      "text/plain": [
       "(6.0, [0.0 0.0 … 0.0 0.0; 0.0 0.0 … 0.0 0.0; … ; 0.0 0.0 … 1.0 0.0; 0.0 0.0 … 0.0 1.0], [0.0, 0.0, 0.0, 0.0, -1.0, -1.0, 0.0, -1.0], [1.0 0.0; 0.0 1.0], [1.0, 0.0], [0.0 0.0; 0.0 0.0], [0.0, 0.0])"
      ]
     },
     "execution_count": 11,
     "metadata": {},
     "output_type": "execute_result"
    }
   ],
   "source": [
    "~, Q2, l2, R22, r22, R21, r21 = quadratic_cost(cost, Q2, R22, R21, Qn2, x, u2, u1, xgoal, u2goal, u1goal, false)"
   ]
  },
  {
   "cell_type": "markdown",
   "metadata": {},
   "source": [
    "#### Point Mass Discrete"
   ]
  },
  {
   "cell_type": "markdown",
   "metadata": {},
   "source": [
    "$$ \\frac{d}{dt}x = Ax + \\sum Bu$$\n",
    "\n",
    "Single 2D point mass:\n",
    "$$\\frac{d}{dt}\\begin{bmatrix} x \\\\ y \\\\ \\dot{x} \\\\ \\dot{y}\\end{bmatrix} =  \n",
    " \\begin{bmatrix} 0 & 0 & 1 & 0 \\\\ 0 & 0 & 0 & 1 \\\\ 0 & 0 & -c/m & 0 \\\\ 0 & 0 & 0 & -c/m \\end{bmatrix}\n",
    " \\begin{bmatrix} x \\\\ y \\\\ \\dot{x} \\\\ \\dot{y}\\end{bmatrix} + \n",
    " \\begin{bmatrix} 0 & 0 \\\\ 0 & 0 \\\\ 1/m & 0 \\\\ 0 & 1/m \\end{bmatrix}\n",
    " \\begin{bmatrix} u_x \\\\ u_y\\end{bmatrix} $$\n",
    "\n",
    "two 2D point masses:\n",
    "$$\\frac{d}{dt}\\begin{bmatrix} x_1 \\\\ y_1 \\\\ \\dot{x}_1 \\\\ \\dot{y}_1 \\\\ x_2 \\\\ y_2 \\\\ \\dot{x}_2 \\\\ \\dot{y}_2\\end{bmatrix} =  \n",
    " \\begin{bmatrix} 0 & 0 & 1 & 0 & 0 & 0 & 0 & 0\\\\ \n",
    "                0 & 0 & 0 & 1 & 0 & 0 & 0 & 0 \\\\ \n",
    "                0 & 0 & -c/m_1 & 0 & 0 & 0 & 0 & 0\\\\ \n",
    "                0 & 0 & 0 & -c/m_1 & 0 & 0 & 0 & 0\\\\\n",
    "                0 & 0 & 0 & 0 & 0 & 0 & 1 & 0\\\\ \n",
    "                0 & 0 & 0 & 0 & 0 & 0 & 0 & 1\\\\ \n",
    "                0 & 0 & 0 & 0 & 0 & 0 & -c/m_2 & 0\\\\ \n",
    "                0 & 0 & 0 & 0 & 0 & 0 & 0 & -c/m_2\\\\ \\end{bmatrix}\n",
    " \\begin{bmatrix} x_1 \\\\ y_1 \\\\ \\dot{x}_1 \\\\ \\dot{y}_1 \\\\ x_2 \\\\ y_2 \\\\ \\dot{x}_2 \\\\ \\dot{y}_2\\end{bmatrix} + \n",
    " \\begin{bmatrix} 0 & 0 \\\\ 0 & 0 \\\\ 1/m_1 & 0 \\\\ 0 & 1/m_1 \\\\ 0 & 0 \\\\ 0 & 0 \\\\ 0 & 0 \\\\ 0 & 0\\end{bmatrix}\n",
    " \\begin{bmatrix} u_x^1 \\\\ u_y^1 \\end{bmatrix} +\n",
    " \\begin{bmatrix} 0 & 0 \\\\ 0 & 0 \\\\ 0 & 0 \\\\ 0 & 0 \\\\ 0 & 0 \\\\ 0 & 0 \\\\ 1/m_2 & 0 \\\\ 0 & 1/m_2\\end{bmatrix}\n",
    " \\begin{bmatrix} u_x^2 \\\\ u_y^2 \\end{bmatrix}  $$\n"
   ]
  },
  {
   "cell_type": "markdown",
   "metadata": {},
   "source": [
    "### State and input Jacobian of 2 point masses"
   ]
  },
  {
   "cell_type": "code",
   "execution_count": null,
   "metadata": {},
   "outputs": [],
   "source": []
  },
  {
   "cell_type": "code",
   "execution_count": 12,
   "metadata": {},
   "outputs": [],
   "source": [
    "# x0 = [0; 0; 1; 0; 0; 0; 0; 0]\n",
    "# xref = [2; 1; 1; 2; 0; 0; 0; 0]\n",
    "# function cost(xref, x0)\n",
    "#     x_k = copy(xref - x0)\n",
    "#     c1 = 0\n",
    "#     c2 = 0\n",
    "#     for k in length(k_steps)\n",
    "#         K1 = -sparse([0.1 0.1 0.1 0.0 0.0 0.0 0.0 0.0; 0.0 0.0 0.0 0.0 0.0 0.0 0.0 0.0])\n",
    "#         K2 = -sparse([0.3 -0.1 0.2 0.0 0.0 0.0 0.0 0.0; 0.0 0.0 0.0 0.0 0.0 0.0 0.0 0.0])\n",
    "#         u1 = K1*x_k\n",
    "#         u2 = K2*x_k\n",
    "#         x_k = Ad*x_k + B1d*u1 + B2d*u2\n",
    "#         c1 += x_k'*Q1*x_k + u1'*R11*u1 + u2'*R12*u2\n",
    "#         c2 += x_k'*Q2*x_k + u2'*R22*u2 + u2'*R21*u2\n",
    "#     end\n",
    "#     return c1,c2\n",
    "# end"
   ]
  },
  {
   "cell_type": "markdown",
   "metadata": {},
   "source": [
    "\\begin{bmatrix} S11 & S12 \\\\ S21 & S22 \\end{bmatrix}\n",
    "\\begin{bmatrix} P1 \\\\ P2 \\end{bmatrix} = \n",
    "\\begin{bmatrix} Y1 \\\\ Y2 \\end{bmatrix}"
   ]
  },
  {
   "cell_type": "markdown",
   "metadata": {},
   "source": [
    "\\begin{bmatrix} R^{11} + (B^{1'} * V₁ * B^1) & (B^{1'} * V₁ * B^2) \\\\ (B^{2'} * V_2 * B^1) & R^{22} + (B^{2'} * V_2 * B^2) \\end{bmatrix}"
   ]
  },
  {
   "cell_type": "code",
   "execution_count": 13,
   "metadata": {},
   "outputs": [],
   "source": [
    "# n = 8 #8 states\n",
    "# m = 2 #2 controls\n",
    "# function lqGame!(n, m)\n",
    "#     \"\"\"\n",
    "#     Input\n",
    "#     Ad is an nxn matrix (8x8)\n",
    "#     B1d is an nxm matrix (8x2)\n",
    "#     B2d is an nxm matrix (8x2)\n",
    "#     u is mx1 (2x1)\n",
    "#     Q1 is an nxn matrix (8x8)\n",
    "#     Q2 is an nxn matrix (8x8)\n",
    "#     R11 is an mxm matrix (2x2)\n",
    "#     R12 is an mxm matrix (2x2)\n",
    "#     R21 is an mxm matrix (2x2)\n",
    "#     R22 is an mxm matrix (2x2)\n",
    "#     Output\n",
    "#     P₁ is an mxn matrix (2x8)\n",
    "#     P₂ is an mxn matrix (2x8)\n",
    "#     \"\"\"\n",
    "\n",
    "#     V₁ = copy(Q1) #at last time step\n",
    "#     V₂ = copy(Q2) #at last time step\n",
    "#     P₁ = zeros(k_steps, n*m)\n",
    "#     P₂ = zeros(k_steps, n*m)\n",
    "#     #α₁ = zeros(T[1], m)\n",
    "#     #α₂ = zeros(T[1], m)\n",
    "\n",
    "#     for t in 1:k_steps\n",
    "#         # solving for Ps, check equation 19 in document\n",
    "#         # Player 1\n",
    "#         S11 = R11 + (B1d' * V₁ * B1d) #2x2\n",
    "#         S12 = B1d' * V₁ * B2d # 2x2\n",
    "#         S22 = R22 + (B2d' * V₂ * B2d)\n",
    "#         S21 = B2d' * V₂ * B1d \n",
    "#         S = [S11 S12; S21 S22] # 4x4\n",
    "#         Y1 = B1d' * V₁ * Ad # 2x8\n",
    "#         Y2 = B2d' * V₂ * Ad \n",
    "#         Y = [Y1; Y2] # 4 x 8\n",
    "#         P = S\\Y\n",
    "#         P₁ₜ = P[1:2, :]\n",
    "#         P₂ₜ = P[3:4, :]\n",
    "#         # Player 2\n",
    "#         # Assign Values\n",
    "#         P₁[t, :] = reshape(P₁ₜ, (1, n*m))\n",
    "#         P₂[t, :] = reshape(P₂ₜ, (1, n*m))\n",
    "#         #Update value function(s)\n",
    "#         Fₜ = Ad - (B1d*P₁ₜ + B2d*P₂ₜ)\n",
    "#         V₁ = Q1 + (P₁ₜ' * R11 * P₁ₜ) + (P₂ₜ' * R12 * P₂ₜ) + (Fₜ' * V₁ * Fₜ)\n",
    "#         V₂ = Q2 + (P₁ₜ' * R21 * P₁ₜ) + (P₂ₜ' * R22 * P₂ₜ) + (Fₜ' * V₂ * Fₜ)\n",
    "#         #K[i, :] = reshape(transpose(K_i), (n*m,1))\n",
    "#         #println(\"f\",reshape(K[i, :], (2,4))\n",
    "#     end\n",
    "#     return P₁, P₂#, α₁, α₂\n",
    "# end"
   ]
  },
  {
   "cell_type": "code",
   "execution_count": 14,
   "metadata": {},
   "outputs": [
    {
     "data": {
      "text/plain": [
       "lqGame! (generic function with 1 method)"
      ]
     },
     "execution_count": 14,
     "metadata": {},
     "output_type": "execute_result"
    }
   ],
   "source": [
    "n = 8 #8 states\n",
    "m = 2 #2 controls\n",
    "function lqGame!(Aₜ, B1ₜ, B2ₜ, Q1ₜ, Q2ₜ, l1ₜ, l2ₜ, R11ₜ, R12ₜ, R21ₜ, R22ₜ, r11ₜ, r22ₜ, r12ₜ, r21ₜ)\n",
    "    \"\"\"\n",
    "    Input\n",
    "    Ad is an nxn matrix (8x8)\n",
    "    B1d is an nxm matrix (8x2)\n",
    "    B2d is an nxm matrix (8x2)\n",
    "    u is mx1 (2x1)\n",
    "    Q1 is an nxn matrix (8x8)\n",
    "    Q2 is an nxn matrix (8x8)\n",
    "    l1 is a 8x1\n",
    "    R11 is an mxm matrix (2x2)\n",
    "    R12 is an mxm matrix (2x2)\n",
    "    R21 is an mxm matrix (2x2)\n",
    "    R22 is an mxm matrix (2x2)\n",
    "    Output\n",
    "    P₁ is an mxn matrix (2x8)\n",
    "    P₂ is an mxn matrix (2x8)\n",
    "    α₁ (1x2)\n",
    "    ζ₁ is an nx1 matrix (8x1)\n",
    "    \"\"\"\n",
    "    V₁ = copy(Q1ₜ[:,:,end]) #at last time step\n",
    "    V₂ = copy(Q2ₜ[:,:,end]) #at last time step\n",
    "\n",
    "    ζ₁ = copy(l1ₜ[:,end]) #at last time step\n",
    "    ζ₂ = copy(l2ₜ[:,end]) #at last time step\n",
    "\n",
    "    P₁ = zeros(Float32, (m, n, k_steps))\n",
    "    P₂ = zeros(Float32, (m, n, k_steps))\n",
    "    \n",
    "    α₁ = zeros(Float32, (m, k_steps))\n",
    "    α₂ = zeros(Float32, (m, k_steps))\n",
    "\n",
    "    for t in (k_steps-1):-1:1\n",
    "        # solving for Ps, check equation 19 in document\n",
    "        S11 = R11ₜ[:,:,t] + (B1ₜ[:,:,t]' * V₁ * B1ₜ[:,:,t]) #2x2\n",
    "        S12 = B1ₜ[:,:,t]' * V₁ * B2ₜ[:,:,t] # 2x2\n",
    "        S22 = R22ₜ[:,:,t] + (B2ₜ[:,:,t]' * V₂ * B2ₜ[:,:,t])\n",
    "        S21 = B2ₜ[:,:,t]' * V₂ * B1ₜ[:,:,t]\n",
    "        S = [S11 S12; S21 S22] # 4x4\n",
    "        Y1 = B1ₜ[:,:,t]' * V₁ * Aₜ[:,:,t] # 2x8\n",
    "        Y2 = B2ₜ[:,:,t]' * V₂ * Aₜ[:,:,t] \n",
    "        Y = [Y1; Y2] # 4 x 8\n",
    "        P = S\\Y # 4x8\n",
    "        P₁[:,:,t] = P[1:2, :]\n",
    "        P₂[:,:,t] = P[3:4, :]\n",
    "        \n",
    "        # solve for αs (right hand side of the eqn)\n",
    "        Yα1 = (B1ₜ[:,:,t]' * ζ₁) + r11ₜ[:,t] # 2x2\n",
    "        Yα2 = (B2ₜ[:,:,t]' * ζ₂) + r22ₜ[:,t] # 2x2\n",
    "        Yα = [Yα1; Yα2]  # 4x2\n",
    "        α = S\\Yα # 4x2\n",
    "        α₁[:,t] = α[1:2, :]\n",
    "        α₂[:,t] = α[3:4, :]\n",
    "        \n",
    "        #Update value function(s)\n",
    "        Fₜ = Aₜ[:,:,t] - (B1ₜ[:,:,t]*P₁[:,:,t] + B2ₜ[:,:,t]*P₂[:,:,t])\n",
    "        \n",
    "        βₜ = - (B1ₜ[:,:,t] * α₁[:,t] + B2ₜ[:,:,t] * α₂[:,t])\n",
    "        \n",
    "        ζ₁ = l1ₜ[:,t] + ((P₁[:,:,t]' * R11ₜ[:,:,t] * α₁[:,t]) - (P₁[:,:,t]' * r11ₜ[:,t])) + \n",
    "            ((P₂[:,:,t]' * R12ₜ[:,:,t] * α₂[:,t]) - (P₂[:,:,t]' * r12ₜ[:,t])) + Fₜ'*(ζ₁ + (V₁ * βₜ))\n",
    "        \n",
    "        ζ₂ = l2ₜ[:,t] + ((P₁[:,:,t]' * R21ₜ[:,:,t] * α₁[:,t]) - (P₁[:,:,t]' * r21ₜ[:,t])) + \n",
    "            ((P₂[:,:,t]' * R22ₜ[:,:,t] * α₂[:,t]) - (P₂[:,:,t]' * r22ₜ[:,t])) + Fₜ'*(ζ₂ + (V₂ * βₜ))\n",
    "        \n",
    "        V₁ = Q1ₜ[:,:,t] + (P₁[:,:,t]' * R11ₜ[:,:,t] * P₁[:,:,t]) + \n",
    "            (P₂[:,:,t]' * R12ₜ[:,:,t] * P₂[:,:,t]) + (Fₜ' * V₁ * Fₜ)\n",
    "        \n",
    "        V₂ = Q2ₜ[:,:,t] + (P₁[:,:,t]' * R21ₜ[:,:,t] * P₁[:,:,t]) + \n",
    "            (P₂[:,:,t]' * R22ₜ[:,:,t] * P₂[:,:,t]) + (Fₜ' * V₂ * Fₜ)\n",
    "    end\n",
    "    return P₁, P₂, α₁, α₂\n",
    "end"
   ]
  },
  {
   "cell_type": "code",
   "execution_count": 15,
   "metadata": {},
   "outputs": [],
   "source": [
    "# function Rollout_RK4(fun, x₀, x̂, û, H, dt, P, α, α_scale)\n",
    "#     \"\"\"\n",
    "#     Rollout dynamics with initial state x₀ \n",
    "#     and control law u = -Px - α\n",
    "#     P is an n x b gain matrix\n",
    "#     α is m x 1\n",
    "#     \"\"\"\n",
    "#     umax = [2,2]\n",
    "#     umin = [-1,-1]\n",
    "    \n",
    "#     m = 2 #2 controls\n",
    "#     k_steps = trunc(Int, H/dt) \n",
    "#     xₜ = zeros(k_steps, length(x₀)) # 1500 x n\n",
    "#     uₜ = zeros(k_steps, m)\n",
    "#     xₜ[1,:] .= x₀\n",
    "#     for t=1:(k_steps-1)\n",
    "#         # WHAT IS x̂ in xₜ[t,:] - x̂\n",
    "#         #uₜ[t,:] .= clamp.([0,0] - P[:,:,t]*(xₜ[t,:] - [20,20,0,0]) - α[:,t], umin, umax)\n",
    "#         uₜ[t,:] .= clamp.(û[t,:] - P[:,:,t]*(xₜ[t,:] - x̂[t,:]) - α_scale*α[:,t], umin, umax)\n",
    "#         k1 = fun(xₜ[t,:], uₜ[t,:])\n",
    "#         k2 = fun(xₜ[t,:] + 0.5*dt*k1, uₜ[t,:])\n",
    "#         k3 = fun(xₜ[t,:] + 0.5*dt*k2, uₜ[t,:])\n",
    "#         k4 = fun(xₜ[t,:] + dt*k3, uₜ[t,:])\n",
    "#         xₜ[t+1,:] = xₜ[t,:] + (dt/6.0)*(k1 + 2*k2 + 2*k3 + k4)\n",
    "#     end\n",
    "    \n",
    "#     return xₜ, uₜ\n",
    "# end"
   ]
  },
  {
   "cell_type": "code",
   "execution_count": 16,
   "metadata": {},
   "outputs": [
    {
     "data": {
      "text/plain": [
       "isConverged (generic function with 2 methods)"
      ]
     },
     "execution_count": 16,
     "metadata": {},
     "output_type": "execute_result"
    }
   ],
   "source": [
    "function isConverged(current, last, tolerance = 1e-4)\n",
    "    if norm(current - last) > tolerance\n",
    "        return false\n",
    "    else \n",
    "        return true\n",
    "    end\n",
    "end"
   ]
  },
  {
   "cell_type": "code",
   "execution_count": 17,
   "metadata": {},
   "outputs": [],
   "source": [
    "# n1 = 4\n",
    "# n2 = 4\n",
    "# m1 = 2\n",
    "# m2 = 2\n",
    "# dt = 0.1 #step size\n",
    "# H = 10.0  #Horizon\n",
    "# k_steps = trunc(Int, H/dt) \n",
    "# x1₀= [1.0; 0.0; 0.0; 0.0] \n",
    "# x2₀ = [0.0; 1.0; 0.0; 0.0]\n",
    "# x1goal = [1.0; 3.0; 0.0; 0.0]\n",
    "# x2goal = [3.0; 1.0; 0.0; 0.0]\n",
    "# x̂₁ = zeros(k_steps, n1) # 1500 x need\n",
    "# x̂₂ = zeros(k_steps, n2) # 1500 x need\n",
    "# û₁ = zeros(k_steps, m1)\n",
    "# û₂ = zeros(k_steps, m2) \n",
    "# P₁ = rand(m1, n1, k_steps)*0.1\n",
    "# P₂ = rand(m2, n2, k_steps)*0.1\n",
    "# α₁ = rand(m1, k_steps)*0.1\n",
    "# α₂ = rand(m2, k_steps)*0.1\n",
    "\n",
    "# # Rollout player 1\n",
    "# x1ₜ, u1ₜ = Rollout_RK4(point_mass, x1₀, x̂₁, û₁, H, dt, P₁, α₁, 1.0) #xₜ is [k_steps, 4]\n",
    "\n",
    "# # Rollout player 2\n",
    "# x2ₜ, u2ₜ = Rollout_RK4(point_mass, x2₀, x̂₂, û₂, H, dt, P₂, α₂, 1.0) #xₜ is [k_steps, 4]\n",
    "\n",
    "\n",
    "# Aₜ = zeros(Float32, (n, n, k_steps))\n",
    "# B1ₜ = zeros(Float32, (n, m, k_steps))\n",
    "# B2ₜ = zeros(Float32, (n, m, k_steps))\n",
    "\n",
    "# Q1ₜ = zeros(Float32, (n, n, k_steps))\n",
    "# Q2ₜ = zeros(Float32, (n, n, k_steps))\n",
    "\n",
    "# l1ₜ = zeros(Float32, (n, k_steps))\n",
    "# l2ₜ = zeros(Float32, (n, k_steps))\n",
    "\n",
    "# R11ₜ = zeros(Float32, (m, m, k_steps))\n",
    "# R12ₜ = zeros(Float32, (m, m, k_steps))\n",
    "# R22ₜ = zeros(Float32, (m, m, k_steps))\n",
    "# R21ₜ = zeros(Float32, (m, m, k_steps))\n",
    "\n",
    "# r11ₜ = zeros(Float32, (m, k_steps))\n",
    "# r12ₜ = zeros(Float32, (m, k_steps))\n",
    "# r22ₜ = zeros(Float32, (m, k_steps))\n",
    "# r21ₜ = zeros(Float32, (m, k_steps))"
   ]
  },
  {
   "cell_type": "code",
   "execution_count": 18,
   "metadata": {},
   "outputs": [],
   "source": [
    "# #println(total_cost)\n",
    "# converged = false\n",
    "# u1goal = [0; 0]; u2goal = [0; 0]; \n",
    "# #all_cost = []\n",
    "# βreg = 1.0\n",
    "# αₗ = [1.0, 0.6, 0.4, 0.2, 0.1, 0.01]\n",
    "# while !converged\n",
    "#     converged = isConverged([x1ₜ; x2ₜ], [x̂₁; x̂₂], 1e-2)\n",
    "#     #println(converged)\n",
    "#     total_cost1 = 0\n",
    "#     total_cost2 = 0\n",
    "#     for t = 1:(k_steps-1)\n",
    "#         # 2. Linearize dynamics about trajectory\n",
    "#         # WHAT IS x̂ in xₜ[t,:] - x̂\n",
    "#        # x[1:4]; x[5:end]\n",
    "#         dx1 = x1ₜ[t,:] - x̂₁[t,:]\n",
    "#         dx2 = x2ₜ[t,:] - x̂₂[t,:]\n",
    "#         du1 = u1ₜ[t,:] - û₁[t,:]\n",
    "#         du2 = u2ₜ[t,:] - û₂[t,:]\n",
    "#         #Aₜ[:,:,t], Bₜ[:,:,t] = lin_dyn_discrete(point_mass, dx, du, dt)\n",
    "\n",
    "#         A1, B1 = lin_dyn_discrete(point_mass, dx1, du1, dt)\n",
    "#         A2, B2 = lin_dyn_discrete(point_mass, dx2, du2, dt)\n",
    "#         Aₜ[:,:,t] = blockdiag(sparse(A1), sparse(A2))\n",
    "#         B1Shape = size(B1)\n",
    "#         B2Shape = size(B2)\n",
    "#         B1ₜ[:,:,t] = [sparse(B1); zeros(B2Shape)]\n",
    "#         B2ₜ[:,:,t] = [zeros(B1Shape); B2]\n",
    "#         # 3. Compute second order Taylor series expansion the cost function\n",
    "#         # WHAT IS x̂ in xₜ[t,:] - x̂\n",
    "#         #costval, Qₜ[:,:,t], lₜ[:,t], Rₜ[:,:,t], rₜ[:,t] = quadratic_cost(cost, xₜ[t,:], uₜ[t,:], xgoal, ugoal, false)\n",
    "#         #Player 1 cost\n",
    "#         costval1, Q1ₜ[:,:,t], l1ₜ[:,t], R11ₜ[:,:,t], r11ₜ[:,t], R12ₜ[:,:,t], r12ₜ[:,t] = quadratic_cost(cost, Q1, R11, R12, Qn1, [x1ₜ[t,:]; x2ₜ[t,:]], u1ₜ[t,:], u2ₜ[t,:], [x1goal; x2goal], u1goal, u2goal, false)\n",
    "#         #Player 2 cost\n",
    "#         costval2, Q2ₜ[:,:,t], l2ₜ[:,t], R22ₜ[:,:,t], r22ₜ[:,t], R21ₜ[:,:,t], r21ₜ[:,t] = quadratic_cost(cost, Q2, R22, R21, Qn2, [x1ₜ[t,:]; x2ₜ[t,:]], u1ₜ[t,:], u2ₜ[t,:], [x1goal; x2goal], u1goal, u2goal, false)\n",
    "#         # Regularization\n",
    "#         while !isposdef(Q1ₜ[:,:,t])\n",
    "#             Q1ₜ[:,:,t] = Q1ₜ[:,:,t] + βreg*I\n",
    "#         end\n",
    "#         while !isposdef(Q2ₜ[:,:,t])\n",
    "#             Q2ₜ[:,:,t] = Q2ₜ[:,:,t] + βreg*I\n",
    "#         end\n",
    "#         # @show Rₜ[:,:,t] \n",
    "#         total_cost1 += costval1\n",
    "#         total_cost2 += costval2\n",
    "#     end\n",
    "#     #Player 1 Terminal cost\n",
    "#     costval1, Q1ₜ[:,:,end], l1ₜ[:,end], R11ₜ[:,:,end], r11ₜ[:,end], R12ₜ[:,:,end], r12ₜ[:,end] = quadratic_cost(cost, Q1, R11, R12, Qn1, [x1ₜ[end,:]; x2ₜ[end,:]], u1ₜ[end,:], u2ₜ[end,:], [x1goal; x2goal], u1goal, u2goal, true)\n",
    "#     #Player 2 Terminal cost\n",
    "#     costval2, Q2ₜ[:,:,end], l2ₜ[:,end], R22ₜ[:,:,end], r22ₜ[:,end], R21ₜ[:,:,end], r21ₜ[:,end] = quadratic_cost(cost, Q2, R22, R21, Qn2, [x1ₜ[end,:]; x2ₜ[end,:]], u1ₜ[end,:], u2ₜ[end,:], [x1goal; x2goal], u1goal, u2goal, true)\n",
    "\n",
    "#     total_cost1 += costval1\n",
    "#     total_cost2 += costval2\n",
    "\n",
    "#     # @show costs[end]\n",
    "#     # 4. Do lqr\n",
    "#     #P, α = affinelq!(Aₜ, Bₜ, Qₜ, lₜ, Rₜ , rₜ);\n",
    "#     P₁, P₂, α₁, α₂ = lqGame!(Aₜ, B1ₜ, B2ₜ, Q1ₜ, Q2ₜ, l1ₜ, l2ₜ, R11ₜ, R12ₜ, R21ₜ, R22ₜ, r11ₜ, r22ₜ, r12ₜ, r21ₜ)\n",
    "\n",
    "#     x1ₜ = x̂₁\n",
    "#     x2ₜ = x̂₂\n",
    "#     u1ₜ = û₁\n",
    "#     u2ₜ = û₂\n",
    "#     # Rollout player 1\n",
    "#     x1ₜ, u1ₜ = Rollout_RK4(point_mass, x1₀, x̂₁, û₁, H, dt, P₁[:, 1:4, :], α₁, 1.0) #xₜ is [k_steps, 4]\n",
    "\n",
    "#     # Rollout player 2\n",
    "#     x2ₜ, u2ₜ = Rollout_RK4(point_mass, x2₀, x̂₂, û₂, H, dt, P₂[:, 5:end, :], α₂, 1.0) #xₜ is [k_steps, 4]\n",
    "#     #println(converged)\n",
    "\n",
    "#     #     push!(all_cost, total_cost)\n",
    "#     #     #@show xₜ[1,:] \n",
    "#     #     #@show xₜ[end,:]\n",
    "#     @show total_cost1, total_cost2\n",
    "# end"
   ]
  },
  {
   "cell_type": "code",
   "execution_count": 19,
   "metadata": {},
   "outputs": [
    {
     "data": {
      "text/plain": [
       "rollout_PM (generic function with 1 method)"
      ]
     },
     "execution_count": 19,
     "metadata": {},
     "output_type": "execute_result"
    }
   ],
   "source": [
    "m₁ = 1\n",
    "m₂ = 1\n",
    "c = 0.1\n",
    "A1 = sparse([0 0 1 0; 0 0 0 1; 0 0 (-c/m₁) 0; 0 0 0 (-c/m₁)])\n",
    "A2 = sparse([0 0 1 0; 0 0 0 1; 0 0 (-c/m₂) 0; 0 0 0 (-c/m₂)])\n",
    "A = blockdiag(A1, A2)\n",
    "B1 = sparse([0 0; 0 0; (1/m₁) 0; 0 (1/m₁); 0 0; 0 0; 0 0; 0 0])  #Control Jacobian for point mass 1\n",
    "B2 = sparse([0 0; 0 0; 0 0; 0 0; 0 0; 0 0; (1/m₂) 0; 0 (1/m₂)])    #Control Jacobian for point mass 2\n",
    "dt = 0.1 #step size\n",
    "H = 10.0  #Horizon\n",
    "k_steps = trunc(Int, H/dt) \n",
    "\n",
    "Ad = dt .* A + I    #discretize (zero order hold)\n",
    "B1d = dt .*B1   #discrete (zero order hold)\n",
    "B2d = dt .*B2;   #discrete (zero order hold)\n",
    "Ad\n",
    "function rollout_PM(x₀, x̂, û, H, dt, P, α, α_scale)\n",
    "    umax = [2.0,2.0]\n",
    "    umin = [-2.0,-2.0]\n",
    "    m = 2 #2 controls\n",
    "    k_steps = trunc(Int, H/dt) \n",
    "    xₜ = zeros(k_steps, length(x₀)) # 1500 x n\n",
    "    u1ₜ = zeros(k_steps, m) \n",
    "    u2ₜ = zeros(k_steps, m) \n",
    "    xₜ[1,:] .= x₀\n",
    "    #xgoal = [1.0; 3.0; 0.0; 0.0; 3.0; 1.0; 0.0; 0.0]\n",
    "    for t=1:(k_steps-1)\n",
    "        u1ₜ[t,:] .= clamp.(û[1][t,:] - P[1][:,:,t]*(xₜ[t,:] - x̂[t,:]) - α_scale*α[1][:,t], umin, umax)\n",
    "        u2ₜ[t,:] .= clamp.(û[2][t,:] - P[2][:,:,t]*(xₜ[t,:] - x̂[t,:]) - α_scale*α[2][:,t], umin, umax)\n",
    "        xₜ[t+1,:] .= Ad*xₜ[t,:] + B1d*u1ₜ[t,:] + B2d*u2ₜ[t,:]\n",
    "        #xₜ[t+1,:] .= Ad*(xₜ[t,:] - x̂[t,:]) + B1d*(u1ₜ[t,:] - û[1][t,:]) + B2d*(u2ₜ[t,:] - û[2][t,:])\n",
    "    end\n",
    "    return xₜ, u1ₜ, u2ₜ\n",
    "end"
   ]
  },
  {
   "cell_type": "code",
   "execution_count": 20,
   "metadata": {},
   "outputs": [
    {
     "data": {
      "text/plain": [
       "2×100 Matrix{Float32}:\n",
       " 0.0  0.0  0.0  0.0  0.0  0.0  0.0  0.0  …  0.0  0.0  0.0  0.0  0.0  0.0  0.0\n",
       " 0.0  0.0  0.0  0.0  0.0  0.0  0.0  0.0     0.0  0.0  0.0  0.0  0.0  0.0  0.0"
      ]
     },
     "execution_count": 20,
     "metadata": {},
     "output_type": "execute_result"
    }
   ],
   "source": [
    "n = 8\n",
    "m1 = 2\n",
    "m2 = 2\n",
    "# dt = 0.1 #step size\n",
    "# H = 10.0  #Horizon\n",
    "# k_steps = trunc(Int, H/dt) \n",
    "x₀= [5.0; 0.0; 0.0; 0.0; 0.0; 5.0; 0.0; 0.0] \n",
    "xgoal = [5.0; 10.0; 0.0; 0.0; 10.0; 5.0; 0.0; 0.0]\n",
    "x̂ = zeros(k_steps, n) # 1500 x need\n",
    "û₁ = zeros(k_steps, m1)\n",
    "û₂ = zeros(k_steps, m2) \n",
    "P₁ = rand(m1, n, k_steps)*0.01\n",
    "P₂ = rand(m2, n, k_steps)*0.01\n",
    "α₁ = rand(m1, k_steps)*0.01\n",
    "α₂ = rand(m2, k_steps)*0.01\n",
    "\n",
    "P = [P₁, P₂]\n",
    "α = [α₁, α₂]\n",
    "û = [û₁, û₂]\n",
    "\n",
    "xₜ, u1ₜ, u2ₜ = rollout_PM(x₀, x̂, û, H, dt, P, α, 0.0) #xₜ is [k_steps, 4]\n",
    "\n",
    "Aₜ = zeros(Float32, (n, n, k_steps))\n",
    "B1ₜ = zeros(Float32, (n, m, k_steps))\n",
    "B2ₜ = zeros(Float32, (n, m, k_steps))\n",
    "\n",
    "Q1ₜ = zeros(Float32, (n, n, k_steps))\n",
    "Q2ₜ = zeros(Float32, (n, n, k_steps))\n",
    "\n",
    "l1ₜ = zeros(Float32, (n, k_steps))\n",
    "l2ₜ = zeros(Float32, (n, k_steps))\n",
    "\n",
    "R11ₜ = zeros(Float32, (m, m, k_steps))\n",
    "R12ₜ = zeros(Float32, (m, m, k_steps))\n",
    "R22ₜ = zeros(Float32, (m, m, k_steps))\n",
    "R21ₜ = zeros(Float32, (m, m, k_steps))\n",
    "\n",
    "r11ₜ = zeros(Float32, (m, k_steps))\n",
    "r12ₜ = zeros(Float32, (m, k_steps))\n",
    "r22ₜ = zeros(Float32, (m, k_steps))\n",
    "r21ₜ = zeros(Float32, (m, k_steps))"
   ]
  },
  {
   "cell_type": "code",
   "execution_count": 21,
   "metadata": {},
   "outputs": [
    {
     "name": "stdout",
     "output_type": "stream",
     "text": [
      "(total_cost1, total_cost2) = (16895.28115189163, 16827.017179753195)\n",
      "(total_cost1, total_cost2) = (10608.980672899343, 10571.451163600686)\n",
      "(total_cost1, total_cost2) = (1.7022261640915188e6, 1.7022065319730157e6)\n",
      "(total_cost1, total_cost2) = (1.833961357458293e6, 1.8337550316215188e6)\n",
      "(total_cost1, total_cost2) = (1.3425380962474926e6, 1.3415178916663337e6)\n",
      "(total_cost1, total_cost2) = (24398.823299451953, 22349.667958350754)\n",
      "(total_cost1, total_cost2) = (34818.804610155246, 33475.02376147729)\n",
      "(total_cost1, total_cost2) = (44126.498704493155, 43028.50766438878)\n",
      "(total_cost1, total_cost2) = (81865.95779166638, 80954.63857946356)\n",
      "(total_cost1, total_cost2) = (70563.05941074168, 69805.52389899021)\n",
      "(total_cost1, total_cost2) = (80843.86468645386, 80203.92609093904)\n",
      "(total_cost1, total_cost2) = (82961.00217294552, 82411.1651605529)\n",
      "(total_cost1, total_cost2) = (77095.13058435389, 76619.67558610089)\n",
      "(total_cost1, total_cost2) = (66583.34829766149, 66143.10836598562)\n",
      "(total_cost1, total_cost2) = (55733.47054393796, 55321.42007043333)\n",
      "(total_cost1, total_cost2) = (44922.20251256749, 44537.96052753139)\n",
      "(total_cost1, total_cost2) = (59272.144533217564, 58913.153912016394)\n",
      "(total_cost1, total_cost2) = (50140.721002735925, 49806.90105229267)\n",
      "(total_cost1, total_cost2) = (44979.512661043, 44666.52276399669)\n",
      "(total_cost1, total_cost2) = (40837.216905198235, 40544.20844245456)\n",
      "(total_cost1, total_cost2) = (34579.05086946745, 34305.02625774017)\n",
      "(total_cost1, total_cost2) = (31339.23459006641, 31083.30131781468)\n",
      "(total_cost1, total_cost2) = (49810.64940123749, 49572.171820626354)\n",
      "(total_cost1, total_cost2) = (46739.45154874454, 46517.93818135607)\n",
      "(total_cost1, total_cost2) = (44443.79235233446, 44237.615728667064)\n",
      "(total_cost1, total_cost2) = (42658.18423253216, 42466.17802790704)\n",
      "(total_cost1, total_cost2) = (41197.06479047859, 41018.49216351595)\n",
      "(total_cost1, total_cost2) = (39999.41397485573, 39833.54478446478)\n",
      "(total_cost1, total_cost2) = (39040.50871077181, 38886.64797975506)\n",
      "(total_cost1, total_cost2) = (38248.55359162094, 38106.05085007874)\n",
      "(total_cost1, total_cost2) = (35661.88382986585, 35530.17416563231)\n",
      "(total_cost1, total_cost2) = (34272.5337628069, 34151.027673434364)\n",
      "(total_cost1, total_cost2) = (33167.575575224604, 33055.5704397092)\n",
      "(total_cost1, total_cost2) = (32271.468196821297, 32168.31257987052)\n",
      "(total_cost1, total_cost2) = (31542.838867004473, 31447.89917306552)\n",
      "(total_cost1, total_cost2) = (30946.01974508306, 30858.73132356709)\n",
      "(total_cost1, total_cost2) = (30479.123625450888, 30398.88727316878)\n",
      "(total_cost1, total_cost2) = (30096.459819102478, 30022.76308271839)\n",
      "(total_cost1, total_cost2) = (29770.857273087775, 29703.27868758237)\n",
      "(total_cost1, total_cost2) = (29496.877332392054, 29435.002180087613)\n",
      "(total_cost1, total_cost2) = (29266.20371022736, 29209.642068504567)\n",
      "(total_cost1, total_cost2) = (29075.8310046376, 29024.200891461845)\n",
      "(total_cost1, total_cost2) = (28915.06673179159, 28868.026549491988)\n",
      "(total_cost1, total_cost2) = (28779.68960836345, 28736.918587208816)\n",
      "(total_cost1, total_cost2) = (28661.2344909008, 28622.452799230767)\n",
      "(total_cost1, total_cost2) = (28562.682217056383, 28527.604480474878)\n",
      "(total_cost1, total_cost2) = (28481.013711708783, 28449.373760639854)\n",
      "(total_cost1, total_cost2) = (28413.67674312047, 28385.226396481823)\n",
      "(total_cost1, total_cost2) = (28356.85888156796, 28331.37315268246)\n",
      "(total_cost1, total_cost2) = (28310.31584788263, 28287.57845770041)\n",
      "(total_cost1, total_cost2) = (28272.582375501886, 28252.391976245628)\n",
      "(total_cost1, total_cost2) = (28238.237191168904, 28220.418721276517)\n",
      "(total_cost1, total_cost2) = (28211.283575008805, 28195.660548615815)\n",
      "(total_cost1, total_cost2) = (28191.678231176604, 28178.080566174656)\n",
      "(total_cost1, total_cost2) = (28176.23154419551, 28164.509494141108)\n",
      "(total_cost1, total_cost2) = (28160.530362057005, 28150.553418217223)\n",
      "(total_cost1, total_cost2) = (28152.258186313327, 28143.87570597715)\n",
      "(total_cost1, total_cost2) = (28147.289944950553, 28140.372828464122)\n",
      "(total_cost1, total_cost2) = (28144.871254989084, 28139.30124987689)\n",
      "(total_cost1, total_cost2) = (28140.605058256766, 28136.27982069613)\n",
      "(total_cost1, total_cost2) = (28139.642638273614, 28136.45813765954)\n",
      "(total_cost1, total_cost2) = (28139.67928464203, 28137.544490030996)\n",
      "(total_cost1, total_cost2) = (28140.634694513858, 28139.465543945014)\n",
      "(total_cost1, total_cost2) = (28138.584006175588, 28138.30736636872)\n",
      "(total_cost1, total_cost2) = (28138.029849808154, 28138.57335360226)\n",
      "(total_cost1, total_cost2) = (28140.57122804342, 28141.867783436737)\n",
      "(total_cost1, total_cost2) = (28143.06346669257, 28145.053373796676)\n",
      "(total_cost1, total_cost2) = (28145.654948164254, 28148.282890210005)\n",
      "(total_cost1, total_cost2) = (28148.39992789541, 28151.614810138733)\n",
      "(total_cost1, total_cost2) = (28151.31469784037, 28155.069494817257)\n",
      "(total_cost1, total_cost2) = (28150.628482601333, 28154.882182754754)\n",
      "(total_cost1, total_cost2) = (28150.836324983833, 28155.548411298903)\n",
      "(total_cost1, total_cost2) = (28152.49745914621, 28157.629990042926)\n",
      "(total_cost1, total_cost2) = (28153.817487425324, 28159.33765039991)\n",
      "(total_cost1, total_cost2) = (28155.01622325543, 28160.893311002583)\n",
      "(total_cost1, total_cost2) = (28156.206508894622, 28162.412011180935)\n",
      "(total_cost1, total_cost2) = (28157.436345196744, 28163.943926411423)\n",
      "(total_cost1, total_cost2) = (28158.73020105147, 28165.515575492387)\n",
      "(total_cost1, total_cost2) = (28160.088913217078, 28167.12975263739)\n",
      "(total_cost1, total_cost2) = (28161.507563217307, 28168.783351366386)\n",
      "(total_cost1, total_cost2) = (28162.976156687557, 28170.468041599197)\n",
      "(total_cost1, total_cost2) = (28164.48103561377, 28172.171687976606)\n",
      "(total_cost1, total_cost2) = (28166.00813165009, 28173.88164001011)\n",
      "(total_cost1, total_cost2) = (28167.54917738323, 28175.59092135409)\n",
      "(total_cost1, total_cost2) = (28165.358360486003, 28173.555395309577)\n",
      "(total_cost1, total_cost2) = (28163.898432712787, 28172.23805322611)\n",
      "(total_cost1, total_cost2) = (28162.95670799624, 28171.427337736386)\n",
      "(total_cost1, total_cost2) = (28162.386735409727, 28170.97778086158)\n",
      "(total_cost1, total_cost2) = (28162.08299586472, 28170.784722540917)\n",
      "(total_cost1, total_cost2) = (28161.983957667977, 28170.787463139015)\n",
      "(total_cost1, total_cost2) = (28162.03365289668, 28170.930752386073)\n",
      "(total_cost1, total_cost2) = (28162.195835052647, 28171.179013725454)\n",
      "(total_cost1, total_cost2) = (28162.443286873517, 28171.505629000647)\n",
      "(total_cost1, total_cost2) = (28162.754459348787, 28171.889634887786)\n",
      "(total_cost1, total_cost2) = (28163.112397733268, 28172.31457806458)\n",
      "(total_cost1, total_cost2) = (28163.50669694537, 28172.77051967814)\n",
      "(total_cost1, total_cost2) = (28163.92266000202, 28173.243190155932)\n",
      "(total_cost1, total_cost2) = (28164.357031358802, 28173.72975301992)\n",
      "(total_cost1, total_cost2) = (28164.798017675967, 28174.218753603152)\n",
      "(total_cost1, total_cost2) = (28165.24729514956, 28174.7122224046)\n",
      "(total_cost1, total_cost2) = (28165.696766091958, 28175.20236907799)\n",
      "(total_cost1, total_cost2) = (28166.14106708183, 28175.684107454643)\n",
      "(total_cost1, total_cost2) = (28166.580172393184, 28176.157666254883)\n",
      "(total_cost1, total_cost2) = (28167.013632940736, 28176.622859064286)\n",
      "(total_cost1, total_cost2) = (28167.434485756494, 28177.07289936369)\n",
      "(total_cost1, total_cost2) = (28167.84264469942, 28177.507929137486)\n",
      "(total_cost1, total_cost2) = (28168.24309311481, 28177.933126293985)\n",
      "(total_cost1, total_cost2) = (28168.627451735254, 28178.34025844003)\n",
      "(total_cost1, total_cost2) = (28168.998515999876, 28178.732286026527)\n",
      "(total_cost1, total_cost2) = (28169.355259540298, 28179.108333298827)\n",
      "(total_cost1, total_cost2) = (28169.698668901692, 28179.469520434996)\n",
      "(total_cost1, total_cost2) = (28170.02753467563, 28179.81474543831)\n",
      "(total_cost1, total_cost2) = (28170.340852467787, 28180.143139980417)\n",
      "(total_cost1, total_cost2) = (28170.64007680516, 28180.45624300107)\n",
      "(total_cost1, total_cost2) = (28170.928670359244, 28180.757614937535)\n",
      "(total_cost1, total_cost2) = (28171.20273917603, 28181.04344504962)\n",
      "(total_cost1, total_cost2) = (28171.460988913655, 28181.312523595145)\n",
      "(total_cost1, total_cost2) = (28171.707108197188, 28181.568621914033)\n",
      "(total_cost1, total_cost2) = (28171.938225588092, 28181.808922548782)\n",
      "(total_cost1, total_cost2) = (28172.162064928445, 28182.041224973014)\n",
      "(total_cost1, total_cost2) = (28172.36725905669, 28182.254194512774)\n",
      "(total_cost1, total_cost2) = (28172.565828279534, 28182.459937685733)\n",
      "(total_cost1, total_cost2) = (28172.753459615724, 28182.654177533248)\n",
      "(total_cost1, total_cost2) = (28172.931017396288, 28182.837825208004)\n",
      "(total_cost1, total_cost2) = (28173.098181712918, 28183.010590829104)\n",
      "(total_cost1, total_cost2) = (28173.25448917295, 28183.172050530593)\n",
      "(total_cost1, total_cost2) = (28173.399507502105, 28183.32180637763)\n",
      "(total_cost1, total_cost2) = (28173.540039631876, 28183.46670948594)\n",
      "(total_cost1, total_cost2) = (28173.67327500489, 28183.60397654026)\n",
      "(total_cost1, total_cost2) = (28173.796183546427, 28183.73059496365)\n",
      "(total_cost1, total_cost2) = (28173.91137968647, 28183.849204895407)\n",
      "(total_cost1, total_cost2) = (28174.01945380977, 28183.960416342255)\n",
      "(total_cost1, total_cost2) = (28174.122073452625, 28184.065928948516)\n",
      "(total_cost1, total_cost2) = (28174.215200924675, 28184.16171455951)\n",
      "(total_cost1, total_cost2) = (28174.306887732702, 28184.255867849653)\n",
      "(total_cost1, total_cost2) = (28174.389527439587, 28184.3407638546)\n",
      "(total_cost1, total_cost2) = (28174.466536740405, 28184.419851684266)\n",
      "(total_cost1, total_cost2) = (28174.54045850468, 28184.495689793737)\n",
      "(total_cost1, total_cost2) = (28174.60987616514, 28184.566877014586)\n",
      "(total_cost1, total_cost2) = (28174.67499682383, 28184.633623544585)\n",
      "(total_cost1, total_cost2) = (28174.735597707564, 28184.695717892042)\n",
      "(total_cost1, total_cost2) = (28174.792405380387, 28184.753901946457)\n",
      "(total_cost1, total_cost2) = (28174.843811603238, 28184.806574767455)\n",
      "(total_cost1, total_cost2) = (28174.894047333553, 28184.85798504757)\n",
      "(total_cost1, total_cost2) = (28174.935742692356, 28184.900748405948)\n",
      "(total_cost1, total_cost2) = (28174.980731251657, 28184.946727227332)\n",
      "(total_cost1, total_cost2) = (28175.02246807741, 28184.989384488665)\n",
      "(total_cost1, total_cost2) = (28175.057833416922, 28185.025585838044)\n",
      "(total_cost1, total_cost2) = (28175.093638574825, 28185.062168479442)\n",
      "(total_cost1, total_cost2) = (28175.126218049412, 28185.095459224885)\n",
      "(total_cost1, total_cost2) = (28175.15441620489, 28185.12430445318)\n",
      "(total_cost1, total_cost2) = (28175.18152933117, 28185.152018316043)\n",
      "(total_cost1, total_cost2) = (28175.208716760088, 28185.179760790856)\n",
      "(total_cost1, total_cost2) = (28175.232885274625, 28185.204436705644)\n",
      "(total_cost1, total_cost2) = (28175.255497071863, 28185.227523970047)\n",
      "(total_cost1, total_cost2) = (28175.279804873226, 28185.252269921082)\n",
      "(total_cost1, total_cost2) = (28175.298085499282, 28185.270945329965)\n",
      "(total_cost1, total_cost2) = (28175.314911434478, 28185.288130048524)\n",
      "(total_cost1, total_cost2) = (28175.33087428046, 28185.30442713822)\n",
      "(total_cost1, total_cost2) = (28175.346598504475, 28185.32046306857)\n",
      "(total_cost1, total_cost2) = (28175.363567762808, 28185.33772977816)\n",
      "(total_cost1, total_cost2) = (28175.375342343254, 28185.349766458014)\n",
      "(total_cost1, total_cost2) = (28175.386673881934, 28185.361345632078)\n",
      "(total_cost1, total_cost2) = (28175.39828524545, 28185.373186945013)\n",
      "(total_cost1, total_cost2) = (28175.40835642201, 28185.38347255861)\n",
      "(total_cost1, total_cost2) = (28175.41855190618, 28185.393859260053)\n",
      "(total_cost1, total_cost2) = (28175.42583289625, 28185.401308412704)\n",
      "(total_cost1, total_cost2) = (28175.435936287187, 28185.41157490293)\n",
      "(total_cost1, total_cost2) = (28175.444853864785, 28185.420640006614)\n",
      "(total_cost1, total_cost2) = (28175.452848712037, 28185.4287688244)\n",
      "(total_cost1, total_cost2) = (28175.460207185573, 28185.436246799727)\n",
      "(total_cost1, total_cost2) = (28175.468575574658, 28185.444741790776)\n",
      "(total_cost1, total_cost2) = (28175.47475243219, 28185.451025019833)\n",
      "(total_cost1, total_cost2) = (28175.479115990827, 28185.455489223557)\n",
      "(total_cost1, total_cost2) = (28175.4848214155, 28185.46128441328)\n",
      "(total_cost1, total_cost2) = (28175.491359589025, 28185.46790643426)\n",
      "(total_cost1, total_cost2) = (28175.49776400126, 28185.47438808446)\n",
      "(total_cost1, total_cost2) = (28175.50253499618, 28185.4792263048)\n",
      "(total_cost1, total_cost2) = (28175.508355470964, 28185.485119009903)\n",
      "(total_cost1, total_cost2) = (28175.5101546241, 28185.486974221763)\n",
      "(total_cost1, total_cost2) = (28175.513363080565, 28185.490233960492)\n",
      "(total_cost1, total_cost2) = (28175.517000012584, 28185.493927108193)\n",
      "(total_cost1, total_cost2) = (28175.520590256056, 28185.497568117764)\n",
      "(total_cost1, total_cost2) = (28175.52361317788, 28185.500633705073)\n",
      "(total_cost1, total_cost2) = (28175.526780793552, 28185.503843567498)\n",
      "(total_cost1, total_cost2) = (28175.52974840117, 28185.506851819755)\n",
      "(total_cost1, total_cost2) = (28175.53258571597, 28185.509725403717)\n"
     ]
    }
   ],
   "source": [
    "#println(total_cost)\n",
    "converged = false\n",
    "u1goal = [0; 0]; u2goal = [0; 0]; \n",
    "#all_cost = []\n",
    "βreg = 1.0\n",
    "αₗ = [1.0, 0.6, 0.4, 0.2, 0.1, 0.01]\n",
    "while !converged\n",
    "#for i in 1:50\n",
    "    converged = isConverged(xₜ, x̂, 1e-6)\n",
    "    #println(converged)\n",
    "    total_cost1 = 0\n",
    "    total_cost2 = 0\n",
    "    for t = 1:(k_steps-1)\n",
    "        # 2. Linearize dynamics about trajectory\n",
    "        # WHAT IS x̂ in xₜ[t,:] - x̂\n",
    "       # x[1:4]; x[5:end]\n",
    "#         dx1 = x1ₜ[t,:] - x̂₁[t,:]\n",
    "#         dx2 = x2ₜ[t,:] - x̂₂[t,:]\n",
    "#         du1 = u1ₜ[t,:] - û₁[t,:]\n",
    "#         du2 = u2ₜ[t,:] - û₂[t,:]\n",
    "        \n",
    "        Aₜ[:,:,t] = Ad\n",
    "        B1ₜ[:,:,t] = B1d\n",
    "        B2ₜ[:,:,t] = B2d\n",
    "        \n",
    "        #Player 1 cost quadratic_cost(cost_fun, Qi, Rii, Rij, Qni, x, ui, uj, xgoal, uigoal, ujgoal, B)\n",
    "        costval1, Q1ₜ[:,:,t], l1ₜ[:,t], R11ₜ[:,:,t], r11ₜ[:,t], R12ₜ[:,:,t], r12ₜ[:,t] = \n",
    "        quadratic_cost(cost, Q1, R11, R12, Qn1, xₜ[t,:], u1ₜ[t,:], u2ₜ[t,:], xgoal, u1goal, u2goal, false)\n",
    "        #Player 2 cost\n",
    "        costval2, Q2ₜ[:,:,t], l2ₜ[:,t], R22ₜ[:,:,t], r22ₜ[:,t], R21ₜ[:,:,t], r21ₜ[:,t] = \n",
    "        quadratic_cost(cost, Q2, R22, R21, Qn2, xₜ[t,:], u2ₜ[t,:], u1ₜ[t,:], xgoal, u2goal, u1goal, false)\n",
    "        # Regularization\n",
    "        while !isposdef(Q1ₜ[:,:,t])\n",
    "            Q1ₜ[:,:,t] = Q1ₜ[:,:,t] + βreg*I\n",
    "        end\n",
    "        while !isposdef(Q2ₜ[:,:,t])\n",
    "            Q2ₜ[:,:,t] = Q2ₜ[:,:,t] + βreg*I\n",
    "        end\n",
    "        # @show Rₜ[:,:,t] \n",
    "        total_cost1 += costval1\n",
    "        total_cost2 += costval2\n",
    "    end\n",
    "    #Player 1 Terminal cost\n",
    "    costval1, Q1ₜ[:,:,end], l1ₜ[:,end], R11ₜ[:,:,end], r11ₜ[:,end], R12ₜ[:,:,end], r12ₜ[:,end] = \n",
    "    quadratic_cost(cost, Q1, R11, R12, Qn1, xₜ[end,:], u1ₜ[end,:], u2ₜ[end,:], xgoal, u1goal, u2goal, true)\n",
    "    #Player 2 Terminal cost\n",
    "    costval2, Q2ₜ[:,:,end], l2ₜ[:,end], R22ₜ[:,:,end], r22ₜ[:,end], R21ₜ[:,:,end], r21ₜ[:,end] = \n",
    "    quadratic_cost(cost, Q2, R22, R21, Qn2, xₜ[end,:], u2ₜ[end,:], u1ₜ[end,:], xgoal, u2goal, u1goal, true)\n",
    "\n",
    "    total_cost1 += costval1\n",
    "    total_cost2 += costval2\n",
    "\n",
    "    # @show costs[end]\n",
    "    # 4. Do lqr\n",
    "    #P, α = affinelq!(Aₜ, Bₜ, Qₜ, lₜ, Rₜ , rₜ);\n",
    "    P₁, P₂, α₁, α₂ = lqGame!(Aₜ, B1ₜ, B2ₜ, Q1ₜ, Q2ₜ, l1ₜ, l2ₜ, R11ₜ, R12ₜ, R21ₜ, R22ₜ, r11ₜ, r22ₜ, r12ₜ, r21ₜ)\n",
    "\n",
    "    x̂ = xₜ\n",
    "    û₁ = u1ₜ\n",
    "    û₂ = u2ₜ \n",
    "    P = [P₁, P₂]\n",
    "    α = [α₁, α₂]\n",
    "    û = [û₁, û₂]\n",
    "   \n",
    "    xₜ, u1ₜ, u2ₜ = rollout_PM(x₀, x̂, û, H, dt, P, α, 0.5)\n",
    "    #println(converged)\n",
    "\n",
    "    #     push!(all_cost, total_cost)\n",
    "    #     #@show xₜ[1,:] \n",
    "    #     #@show xₜ[end,:]\n",
    "    @show total_cost1, total_cost2\n",
    "end"
   ]
  },
  {
   "cell_type": "code",
   "execution_count": 22,
   "metadata": {},
   "outputs": [
    {
     "data": {
      "text/plain": [
       "8-element Vector{Float64}:\n",
       "  5.0052792143568805\n",
       " 10.015882257845456\n",
       "  0.00021958452492840122\n",
       " -0.006900035597966842\n",
       " 10.008774039863969\n",
       "  4.991913823956859\n",
       " -0.00852648767015127\n",
       " -0.0004587960690713677"
      ]
     },
     "execution_count": 22,
     "metadata": {},
     "output_type": "execute_result"
    }
   ],
   "source": [
    "xₜ[end,:]"
   ]
  },
  {
   "cell_type": "code",
   "execution_count": 40,
   "metadata": {},
   "outputs": [
    {
     "name": "stderr",
     "output_type": "stream",
     "text": [
      "┌ Info: Saved animation to /home/ahmed/Desktop/repos/courses/seattle/CSE579-main/LQ_Game_Solver/CS_project/two_agent.gif\n",
      "└ @ Plots /home/ahmed/.julia/packages/Plots/YbrTT/src/animation.jl:149\n"
     ]
    },
    {
     "data": {
      "text/html": [
       "<img src=\"data:image/gif;base64,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\" />"
      ],
      "text/plain": [
       "Plots.AnimatedGif(\"/home/ahmed/Desktop/repos/courses/seattle/CSE579-main/LQ_Game_Solver/CS_project/two_agent.gif\")"
      ]
     },
     "execution_count": 40,
     "metadata": {},
     "output_type": "execute_result"
    }
   ],
   "source": [
    "anim = @animate for t in 1:k_steps\n",
    "    scatter([xₜ[t, :][1]], [xₜ[t, :][2]], m = (:circle, 12),\n",
    "    xlims = (-1, 11), \n",
    "    ylims = (-1, 11), \n",
    "    legend = false)\n",
    "    scatter!([xₜ[t, :][5]], [xₜ[t, :][6]], m = (:circle, 12))\n",
    "    plot!([xgoal[1]], [xgoal[2]], m = (:cross, 12))\n",
    "    plot!([xgoal[5]], [xgoal[6]], m = (:cross, 12))\n",
    "end every 1;\n",
    "gif(anim, \"two_agent.gif\")"
   ]
  },
  {
   "cell_type": "code",
   "execution_count": 41,
   "metadata": {},
   "outputs": [
    {
     "data": {
      "image/svg+xml": "<?xml version=\"1.0\" encoding=\"utf-8\"?>\n<svg xmlns=\"http://www.w3.org/2000/svg\" xmlns:xlink=\"http://www.w3.org/1999/xlink\" width=\"600\" height=\"400\" viewBox=\"0 0 2400 1600\">\n<defs>\n  <clipPath id=\"clip190\">\n    <rect x=\"0\" y=\"0\" width=\"2400\" height=\"1600\"/>\n  </clipPath>\n</defs>\n<path clip-path=\"url(#clip190)\" d=\"\nM0 1600 L2400 1600 L2400 0 L0 0  Z\n  \" fill=\"#ffffff\" fill-rule=\"evenodd\" fill-opacity=\"1\"/>\n<defs>\n  <clipPath id=\"clip191\">\n    <rect x=\"480\" y=\"0\" width=\"1681\" height=\"1600\"/>\n  </clipPath>\n</defs>\n<path clip-path=\"url(#clip190)\" d=\"\nM184.191 1486.45 L2352.76 1486.45 L2352.76 47.2441 L184.191 47.2441  Z\n  \" fill=\"#ffffff\" fill-rule=\"evenodd\" fill-opacity=\"1\"/>\n<defs>\n  <clipPath id=\"clip192\">\n    <rect x=\"184\" y=\"47\" width=\"2170\" height=\"1440\"/>\n  </clipPath>\n</defs>\n<polyline clip-path=\"url(#clip192)\" style=\"stroke:#000000; stroke-linecap:round; stroke-linejoin:round; stroke-width:2; stroke-opacity:0.1; fill:none\" points=\"\n  364.904,1486.45 364.904,47.2441 \n  \"/>\n<polyline clip-path=\"url(#clip192)\" style=\"stroke:#000000; stroke-linecap:round; stroke-linejoin:round; stroke-width:2; stroke-opacity:0.1; fill:none\" points=\"\n  816.689,1486.45 816.689,47.2441 \n  \"/>\n<polyline clip-path=\"url(#clip192)\" style=\"stroke:#000000; stroke-linecap:round; stroke-linejoin:round; stroke-width:2; stroke-opacity:0.1; fill:none\" points=\"\n  1268.47,1486.45 1268.47,47.2441 \n  \"/>\n<polyline clip-path=\"url(#clip192)\" style=\"stroke:#000000; stroke-linecap:round; stroke-linejoin:round; stroke-width:2; stroke-opacity:0.1; fill:none\" points=\"\n  1720.26,1486.45 1720.26,47.2441 \n  \"/>\n<polyline clip-path=\"url(#clip192)\" style=\"stroke:#000000; stroke-linecap:round; stroke-linejoin:round; stroke-width:2; stroke-opacity:0.1; fill:none\" points=\"\n  2172.04,1486.45 2172.04,47.2441 \n  \"/>\n<polyline clip-path=\"url(#clip190)\" style=\"stroke:#000000; stroke-linecap:round; stroke-linejoin:round; stroke-width:4; stroke-opacity:1; fill:none\" points=\"\n  184.191,1486.45 2352.76,1486.45 \n  \"/>\n<polyline clip-path=\"url(#clip190)\" style=\"stroke:#000000; stroke-linecap:round; stroke-linejoin:round; stroke-width:4; stroke-opacity:1; fill:none\" points=\"\n  364.904,1486.45 364.904,1467.55 \n  \"/>\n<polyline clip-path=\"url(#clip190)\" style=\"stroke:#000000; stroke-linecap:round; stroke-linejoin:round; stroke-width:4; stroke-opacity:1; fill:none\" points=\"\n  816.689,1486.45 816.689,1467.55 \n  \"/>\n<polyline clip-path=\"url(#clip190)\" style=\"stroke:#000000; stroke-linecap:round; stroke-linejoin:round; stroke-width:4; stroke-opacity:1; fill:none\" points=\"\n  1268.47,1486.45 1268.47,1467.55 \n  \"/>\n<polyline clip-path=\"url(#clip190)\" style=\"stroke:#000000; stroke-linecap:round; stroke-linejoin:round; stroke-width:4; stroke-opacity:1; fill:none\" points=\"\n  1720.26,1486.45 1720.26,1467.55 \n  \"/>\n<polyline clip-path=\"url(#clip190)\" style=\"stroke:#000000; stroke-linecap:round; stroke-linejoin:round; stroke-width:4; stroke-opacity:1; fill:none\" points=\"\n  2172.04,1486.45 2172.04,1467.55 \n  \"/>\n<path clip-path=\"url(#clip190)\" d=\"M342.289 1517.37 Q338.678 1517.37 336.849 1520.93 Q335.043 1524.47 335.043 1531.6 Q335.043 1538.71 336.849 1542.27 Q338.678 1545.82 342.289 1545.82 Q345.923 1545.82 347.729 1542.27 Q349.557 1538.71 349.557 1531.6 Q349.557 1524.47 347.729 1520.93 Q345.923 1517.37 342.289 1517.37 M342.289 1513.66 Q348.099 1513.66 351.155 1518.27 Q354.233 1522.85 354.233 1531.6 Q354.233 1540.33 351.155 1544.94 Q348.099 1549.52 342.289 1549.52 Q336.479 1549.52 333.4 1544.94 Q330.344 1540.33 330.344 1531.6 Q330.344 1522.85 333.4 1518.27 Q336.479 1513.66 342.289 1513.66 Z\" fill=\"#000000\" fill-rule=\"evenodd\" fill-opacity=\"1\" /><path clip-path=\"url(#clip190)\" d=\"M362.451 1542.97 L367.335 1542.97 L367.335 1548.85 L362.451 1548.85 L362.451 1542.97 Z\" fill=\"#000000\" fill-rule=\"evenodd\" fill-opacity=\"1\" /><path clip-path=\"url(#clip190)\" d=\"M387.52 1517.37 Q383.909 1517.37 382.08 1520.93 Q380.275 1524.47 380.275 1531.6 Q380.275 1538.71 382.08 1542.27 Q383.909 1545.82 387.52 1545.82 Q391.154 1545.82 392.96 1542.27 Q394.789 1538.71 394.789 1531.6 Q394.789 1524.47 392.96 1520.93 Q391.154 1517.37 387.52 1517.37 M387.52 1513.66 Q393.33 1513.66 396.386 1518.27 Q399.464 1522.85 399.464 1531.6 Q399.464 1540.33 396.386 1544.94 Q393.33 1549.52 387.52 1549.52 Q381.71 1549.52 378.631 1544.94 Q375.576 1540.33 375.576 1531.6 Q375.576 1522.85 378.631 1518.27 Q381.71 1513.66 387.52 1513.66 Z\" fill=\"#000000\" fill-rule=\"evenodd\" fill-opacity=\"1\" /><path clip-path=\"url(#clip190)\" d=\"M788.425 1544.91 L804.744 1544.91 L804.744 1548.85 L782.8 1548.85 L782.8 1544.91 Q785.462 1542.16 790.045 1537.53 Q794.652 1532.88 795.833 1531.53 Q798.078 1529.01 798.957 1527.27 Q799.86 1525.51 799.86 1523.82 Q799.86 1521.07 797.916 1519.33 Q795.995 1517.6 792.893 1517.6 Q790.694 1517.6 788.24 1518.36 Q785.809 1519.13 783.032 1520.68 L783.032 1515.95 Q785.856 1514.82 788.309 1514.24 Q790.763 1513.66 792.8 1513.66 Q798.17 1513.66 801.365 1516.35 Q804.559 1519.03 804.559 1523.52 Q804.559 1525.65 803.749 1527.57 Q802.962 1529.47 800.856 1532.07 Q800.277 1532.74 797.175 1535.95 Q794.073 1539.15 788.425 1544.91 Z\" fill=\"#000000\" fill-rule=\"evenodd\" fill-opacity=\"1\" /><path clip-path=\"url(#clip190)\" d=\"M814.559 1542.97 L819.443 1542.97 L819.443 1548.85 L814.559 1548.85 L814.559 1542.97 Z\" fill=\"#000000\" fill-rule=\"evenodd\" fill-opacity=\"1\" /><path clip-path=\"url(#clip190)\" d=\"M829.675 1514.29 L848.031 1514.29 L848.031 1518.22 L833.957 1518.22 L833.957 1526.7 Q834.976 1526.35 835.994 1526.19 Q837.013 1526 838.031 1526 Q843.818 1526 847.198 1529.17 Q850.578 1532.34 850.578 1537.76 Q850.578 1543.34 847.105 1546.44 Q843.633 1549.52 837.314 1549.52 Q835.138 1549.52 832.869 1549.15 Q830.624 1548.78 828.217 1548.04 L828.217 1543.34 Q830.3 1544.47 832.522 1545.03 Q834.744 1545.58 837.221 1545.58 Q841.226 1545.58 843.564 1543.48 Q845.902 1541.37 845.902 1537.76 Q845.902 1534.15 843.564 1532.04 Q841.226 1529.94 837.221 1529.94 Q835.346 1529.94 833.471 1530.35 Q831.619 1530.77 829.675 1531.65 L829.675 1514.29 Z\" fill=\"#000000\" fill-rule=\"evenodd\" fill-opacity=\"1\" /><path clip-path=\"url(#clip190)\" d=\"M1235.64 1514.29 L1253.99 1514.29 L1253.99 1518.22 L1239.92 1518.22 L1239.92 1526.7 Q1240.94 1526.35 1241.96 1526.19 Q1242.98 1526 1243.99 1526 Q1249.78 1526 1253.16 1529.17 Q1256.54 1532.34 1256.54 1537.76 Q1256.54 1543.34 1253.07 1546.44 Q1249.6 1549.52 1243.28 1549.52 Q1241.1 1549.52 1238.83 1549.15 Q1236.59 1548.78 1234.18 1548.04 L1234.18 1543.34 Q1236.26 1544.47 1238.49 1545.03 Q1240.71 1545.58 1243.18 1545.58 Q1247.19 1545.58 1249.53 1543.48 Q1251.86 1541.37 1251.86 1537.76 Q1251.86 1534.15 1249.53 1532.04 Q1247.19 1529.94 1243.18 1529.94 Q1241.31 1529.94 1239.43 1530.35 Q1237.58 1530.77 1235.64 1531.65 L1235.64 1514.29 Z\" fill=\"#000000\" fill-rule=\"evenodd\" fill-opacity=\"1\" /><path clip-path=\"url(#clip190)\" d=\"M1265.75 1542.97 L1270.64 1542.97 L1270.64 1548.85 L1265.75 1548.85 L1265.75 1542.97 Z\" fill=\"#000000\" fill-rule=\"evenodd\" fill-opacity=\"1\" /><path clip-path=\"url(#clip190)\" d=\"M1290.82 1517.37 Q1287.21 1517.37 1285.38 1520.93 Q1283.58 1524.47 1283.58 1531.6 Q1283.58 1538.71 1285.38 1542.27 Q1287.21 1545.82 1290.82 1545.82 Q1294.46 1545.82 1296.26 1542.27 Q1298.09 1538.71 1298.09 1531.6 Q1298.09 1524.47 1296.26 1520.93 Q1294.46 1517.37 1290.82 1517.37 M1290.82 1513.66 Q1296.63 1513.66 1299.69 1518.27 Q1302.77 1522.85 1302.77 1531.6 Q1302.77 1540.33 1299.69 1544.94 Q1296.63 1549.52 1290.82 1549.52 Q1285.01 1549.52 1281.93 1544.94 Q1278.88 1540.33 1278.88 1531.6 Q1278.88 1522.85 1281.93 1518.27 Q1285.01 1513.66 1290.82 1513.66 Z\" fill=\"#000000\" fill-rule=\"evenodd\" fill-opacity=\"1\" /><path clip-path=\"url(#clip190)\" d=\"M1686.58 1514.29 L1708.8 1514.29 L1708.8 1516.28 L1696.25 1548.85 L1691.37 1548.85 L1703.17 1518.22 L1686.58 1518.22 L1686.58 1514.29 Z\" fill=\"#000000\" fill-rule=\"evenodd\" fill-opacity=\"1\" /><path clip-path=\"url(#clip190)\" d=\"M1717.92 1542.97 L1722.8 1542.97 L1722.8 1548.85 L1717.92 1548.85 L1717.92 1542.97 Z\" fill=\"#000000\" fill-rule=\"evenodd\" fill-opacity=\"1\" /><path clip-path=\"url(#clip190)\" d=\"M1733.04 1514.29 L1751.39 1514.29 L1751.39 1518.22 L1737.32 1518.22 L1737.32 1526.7 Q1738.34 1526.35 1739.35 1526.19 Q1740.37 1526 1741.39 1526 Q1747.18 1526 1750.56 1529.17 Q1753.94 1532.34 1753.94 1537.76 Q1753.94 1543.34 1750.47 1546.44 Q1746.99 1549.52 1740.67 1549.52 Q1738.5 1549.52 1736.23 1549.15 Q1733.98 1548.78 1731.58 1548.04 L1731.58 1543.34 Q1733.66 1544.47 1735.88 1545.03 Q1738.1 1545.58 1740.58 1545.58 Q1744.59 1545.58 1746.92 1543.48 Q1749.26 1541.37 1749.26 1537.76 Q1749.26 1534.15 1746.92 1532.04 Q1744.59 1529.94 1740.58 1529.94 Q1738.71 1529.94 1736.83 1530.35 Q1734.98 1530.77 1733.04 1531.65 L1733.04 1514.29 Z\" fill=\"#000000\" fill-rule=\"evenodd\" fill-opacity=\"1\" /><path clip-path=\"url(#clip190)\" d=\"M2124.11 1544.91 L2131.75 1544.91 L2131.75 1518.55 L2123.44 1520.21 L2123.44 1515.95 L2131.71 1514.29 L2136.38 1514.29 L2136.38 1544.91 L2144.02 1544.91 L2144.02 1548.85 L2124.11 1548.85 L2124.11 1544.91 Z\" fill=\"#000000\" fill-rule=\"evenodd\" fill-opacity=\"1\" /><path clip-path=\"url(#clip190)\" d=\"M2163.47 1517.37 Q2159.85 1517.37 2158.03 1520.93 Q2156.22 1524.47 2156.22 1531.6 Q2156.22 1538.71 2158.03 1542.27 Q2159.85 1545.82 2163.47 1545.82 Q2167.1 1545.82 2168.91 1542.27 Q2170.73 1538.71 2170.73 1531.6 Q2170.73 1524.47 2168.91 1520.93 Q2167.1 1517.37 2163.47 1517.37 M2163.47 1513.66 Q2169.28 1513.66 2172.33 1518.27 Q2175.41 1522.85 2175.41 1531.6 Q2175.41 1540.33 2172.33 1544.94 Q2169.28 1549.52 2163.47 1549.52 Q2157.66 1549.52 2154.58 1544.94 Q2151.52 1540.33 2151.52 1531.6 Q2151.52 1522.85 2154.58 1518.27 Q2157.66 1513.66 2163.47 1513.66 Z\" fill=\"#000000\" fill-rule=\"evenodd\" fill-opacity=\"1\" /><path clip-path=\"url(#clip190)\" d=\"M2183.63 1542.97 L2188.51 1542.97 L2188.51 1548.85 L2183.63 1548.85 L2183.63 1542.97 Z\" fill=\"#000000\" fill-rule=\"evenodd\" fill-opacity=\"1\" /><path clip-path=\"url(#clip190)\" d=\"M2208.7 1517.37 Q2205.09 1517.37 2203.26 1520.93 Q2201.45 1524.47 2201.45 1531.6 Q2201.45 1538.71 2203.26 1542.27 Q2205.09 1545.82 2208.7 1545.82 Q2212.33 1545.82 2214.14 1542.27 Q2215.97 1538.71 2215.97 1531.6 Q2215.97 1524.47 2214.14 1520.93 Q2212.33 1517.37 2208.7 1517.37 M2208.7 1513.66 Q2214.51 1513.66 2217.56 1518.27 Q2220.64 1522.85 2220.64 1531.6 Q2220.64 1540.33 2217.56 1544.94 Q2214.51 1549.52 2208.7 1549.52 Q2202.89 1549.52 2199.81 1544.94 Q2196.75 1540.33 2196.75 1531.6 Q2196.75 1522.85 2199.81 1518.27 Q2202.89 1513.66 2208.7 1513.66 Z\" fill=\"#000000\" fill-rule=\"evenodd\" fill-opacity=\"1\" /><polyline clip-path=\"url(#clip192)\" style=\"stroke:#000000; stroke-linecap:round; stroke-linejoin:round; stroke-width:2; stroke-opacity:0.1; fill:none\" points=\"\n  184.191,1366.51 2352.76,1366.51 \n  \"/>\n<polyline clip-path=\"url(#clip192)\" style=\"stroke:#000000; stroke-linecap:round; stroke-linejoin:round; stroke-width:2; stroke-opacity:0.1; fill:none\" points=\"\n  184.191,1066.68 2352.76,1066.68 \n  \"/>\n<polyline clip-path=\"url(#clip192)\" style=\"stroke:#000000; stroke-linecap:round; stroke-linejoin:round; stroke-width:2; stroke-opacity:0.1; fill:none\" points=\"\n  184.191,766.846 2352.76,766.846 \n  \"/>\n<polyline clip-path=\"url(#clip192)\" style=\"stroke:#000000; stroke-linecap:round; stroke-linejoin:round; stroke-width:2; stroke-opacity:0.1; fill:none\" points=\"\n  184.191,467.012 2352.76,467.012 \n  \"/>\n<polyline clip-path=\"url(#clip192)\" style=\"stroke:#000000; stroke-linecap:round; stroke-linejoin:round; stroke-width:2; stroke-opacity:0.1; fill:none\" points=\"\n  184.191,167.178 2352.76,167.178 \n  \"/>\n<polyline clip-path=\"url(#clip190)\" style=\"stroke:#000000; stroke-linecap:round; stroke-linejoin:round; stroke-width:4; stroke-opacity:1; fill:none\" points=\"\n  184.191,1486.45 184.191,47.2441 \n  \"/>\n<polyline clip-path=\"url(#clip190)\" style=\"stroke:#000000; stroke-linecap:round; stroke-linejoin:round; stroke-width:4; stroke-opacity:1; fill:none\" points=\"\n  184.191,1366.51 203.088,1366.51 \n  \"/>\n<polyline clip-path=\"url(#clip190)\" style=\"stroke:#000000; stroke-linecap:round; stroke-linejoin:round; stroke-width:4; stroke-opacity:1; fill:none\" points=\"\n  184.191,1066.68 203.088,1066.68 \n  \"/>\n<polyline clip-path=\"url(#clip190)\" style=\"stroke:#000000; stroke-linecap:round; stroke-linejoin:round; stroke-width:4; stroke-opacity:1; fill:none\" points=\"\n  184.191,766.846 203.088,766.846 \n  \"/>\n<polyline clip-path=\"url(#clip190)\" style=\"stroke:#000000; stroke-linecap:round; stroke-linejoin:round; stroke-width:4; stroke-opacity:1; fill:none\" points=\"\n  184.191,467.012 203.088,467.012 \n  \"/>\n<polyline clip-path=\"url(#clip190)\" style=\"stroke:#000000; stroke-linecap:round; stroke-linejoin:round; stroke-width:4; stroke-opacity:1; fill:none\" points=\"\n  184.191,167.178 203.088,167.178 \n  \"/>\n<path clip-path=\"url(#clip190)\" d=\"M91.0151 1352.31 Q87.404 1352.31 85.5753 1355.88 Q83.7697 1359.42 83.7697 1366.55 Q83.7697 1373.66 85.5753 1377.22 Q87.404 1380.76 91.0151 1380.76 Q94.6493 1380.76 96.4548 1377.22 Q98.2835 1373.66 98.2835 1366.55 Q98.2835 1359.42 96.4548 1355.88 Q94.6493 1352.31 91.0151 1352.31 M91.0151 1348.61 Q96.8252 1348.61 99.8808 1353.22 Q102.959 1357.8 102.959 1366.55 Q102.959 1375.28 99.8808 1379.88 Q96.8252 1384.47 91.0151 1384.47 Q85.2049 1384.47 82.1262 1379.88 Q79.0707 1375.28 79.0707 1366.55 Q79.0707 1357.8 82.1262 1353.22 Q85.2049 1348.61 91.0151 1348.61 Z\" fill=\"#000000\" fill-rule=\"evenodd\" fill-opacity=\"1\" /><path clip-path=\"url(#clip190)\" d=\"M111.177 1377.91 L116.061 1377.91 L116.061 1383.79 L111.177 1383.79 L111.177 1377.91 Z\" fill=\"#000000\" fill-rule=\"evenodd\" fill-opacity=\"1\" /><path clip-path=\"url(#clip190)\" d=\"M136.246 1352.31 Q132.635 1352.31 130.807 1355.88 Q129.001 1359.42 129.001 1366.55 Q129.001 1373.66 130.807 1377.22 Q132.635 1380.76 136.246 1380.76 Q139.881 1380.76 141.686 1377.22 Q143.515 1373.66 143.515 1366.55 Q143.515 1359.42 141.686 1355.88 Q139.881 1352.31 136.246 1352.31 M136.246 1348.61 Q142.056 1348.61 145.112 1353.22 Q148.191 1357.8 148.191 1366.55 Q148.191 1375.28 145.112 1379.88 Q142.056 1384.47 136.246 1384.47 Q130.436 1384.47 127.357 1379.88 Q124.302 1375.28 124.302 1366.55 Q124.302 1357.8 127.357 1353.22 Q130.436 1348.61 136.246 1348.61 Z\" fill=\"#000000\" fill-rule=\"evenodd\" fill-opacity=\"1\" /><path clip-path=\"url(#clip190)\" d=\"M86.0382 1080.02 L102.358 1080.02 L102.358 1083.96 L80.4133 1083.96 L80.4133 1080.02 Q83.0753 1077.27 87.6586 1072.64 Q92.2651 1067.99 93.4456 1066.65 Q95.691 1064.12 96.5706 1062.39 Q97.4734 1060.63 97.4734 1058.94 Q97.4734 1056.18 95.5289 1054.45 Q93.6076 1052.71 90.5058 1052.71 Q88.3067 1052.71 85.8531 1053.47 Q83.4225 1054.24 80.6447 1055.79 L80.6447 1051.07 Q83.4688 1049.93 85.9225 1049.35 Q88.3762 1048.78 90.4132 1048.78 Q95.7836 1048.78 98.978 1051.46 Q102.172 1054.15 102.172 1058.64 Q102.172 1060.77 101.362 1062.69 Q100.575 1064.59 98.4687 1067.18 Q97.89 1067.85 94.7882 1071.07 Q91.6864 1074.26 86.0382 1080.02 Z\" fill=\"#000000\" fill-rule=\"evenodd\" fill-opacity=\"1\" /><path clip-path=\"url(#clip190)\" d=\"M112.172 1078.08 L117.057 1078.08 L117.057 1083.96 L112.172 1083.96 L112.172 1078.08 Z\" fill=\"#000000\" fill-rule=\"evenodd\" fill-opacity=\"1\" /><path clip-path=\"url(#clip190)\" d=\"M127.288 1049.4 L145.644 1049.4 L145.644 1053.34 L131.57 1053.34 L131.57 1061.81 Q132.589 1061.46 133.607 1061.3 Q134.626 1061.11 135.644 1061.11 Q141.431 1061.11 144.811 1064.28 Q148.191 1067.46 148.191 1072.87 Q148.191 1078.45 144.718 1081.55 Q141.246 1084.63 134.927 1084.63 Q132.751 1084.63 130.482 1084.26 Q128.237 1083.89 125.83 1083.15 L125.83 1078.45 Q127.913 1079.59 130.135 1080.14 Q132.357 1080.7 134.834 1080.7 Q138.839 1080.7 141.177 1078.59 Q143.515 1076.48 143.515 1072.87 Q143.515 1069.26 141.177 1067.15 Q138.839 1065.05 134.834 1065.05 Q132.959 1065.05 131.084 1065.46 Q129.232 1065.88 127.288 1066.76 L127.288 1049.4 Z\" fill=\"#000000\" fill-rule=\"evenodd\" fill-opacity=\"1\" /><path clip-path=\"url(#clip190)\" d=\"M81.0614 749.566 L99.4178 749.566 L99.4178 753.501 L85.3438 753.501 L85.3438 761.973 Q86.3623 761.626 87.3808 761.464 Q88.3993 761.279 89.4178 761.279 Q95.2049 761.279 98.5845 764.45 Q101.964 767.621 101.964 773.038 Q101.964 778.617 98.4919 781.719 Q95.0197 784.797 88.7003 784.797 Q86.5243 784.797 84.2558 784.427 Q82.0105 784.057 79.6031 783.316 L79.6031 778.617 Q81.6864 779.751 83.9086 780.307 Q86.1308 780.862 88.6077 780.862 Q92.6123 780.862 94.9502 778.756 Q97.2882 776.649 97.2882 773.038 Q97.2882 769.427 94.9502 767.321 Q92.6123 765.214 88.6077 765.214 Q86.7327 765.214 84.8577 765.631 Q83.0058 766.047 81.0614 766.927 L81.0614 749.566 Z\" fill=\"#000000\" fill-rule=\"evenodd\" fill-opacity=\"1\" /><path clip-path=\"url(#clip190)\" d=\"M111.177 778.246 L116.061 778.246 L116.061 784.126 L111.177 784.126 L111.177 778.246 Z\" fill=\"#000000\" fill-rule=\"evenodd\" fill-opacity=\"1\" /><path clip-path=\"url(#clip190)\" d=\"M136.246 752.645 Q132.635 752.645 130.807 756.209 Q129.001 759.751 129.001 766.881 Q129.001 773.987 130.807 777.552 Q132.635 781.094 136.246 781.094 Q139.881 781.094 141.686 777.552 Q143.515 773.987 143.515 766.881 Q143.515 759.751 141.686 756.209 Q139.881 752.645 136.246 752.645 M136.246 748.941 Q142.056 748.941 145.112 753.547 Q148.191 758.131 148.191 766.881 Q148.191 775.608 145.112 780.214 Q142.056 784.797 136.246 784.797 Q130.436 784.797 127.357 780.214 Q124.302 775.608 124.302 766.881 Q124.302 758.131 127.357 753.547 Q130.436 748.941 136.246 748.941 Z\" fill=\"#000000\" fill-rule=\"evenodd\" fill-opacity=\"1\" /><path clip-path=\"url(#clip190)\" d=\"M80.8299 449.732 L103.052 449.732 L103.052 451.723 L90.5058 484.292 L85.6216 484.292 L97.4271 453.667 L80.8299 453.667 L80.8299 449.732 Z\" fill=\"#000000\" fill-rule=\"evenodd\" fill-opacity=\"1\" /><path clip-path=\"url(#clip190)\" d=\"M112.172 478.412 L117.057 478.412 L117.057 484.292 L112.172 484.292 L112.172 478.412 Z\" fill=\"#000000\" fill-rule=\"evenodd\" fill-opacity=\"1\" /><path clip-path=\"url(#clip190)\" d=\"M127.288 449.732 L145.644 449.732 L145.644 453.667 L131.57 453.667 L131.57 462.139 Q132.589 461.792 133.607 461.63 Q134.626 461.445 135.644 461.445 Q141.431 461.445 144.811 464.616 Q148.191 467.787 148.191 473.204 Q148.191 478.783 144.718 481.884 Q141.246 484.963 134.927 484.963 Q132.751 484.963 130.482 484.593 Q128.237 484.222 125.83 483.482 L125.83 478.783 Q127.913 479.917 130.135 480.472 Q132.357 481.028 134.834 481.028 Q138.839 481.028 141.177 478.922 Q143.515 476.815 143.515 473.204 Q143.515 469.593 141.177 467.486 Q138.839 465.38 134.834 465.38 Q132.959 465.38 131.084 465.797 Q129.232 466.213 127.288 467.093 L127.288 449.732 Z\" fill=\"#000000\" fill-rule=\"evenodd\" fill-opacity=\"1\" /><path clip-path=\"url(#clip190)\" d=\"M51.6634 180.523 L59.3023 180.523 L59.3023 154.157 L50.9921 155.824 L50.9921 151.564 L59.256 149.898 L63.9319 149.898 L63.9319 180.523 L71.5707 180.523 L71.5707 184.458 L51.6634 184.458 L51.6634 180.523 Z\" fill=\"#000000\" fill-rule=\"evenodd\" fill-opacity=\"1\" /><path clip-path=\"url(#clip190)\" d=\"M91.0151 152.976 Q87.404 152.976 85.5753 156.541 Q83.7697 160.083 83.7697 167.212 Q83.7697 174.319 85.5753 177.884 Q87.404 181.425 91.0151 181.425 Q94.6493 181.425 96.4548 177.884 Q98.2835 174.319 98.2835 167.212 Q98.2835 160.083 96.4548 156.541 Q94.6493 152.976 91.0151 152.976 M91.0151 149.273 Q96.8252 149.273 99.8808 153.879 Q102.959 158.463 102.959 167.212 Q102.959 175.939 99.8808 180.546 Q96.8252 185.129 91.0151 185.129 Q85.2049 185.129 82.1262 180.546 Q79.0707 175.939 79.0707 167.212 Q79.0707 158.463 82.1262 153.879 Q85.2049 149.273 91.0151 149.273 Z\" fill=\"#000000\" fill-rule=\"evenodd\" fill-opacity=\"1\" /><path clip-path=\"url(#clip190)\" d=\"M111.177 178.578 L116.061 178.578 L116.061 184.458 L111.177 184.458 L111.177 178.578 Z\" fill=\"#000000\" fill-rule=\"evenodd\" fill-opacity=\"1\" /><path clip-path=\"url(#clip190)\" d=\"M136.246 152.976 Q132.635 152.976 130.807 156.541 Q129.001 160.083 129.001 167.212 Q129.001 174.319 130.807 177.884 Q132.635 181.425 136.246 181.425 Q139.881 181.425 141.686 177.884 Q143.515 174.319 143.515 167.212 Q143.515 160.083 141.686 156.541 Q139.881 152.976 136.246 152.976 M136.246 149.273 Q142.056 149.273 145.112 153.879 Q148.191 158.463 148.191 167.212 Q148.191 175.939 145.112 180.546 Q142.056 185.129 136.246 185.129 Q130.436 185.129 127.357 180.546 Q124.302 175.939 124.302 167.212 Q124.302 158.463 127.357 153.879 Q130.436 149.273 136.246 149.273 Z\" fill=\"#000000\" fill-rule=\"evenodd\" fill-opacity=\"1\" /><polyline clip-path=\"url(#clip192)\" style=\"stroke:#009af9; stroke-linecap:round; stroke-linejoin:round; stroke-width:4; stroke-opacity:1; fill:none\" points=\"\n  1268.47,1366.51 1268.47,1366.51 1267.34,1364.12 1265.2,1359.34 1262.14,1352.22 1258.26,1342.77 1253.65,1331.01 1248.39,1316.97 1242.56,1300.68 1236.22,1282.15 \n  1229.43,1261.4 1222.27,1238.47 1214.8,1213.36 1207.06,1186.11 1199.13,1156.73 1191.05,1125.25 1182.86,1092.17 1174.6,1058.16 1166.31,1023.75 1158.03,989.422 \n  1149.78,955.565 1141.64,922.463 1133.74,890.213 1126.37,858.598 1120.18,826.939 1115.89,794.607 1113.7,761.661 1113.28,728.502 1114.35,695.469 1116.68,662.847 \n  1120.03,630.871 1124.21,599.731 1129.06,569.582 1134.41,540.542 1140.14,512.703 1146.14,486.128 1152.31,460.86 1158.57,436.924 1164.83,414.327 1171.05,393.063 \n  1177.18,373.116 1183.16,354.458 1188.98,337.056 1194.6,320.869 1200,305.852 1205.17,291.957 1210.1,279.132 1214.77,267.325 1219.2,256.481 1223.37,246.547 \n  1227.29,237.469 1230.97,229.193 1234.4,221.668 1237.6,214.842 1240.57,208.668 1243.32,203.097 1245.87,198.085 1248.22,193.589 1250.37,189.567 1252.36,185.98 \n  1254.17,182.792 1255.83,179.969 1257.33,177.478 1258.7,175.288 1259.95,173.373 1261.07,171.704 1262.08,170.259 1262.99,169.015 1263.81,167.95 1264.54,167.046 \n  1265.19,166.285 1265.77,165.651 1266.28,165.13 1266.73,164.707 1267.13,164.371 1267.48,164.111 1267.78,163.916 1268.04,163.778 1268.27,163.688 1268.47,163.64 \n  1268.64,163.626 1268.78,163.642 1268.9,163.681 1269,163.739 1269.09,163.813 1269.16,163.899 1269.21,163.993 1269.26,164.093 1269.3,164.198 1269.33,164.304 \n  1269.35,164.411 1269.37,164.517 1269.38,164.622 1269.39,164.724 1269.4,164.823 1269.41,164.919 1269.41,165.012 1269.42,165.102 1269.42,165.188 1269.43,165.273 \n  \n  \"/>\n<polyline clip-path=\"url(#clip192)\" style=\"stroke:#e26f46; stroke-linecap:round; stroke-linejoin:round; stroke-width:4; stroke-opacity:1; fill:none\" points=\"\n  364.904,766.846 364.904,766.846 368.519,765.882 375.711,764.046 386.446,761.418 400.688,758.073 418.401,754.078 439.552,749.493 464.105,744.375 492.027,738.774 \n  523.285,732.737 557.844,726.31 595.671,719.532 636.735,712.441 681.002,705.07 728.441,697.442 779.02,689.568 832.707,681.451 889.472,673.088 949.283,664.482 \n  1012.11,655.643 1077.89,646.633 1145.48,637.647 1213.68,629.144 1281.14,621.993 1346.47,616.972 1408.98,614.133 1468.52,613.155 1525.04,613.749 1578.48,615.659 \n  1628.86,618.656 1676.19,622.54 1720.53,627.132 1761.94,632.278 1800.52,637.841 1836.35,643.704 1869.55,649.765 1900.24,655.936 1928.52,662.143 1954.53,668.323 \n  1978.39,674.423 2000.22,680.399 2020.15,686.218 2038.29,691.849 2054.77,697.272 2069.69,702.469 2083.17,707.429 2095.32,712.144 2106.24,716.609 2116.01,720.824 \n  2124.74,724.79 2132.52,728.509 2139.41,731.988 2145.51,735.232 2150.87,738.248 2155.58,741.047 2159.68,743.636 2163.25,746.026 2166.32,748.225 2168.96,750.246 \n  2171.21,752.096 2173.1,753.787 2174.69,755.329 2176,756.731 2177.06,758.002 2177.91,759.153 2178.57,760.191 2179.07,761.126 2179.43,761.964 2179.66,762.715 \n  2179.79,763.385 2179.83,763.981 2179.79,764.51 2179.69,764.977 2179.54,765.388 2179.35,765.75 2179.12,766.065 2178.87,766.34 2178.6,766.578 2178.32,766.783 \n  2178.03,766.959 2177.73,767.109 2177.44,767.237 2177.14,767.344 2176.85,767.434 2176.57,767.509 2176.3,767.57 2176.03,767.621 2175.78,767.662 2175.53,767.695 \n  2175.3,767.721 2175.08,767.742 2174.87,767.758 2174.66,767.771 2174.47,767.782 2174.29,767.791 2174.11,767.798 2173.95,767.804 2173.78,767.81 2173.63,767.816 \n  \n  \"/>\n<line clip-path=\"url(#clip192)\" x1=\"1268.47\" y1=\"167.178\" x2=\"1268.47\" y2=\"119.178\" style=\"stroke:#3da44d; stroke-width:3.2; stroke-opacity:1\"/>\n<line clip-path=\"url(#clip192)\" x1=\"1268.47\" y1=\"167.178\" x2=\"1220.47\" y2=\"167.178\" style=\"stroke:#3da44d; stroke-width:3.2; stroke-opacity:1\"/>\n<line clip-path=\"url(#clip192)\" x1=\"1268.47\" y1=\"167.178\" x2=\"1268.47\" y2=\"215.178\" style=\"stroke:#3da44d; stroke-width:3.2; stroke-opacity:1\"/>\n<line clip-path=\"url(#clip192)\" x1=\"1268.47\" y1=\"167.178\" x2=\"1316.47\" y2=\"167.178\" style=\"stroke:#3da44d; stroke-width:3.2; stroke-opacity:1\"/>\n<line clip-path=\"url(#clip192)\" x1=\"2172.04\" y1=\"766.846\" x2=\"2172.04\" y2=\"718.846\" style=\"stroke:#c271d2; stroke-width:3.2; stroke-opacity:1\"/>\n<line clip-path=\"url(#clip192)\" x1=\"2172.04\" y1=\"766.846\" x2=\"2124.04\" y2=\"766.846\" style=\"stroke:#c271d2; stroke-width:3.2; stroke-opacity:1\"/>\n<line clip-path=\"url(#clip192)\" x1=\"2172.04\" y1=\"766.846\" x2=\"2172.04\" y2=\"814.846\" style=\"stroke:#c271d2; stroke-width:3.2; stroke-opacity:1\"/>\n<line clip-path=\"url(#clip192)\" x1=\"2172.04\" y1=\"766.846\" x2=\"2220.04\" y2=\"766.846\" style=\"stroke:#c271d2; stroke-width:3.2; stroke-opacity:1\"/>\n</svg>\n"
     },
     "execution_count": 41,
     "metadata": {},
     "output_type": "execute_result"
    }
   ],
   "source": [
    "plot([xₜ[:, 1]], [xₜ[:, 2]], xlims = (-1, 11), ylims = (-1, 11), legend = false)\n",
    "plot!([xₜ[:, 5]], [xₜ[:, 6]])\n",
    "plot!([xgoal[1]], [xgoal[2]], m = (:cross, 12))\n",
    "plot!([xgoal[5]], [xgoal[6]], m = (:cross, 12))"
   ]
  },
  {
   "cell_type": "code",
   "execution_count": 37,
   "metadata": {},
   "outputs": [
    {
     "data": {
      "image/svg+xml": "<?xml version=\"1.0\" encoding=\"utf-8\"?>\n<svg xmlns=\"http://www.w3.org/2000/svg\" xmlns:xlink=\"http://www.w3.org/1999/xlink\" width=\"600\" height=\"400\" viewBox=\"0 0 2400 1600\">\n<defs>\n  <clipPath id=\"clip070\">\n    <rect x=\"0\" y=\"0\" width=\"2400\" height=\"1600\"/>\n  </clipPath>\n</defs>\n<path clip-path=\"url(#clip070)\" d=\"\nM0 1600 L2400 1600 L2400 0 L0 0  Z\n  \" fill=\"#ffffff\" fill-rule=\"evenodd\" fill-opacity=\"1\"/>\n<defs>\n  <clipPath id=\"clip071\">\n    <rect x=\"480\" y=\"0\" width=\"1681\" height=\"1600\"/>\n  </clipPath>\n</defs>\n<path clip-path=\"url(#clip070)\" d=\"\nM147.478 1486.45 L2352.76 1486.45 L2352.76 47.2441 L147.478 47.2441  Z\n  \" fill=\"#ffffff\" fill-rule=\"evenodd\" fill-opacity=\"1\"/>\n<defs>\n  <clipPath id=\"clip072\">\n    <rect x=\"147\" y=\"47\" width=\"2206\" height=\"1440\"/>\n  </clipPath>\n</defs>\n<polyline clip-path=\"url(#clip072)\" style=\"stroke:#000000; stroke-linecap:round; stroke-linejoin:round; stroke-width:2; stroke-opacity:0.1; fill:none\" points=\"\n  188.877,1486.45 188.877,47.2441 \n  \"/>\n<polyline clip-path=\"url(#clip072)\" style=\"stroke:#000000; stroke-linecap:round; stroke-linejoin:round; stroke-width:2; stroke-opacity:0.1; fill:none\" points=\"\n  714.243,1486.45 714.243,47.2441 \n  \"/>\n<polyline clip-path=\"url(#clip072)\" style=\"stroke:#000000; stroke-linecap:round; stroke-linejoin:round; stroke-width:2; stroke-opacity:0.1; fill:none\" points=\"\n  1239.61,1486.45 1239.61,47.2441 \n  \"/>\n<polyline clip-path=\"url(#clip072)\" style=\"stroke:#000000; stroke-linecap:round; stroke-linejoin:round; stroke-width:2; stroke-opacity:0.1; fill:none\" points=\"\n  1764.98,1486.45 1764.98,47.2441 \n  \"/>\n<polyline clip-path=\"url(#clip072)\" style=\"stroke:#000000; stroke-linecap:round; stroke-linejoin:round; stroke-width:2; stroke-opacity:0.1; fill:none\" points=\"\n  2290.34,1486.45 2290.34,47.2441 \n  \"/>\n<polyline clip-path=\"url(#clip070)\" style=\"stroke:#000000; stroke-linecap:round; stroke-linejoin:round; stroke-width:4; stroke-opacity:1; fill:none\" points=\"\n  147.478,1486.45 2352.76,1486.45 \n  \"/>\n<polyline clip-path=\"url(#clip070)\" style=\"stroke:#000000; stroke-linecap:round; stroke-linejoin:round; stroke-width:4; stroke-opacity:1; fill:none\" points=\"\n  188.877,1486.45 188.877,1467.55 \n  \"/>\n<polyline clip-path=\"url(#clip070)\" style=\"stroke:#000000; stroke-linecap:round; stroke-linejoin:round; stroke-width:4; stroke-opacity:1; fill:none\" points=\"\n  714.243,1486.45 714.243,1467.55 \n  \"/>\n<polyline clip-path=\"url(#clip070)\" style=\"stroke:#000000; stroke-linecap:round; stroke-linejoin:round; stroke-width:4; stroke-opacity:1; fill:none\" points=\"\n  1239.61,1486.45 1239.61,1467.55 \n  \"/>\n<polyline clip-path=\"url(#clip070)\" style=\"stroke:#000000; stroke-linecap:round; stroke-linejoin:round; stroke-width:4; stroke-opacity:1; fill:none\" points=\"\n  1764.98,1486.45 1764.98,1467.55 \n  \"/>\n<polyline clip-path=\"url(#clip070)\" style=\"stroke:#000000; stroke-linecap:round; stroke-linejoin:round; stroke-width:4; stroke-opacity:1; fill:none\" points=\"\n  2290.34,1486.45 2290.34,1467.55 \n  \"/>\n<path clip-path=\"url(#clip070)\" d=\"M188.877 1517.37 Q185.266 1517.37 183.437 1520.93 Q181.631 1524.47 181.631 1531.6 Q181.631 1538.71 183.437 1542.27 Q185.266 1545.82 188.877 1545.82 Q192.511 1545.82 194.317 1542.27 Q196.145 1538.71 196.145 1531.6 Q196.145 1524.47 194.317 1520.93 Q192.511 1517.37 188.877 1517.37 M188.877 1513.66 Q194.687 1513.66 197.742 1518.27 Q200.821 1522.85 200.821 1531.6 Q200.821 1540.33 197.742 1544.94 Q194.687 1549.52 188.877 1549.52 Q183.067 1549.52 179.988 1544.94 Q176.932 1540.33 176.932 1531.6 Q176.932 1522.85 179.988 1518.27 Q183.067 1513.66 188.877 1513.66 Z\" fill=\"#000000\" fill-rule=\"evenodd\" fill-opacity=\"1\" /><path clip-path=\"url(#clip070)\" d=\"M693.514 1544.91 L709.833 1544.91 L709.833 1548.85 L687.889 1548.85 L687.889 1544.91 Q690.551 1542.16 695.134 1537.53 Q699.741 1532.88 700.921 1531.53 Q703.167 1529.01 704.046 1527.27 Q704.949 1525.51 704.949 1523.82 Q704.949 1521.07 703.005 1519.33 Q701.084 1517.6 697.982 1517.6 Q695.783 1517.6 693.329 1518.36 Q690.898 1519.13 688.121 1520.68 L688.121 1515.95 Q690.945 1514.82 693.398 1514.24 Q695.852 1513.66 697.889 1513.66 Q703.259 1513.66 706.454 1516.35 Q709.648 1519.03 709.648 1523.52 Q709.648 1525.65 708.838 1527.57 Q708.051 1529.47 705.945 1532.07 Q705.366 1532.74 702.264 1535.95 Q699.162 1539.15 693.514 1544.91 Z\" fill=\"#000000\" fill-rule=\"evenodd\" fill-opacity=\"1\" /><path clip-path=\"url(#clip070)\" d=\"M719.695 1514.29 L738.051 1514.29 L738.051 1518.22 L723.977 1518.22 L723.977 1526.7 Q724.995 1526.35 726.014 1526.19 Q727.032 1526 728.051 1526 Q733.838 1526 737.218 1529.17 Q740.597 1532.34 740.597 1537.76 Q740.597 1543.34 737.125 1546.44 Q733.653 1549.52 727.333 1549.52 Q725.157 1549.52 722.889 1549.15 Q720.644 1548.78 718.236 1548.04 L718.236 1543.34 Q720.32 1544.47 722.542 1545.03 Q724.764 1545.58 727.241 1545.58 Q731.245 1545.58 733.583 1543.48 Q735.921 1541.37 735.921 1537.76 Q735.921 1534.15 733.583 1532.04 Q731.245 1529.94 727.241 1529.94 Q725.366 1529.94 723.491 1530.35 Q721.639 1530.77 719.695 1531.65 L719.695 1514.29 Z\" fill=\"#000000\" fill-rule=\"evenodd\" fill-opacity=\"1\" /><path clip-path=\"url(#clip070)\" d=\"M1214.31 1514.29 L1232.67 1514.29 L1232.67 1518.22 L1218.59 1518.22 L1218.59 1526.7 Q1219.61 1526.35 1220.63 1526.19 Q1221.65 1526 1222.67 1526 Q1228.45 1526 1231.83 1529.17 Q1235.21 1532.34 1235.21 1537.76 Q1235.21 1543.34 1231.74 1546.44 Q1228.27 1549.52 1221.95 1549.52 Q1219.77 1549.52 1217.5 1549.15 Q1215.26 1548.78 1212.85 1548.04 L1212.85 1543.34 Q1214.93 1544.47 1217.16 1545.03 Q1219.38 1545.58 1221.86 1545.58 Q1225.86 1545.58 1228.2 1543.48 Q1230.54 1541.37 1230.54 1537.76 Q1230.54 1534.15 1228.2 1532.04 Q1225.86 1529.94 1221.86 1529.94 Q1219.98 1529.94 1218.11 1530.35 Q1216.25 1530.77 1214.31 1531.65 L1214.31 1514.29 Z\" fill=\"#000000\" fill-rule=\"evenodd\" fill-opacity=\"1\" /><path clip-path=\"url(#clip070)\" d=\"M1254.42 1517.37 Q1250.81 1517.37 1248.98 1520.93 Q1247.18 1524.47 1247.18 1531.6 Q1247.18 1538.71 1248.98 1542.27 Q1250.81 1545.82 1254.42 1545.82 Q1258.06 1545.82 1259.86 1542.27 Q1261.69 1538.71 1261.69 1531.6 Q1261.69 1524.47 1259.86 1520.93 Q1258.06 1517.37 1254.42 1517.37 M1254.42 1513.66 Q1260.23 1513.66 1263.29 1518.27 Q1266.37 1522.85 1266.37 1531.6 Q1266.37 1540.33 1263.29 1544.94 Q1260.23 1549.52 1254.42 1549.52 Q1248.61 1549.52 1245.54 1544.94 Q1242.48 1540.33 1242.48 1531.6 Q1242.48 1522.85 1245.54 1518.27 Q1248.61 1513.66 1254.42 1513.66 Z\" fill=\"#000000\" fill-rule=\"evenodd\" fill-opacity=\"1\" /><path clip-path=\"url(#clip070)\" d=\"M1738.83 1514.29 L1761.05 1514.29 L1761.05 1516.28 L1748.51 1548.85 L1743.62 1548.85 L1755.43 1518.22 L1738.83 1518.22 L1738.83 1514.29 Z\" fill=\"#000000\" fill-rule=\"evenodd\" fill-opacity=\"1\" /><path clip-path=\"url(#clip070)\" d=\"M1770.22 1514.29 L1788.58 1514.29 L1788.58 1518.22 L1774.5 1518.22 L1774.5 1526.7 Q1775.52 1526.35 1776.54 1526.19 Q1777.56 1526 1778.58 1526 Q1784.36 1526 1787.74 1529.17 Q1791.12 1532.34 1791.12 1537.76 Q1791.12 1543.34 1787.65 1546.44 Q1784.18 1549.52 1777.86 1549.52 Q1775.68 1549.52 1773.41 1549.15 Q1771.17 1548.78 1768.76 1548.04 L1768.76 1543.34 Q1770.84 1544.47 1773.07 1545.03 Q1775.29 1545.58 1777.77 1545.58 Q1781.77 1545.58 1784.11 1543.48 Q1786.45 1541.37 1786.45 1537.76 Q1786.45 1534.15 1784.11 1532.04 Q1781.77 1529.94 1777.77 1529.94 Q1775.89 1529.94 1774.02 1530.35 Q1772.16 1530.77 1770.22 1531.65 L1770.22 1514.29 Z\" fill=\"#000000\" fill-rule=\"evenodd\" fill-opacity=\"1\" /><path clip-path=\"url(#clip070)\" d=\"M2249.95 1544.91 L2257.59 1544.91 L2257.59 1518.55 L2249.28 1520.21 L2249.28 1515.95 L2257.54 1514.29 L2262.22 1514.29 L2262.22 1544.91 L2269.86 1544.91 L2269.86 1548.85 L2249.95 1548.85 L2249.95 1544.91 Z\" fill=\"#000000\" fill-rule=\"evenodd\" fill-opacity=\"1\" /><path clip-path=\"url(#clip070)\" d=\"M2289.3 1517.37 Q2285.69 1517.37 2283.86 1520.93 Q2282.06 1524.47 2282.06 1531.6 Q2282.06 1538.71 2283.86 1542.27 Q2285.69 1545.82 2289.3 1545.82 Q2292.93 1545.82 2294.74 1542.27 Q2296.57 1538.71 2296.57 1531.6 Q2296.57 1524.47 2294.74 1520.93 Q2292.93 1517.37 2289.3 1517.37 M2289.3 1513.66 Q2295.11 1513.66 2298.17 1518.27 Q2301.25 1522.85 2301.25 1531.6 Q2301.25 1540.33 2298.17 1544.94 Q2295.11 1549.52 2289.3 1549.52 Q2283.49 1549.52 2280.41 1544.94 Q2277.36 1540.33 2277.36 1531.6 Q2277.36 1522.85 2280.41 1518.27 Q2283.49 1513.66 2289.3 1513.66 Z\" fill=\"#000000\" fill-rule=\"evenodd\" fill-opacity=\"1\" /><path clip-path=\"url(#clip070)\" d=\"M2319.46 1517.37 Q2315.85 1517.37 2314.02 1520.93 Q2312.22 1524.47 2312.22 1531.6 Q2312.22 1538.71 2314.02 1542.27 Q2315.85 1545.82 2319.46 1545.82 Q2323.1 1545.82 2324.9 1542.27 Q2326.73 1538.71 2326.73 1531.6 Q2326.73 1524.47 2324.9 1520.93 Q2323.1 1517.37 2319.46 1517.37 M2319.46 1513.66 Q2325.27 1513.66 2328.33 1518.27 Q2331.41 1522.85 2331.41 1531.6 Q2331.41 1540.33 2328.33 1544.94 Q2325.27 1549.52 2319.46 1549.52 Q2313.65 1549.52 2310.57 1544.94 Q2307.52 1540.33 2307.52 1531.6 Q2307.52 1522.85 2310.57 1518.27 Q2313.65 1513.66 2319.46 1513.66 Z\" fill=\"#000000\" fill-rule=\"evenodd\" fill-opacity=\"1\" /><polyline clip-path=\"url(#clip072)\" style=\"stroke:#000000; stroke-linecap:round; stroke-linejoin:round; stroke-width:2; stroke-opacity:0.1; fill:none\" points=\"\n  147.478,1481.32 2352.76,1481.32 \n  \"/>\n<polyline clip-path=\"url(#clip072)\" style=\"stroke:#000000; stroke-linecap:round; stroke-linejoin:round; stroke-width:2; stroke-opacity:0.1; fill:none\" points=\"\n  147.478,1016.87 2352.76,1016.87 \n  \"/>\n<polyline clip-path=\"url(#clip072)\" style=\"stroke:#000000; stroke-linecap:round; stroke-linejoin:round; stroke-width:2; stroke-opacity:0.1; fill:none\" points=\"\n  147.478,552.423 2352.76,552.423 \n  \"/>\n<polyline clip-path=\"url(#clip072)\" style=\"stroke:#000000; stroke-linecap:round; stroke-linejoin:round; stroke-width:2; stroke-opacity:0.1; fill:none\" points=\"\n  147.478,87.9763 2352.76,87.9763 \n  \"/>\n<polyline clip-path=\"url(#clip070)\" style=\"stroke:#000000; stroke-linecap:round; stroke-linejoin:round; stroke-width:4; stroke-opacity:1; fill:none\" points=\"\n  147.478,1486.45 147.478,47.2441 \n  \"/>\n<polyline clip-path=\"url(#clip070)\" style=\"stroke:#000000; stroke-linecap:round; stroke-linejoin:round; stroke-width:4; stroke-opacity:1; fill:none\" points=\"\n  147.478,1481.32 166.376,1481.32 \n  \"/>\n<polyline clip-path=\"url(#clip070)\" style=\"stroke:#000000; stroke-linecap:round; stroke-linejoin:round; stroke-width:4; stroke-opacity:1; fill:none\" points=\"\n  147.478,1016.87 166.376,1016.87 \n  \"/>\n<polyline clip-path=\"url(#clip070)\" style=\"stroke:#000000; stroke-linecap:round; stroke-linejoin:round; stroke-width:4; stroke-opacity:1; fill:none\" points=\"\n  147.478,552.423 166.376,552.423 \n  \"/>\n<polyline clip-path=\"url(#clip070)\" style=\"stroke:#000000; stroke-linecap:round; stroke-linejoin:round; stroke-width:4; stroke-opacity:1; fill:none\" points=\"\n  147.478,87.9763 166.376,87.9763 \n  \"/>\n<path clip-path=\"url(#clip070)\" d=\"M50.9921 1481.77 L80.6679 1481.77 L80.6679 1485.7 L50.9921 1485.7 L50.9921 1481.77 Z\" fill=\"#000000\" fill-rule=\"evenodd\" fill-opacity=\"1\" /><path clip-path=\"url(#clip070)\" d=\"M91.5706 1494.66 L99.2095 1494.66 L99.2095 1468.3 L90.8993 1469.96 L90.8993 1465.7 L99.1632 1464.04 L103.839 1464.04 L103.839 1494.66 L111.478 1494.66 L111.478 1498.6 L91.5706 1498.6 L91.5706 1494.66 Z\" fill=\"#000000\" fill-rule=\"evenodd\" fill-opacity=\"1\" /><path clip-path=\"url(#clip070)\" d=\"M99.5335 1002.67 Q95.9224 1002.67 94.0937 1006.23 Q92.2882 1009.78 92.2882 1016.9 Q92.2882 1024.01 94.0937 1027.58 Q95.9224 1031.12 99.5335 1031.12 Q103.168 1031.12 104.973 1027.58 Q106.802 1024.01 106.802 1016.9 Q106.802 1009.78 104.973 1006.23 Q103.168 1002.67 99.5335 1002.67 M99.5335 998.965 Q105.344 998.965 108.399 1003.57 Q111.478 1008.15 111.478 1016.9 Q111.478 1025.63 108.399 1030.24 Q105.344 1034.82 99.5335 1034.82 Q93.7234 1034.82 90.6447 1030.24 Q87.5892 1025.63 87.5892 1016.9 Q87.5892 1008.15 90.6447 1003.57 Q93.7234 998.965 99.5335 998.965 Z\" fill=\"#000000\" fill-rule=\"evenodd\" fill-opacity=\"1\" /><path clip-path=\"url(#clip070)\" d=\"M91.5706 565.768 L99.2095 565.768 L99.2095 539.402 L90.8993 541.069 L90.8993 536.81 L99.1632 535.143 L103.839 535.143 L103.839 565.768 L111.478 565.768 L111.478 569.703 L91.5706 569.703 L91.5706 565.768 Z\" fill=\"#000000\" fill-rule=\"evenodd\" fill-opacity=\"1\" /><path clip-path=\"url(#clip070)\" d=\"M95.1586 101.321 L111.478 101.321 L111.478 105.256 L89.5336 105.256 L89.5336 101.321 Q92.1956 98.5665 96.7789 93.9369 Q101.385 89.2841 102.566 87.9416 Q104.811 85.4184 105.691 83.6823 Q106.594 81.9231 106.594 80.2333 Q106.594 77.4786 104.649 75.7425 Q102.728 74.0064 99.6261 74.0064 Q97.4271 74.0064 94.9734 74.7703 Q92.5428 75.5342 89.7651 77.0851 L89.7651 72.3629 Q92.5891 71.2287 95.0428 70.65 Q97.4965 70.0713 99.5335 70.0713 Q104.904 70.0713 108.098 72.7565 Q111.293 75.4416 111.293 79.9323 Q111.293 82.062 110.483 83.9832 Q109.696 85.8814 107.589 88.474 Q107.01 89.1453 103.909 92.3628 Q100.807 95.5573 95.1586 101.321 Z\" fill=\"#000000\" fill-rule=\"evenodd\" fill-opacity=\"1\" /><polyline clip-path=\"url(#clip072)\" style=\"stroke:#009af9; stroke-linecap:round; stroke-linejoin:round; stroke-width:4; stroke-opacity:1; fill:none\" points=\"\n  209.891,1307.38 230.906,1280.95 251.921,1256.88 272.935,1234.89 293.95,1214.7 314.965,1196.03 335.979,1178.6 356.994,1162.15 378.009,1146.43 399.023,1131.25 \n  420.038,1116.46 441.053,1102.04 462.067,1088.19 483.082,1075.46 504.097,1065.09 525.111,1055.72 546.126,1046.46 567.141,1037.32 588.155,1027.28 609.17,1011.79 \n  630.185,976.393 651.199,897.781 672.214,735.429 693.229,543.388 714.243,490.559 735.258,565.831 756.272,633.233 777.287,693.4 798.302,746.934 819.316,794.402 \n  840.331,836.336 861.346,873.233 882.36,905.559 903.375,933.745 924.39,958.194 945.404,979.278 966.419,997.339 987.434,1012.69 1008.45,1025.63 1029.46,1036.43 \n  1050.48,1045.31 1071.49,1052.52 1092.51,1058.25 1113.52,1062.67 1134.54,1065.97 1155.55,1068.29 1176.57,1069.77 1197.58,1070.52 1218.59,1070.66 1239.61,1070.28 \n  1260.62,1069.46 1281.64,1068.29 1302.65,1066.84 1323.67,1065.15 1344.68,1063.29 1365.7,1061.3 1386.71,1059.22 1407.73,1057.07 1428.74,1054.9 1449.76,1052.72 \n  1470.77,1050.56 1491.79,1048.43 1512.8,1046.35 1533.81,1044.33 1554.83,1042.38 1575.84,1040.5 1596.86,1038.7 1617.87,1036.98 1638.89,1035.35 1659.9,1033.81 \n  1680.92,1032.36 1701.93,1030.99 1722.95,1029.7 1743.96,1028.5 1764.98,1027.38 1785.99,1026.34 1807.01,1025.37 1828.02,1024.48 1849.03,1023.65 1870.05,1022.89 \n  1891.06,1022.19 1912.08,1021.54 1933.09,1020.96 1954.11,1020.42 1975.12,1019.94 1996.14,1019.49 2017.15,1019.1 2038.17,1018.74 2059.18,1018.42 2080.2,1018.13 \n  2101.21,1017.88 2122.23,1017.66 2143.24,1017.47 2164.25,1017.3 2185.27,1017.17 2206.28,1017.06 2227.3,1016.97 2248.31,1016.91 2269.33,1016.88 2290.34,1016.87 \n  \n  \"/>\n<polyline clip-path=\"url(#clip072)\" style=\"stroke:#e26f46; stroke-linecap:round; stroke-linejoin:round; stroke-width:4; stroke-opacity:1; fill:none\" points=\"\n  209.891,87.9763 230.906,87.9763 251.921,87.9763 272.935,87.9763 293.95,87.9763 314.965,87.9763 335.979,87.9763 356.994,87.9763 378.009,87.9763 399.023,87.9763 \n  420.038,87.9763 441.053,87.9763 462.067,87.9763 483.082,87.9763 504.097,279.563 525.111,523.197 546.126,733.753 567.141,914.649 588.155,1065.98 609.17,1178.29 \n  630.185,1218.57 651.199,1138.08 672.214,877.255 693.229,633.886 714.243,653.608 735.258,806.801 756.272,937.453 777.287,1047.96 798.302,1140.53 819.316,1217.17 \n  840.331,1279.72 861.346,1329.85 882.36,1369.09 903.375,1398.82 924.39,1420.28 945.404,1434.59 966.419,1442.77 987.434,1445.72 1008.45,1444.24 1029.46,1439.06 \n  1050.48,1430.82 1071.49,1420.08 1092.51,1407.35 1113.52,1393.04 1134.54,1377.56 1155.55,1361.23 1176.57,1344.33 1197.58,1327.11 1218.59,1309.79 1239.61,1292.53 \n  1260.62,1275.49 1281.64,1258.78 1302.65,1242.51 1323.67,1226.77 1344.68,1211.6 1365.7,1197.05 1386.71,1183.17 1407.73,1169.97 1428.74,1157.46 1449.76,1145.66 \n  1470.77,1134.55 1491.79,1124.12 1512.8,1114.37 1533.81,1105.27 1554.83,1096.81 1575.84,1088.95 1596.86,1081.68 1617.87,1074.97 1638.89,1068.79 1659.9,1063.11 \n  1680.92,1057.91 1701.93,1053.15 1722.95,1048.81 1743.96,1044.87 1764.98,1041.29 1785.99,1038.05 1807.01,1035.12 1828.02,1032.49 1849.03,1030.13 1870.05,1028.03 \n  1891.06,1026.15 1912.08,1024.48 1933.09,1023.01 1954.11,1021.72 1975.12,1020.6 1996.14,1019.62 2017.15,1018.79 2038.17,1018.08 2059.18,1017.49 2080.2,1017 \n  2101.21,1016.62 2122.23,1016.33 2143.24,1016.13 2164.25,1016.02 2185.27,1015.98 2206.28,1016.01 2227.3,1016.12 2248.31,1016.3 2269.33,1016.55 2290.34,1016.87 \n  \n  \"/>\n<path clip-path=\"url(#clip070)\" d=\"\nM2006.29 250.738 L2279.25 250.738 L2279.25 95.2176 L2006.29 95.2176  Z\n  \" fill=\"#ffffff\" fill-rule=\"evenodd\" fill-opacity=\"1\"/>\n<polyline clip-path=\"url(#clip070)\" style=\"stroke:#000000; stroke-linecap:round; stroke-linejoin:round; stroke-width:4; stroke-opacity:1; fill:none\" points=\"\n  2006.29,250.738 2279.25,250.738 2279.25,95.2176 2006.29,95.2176 2006.29,250.738 \n  \"/>\n<polyline clip-path=\"url(#clip070)\" style=\"stroke:#009af9; stroke-linecap:round; stroke-linejoin:round; stroke-width:4; stroke-opacity:1; fill:none\" points=\"\n  2030.79,147.058 2177.81,147.058 \n  \"/>\n<path clip-path=\"url(#clip070)\" d=\"M2216.16 166.745 Q2214.35 171.375 2212.64 172.787 Q2210.92 174.199 2208.05 174.199 L2204.65 174.199 L2204.65 170.634 L2207.15 170.634 Q2208.91 170.634 2209.88 169.8 Q2210.85 168.967 2212.04 165.865 L2212.8 163.921 L2202.31 138.412 L2206.83 138.412 L2214.93 158.689 L2223.03 138.412 L2227.54 138.412 L2216.16 166.745 Z\" fill=\"#000000\" fill-rule=\"evenodd\" fill-opacity=\"1\" /><path clip-path=\"url(#clip070)\" d=\"M2234.84 160.402 L2242.48 160.402 L2242.48 134.037 L2234.16 135.703 L2234.16 131.444 L2242.43 129.778 L2247.1 129.778 L2247.1 160.402 L2254.74 160.402 L2254.74 164.338 L2234.84 164.338 L2234.84 160.402 Z\" fill=\"#000000\" fill-rule=\"evenodd\" fill-opacity=\"1\" /><polyline clip-path=\"url(#clip070)\" style=\"stroke:#e26f46; stroke-linecap:round; stroke-linejoin:round; stroke-width:4; stroke-opacity:1; fill:none\" points=\"\n  2030.79,198.898 2177.81,198.898 \n  \"/>\n<path clip-path=\"url(#clip070)\" d=\"M2216.16 218.585 Q2214.35 223.215 2212.64 224.627 Q2210.92 226.039 2208.05 226.039 L2204.65 226.039 L2204.65 222.474 L2207.15 222.474 Q2208.91 222.474 2209.88 221.64 Q2210.85 220.807 2212.04 217.705 L2212.8 215.761 L2202.31 190.252 L2206.83 190.252 L2214.93 210.529 L2223.03 190.252 L2227.54 190.252 L2216.16 218.585 Z\" fill=\"#000000\" fill-rule=\"evenodd\" fill-opacity=\"1\" /><path clip-path=\"url(#clip070)\" d=\"M2238.05 212.242 L2254.37 212.242 L2254.37 216.178 L2232.43 216.178 L2232.43 212.242 Q2235.09 209.488 2239.67 204.858 Q2244.28 200.205 2245.46 198.863 Q2247.71 196.34 2248.59 194.604 Q2249.49 192.844 2249.49 191.155 Q2249.49 188.4 2247.54 186.664 Q2245.62 184.928 2242.52 184.928 Q2240.32 184.928 2237.87 185.692 Q2235.44 186.455 2232.66 188.006 L2232.66 183.284 Q2235.48 182.15 2237.94 181.571 Q2240.39 180.993 2242.43 180.993 Q2247.8 180.993 2250.99 183.678 Q2254.19 186.363 2254.19 190.854 Q2254.19 192.983 2253.38 194.905 Q2252.59 196.803 2250.48 199.395 Q2249.91 200.067 2246.8 203.284 Q2243.7 206.479 2238.05 212.242 Z\" fill=\"#000000\" fill-rule=\"evenodd\" fill-opacity=\"1\" /></svg>\n"
     },
     "execution_count": 37,
     "metadata": {},
     "output_type": "execute_result"
    }
   ],
   "source": [
    "plot(u1ₜ)"
   ]
  },
  {
   "cell_type": "code",
   "execution_count": 38,
   "metadata": {},
   "outputs": [
    {
     "data": {
      "image/svg+xml": "<?xml version=\"1.0\" encoding=\"utf-8\"?>\n<svg xmlns=\"http://www.w3.org/2000/svg\" xmlns:xlink=\"http://www.w3.org/1999/xlink\" width=\"600\" height=\"400\" viewBox=\"0 0 2400 1600\">\n<defs>\n  <clipPath id=\"clip110\">\n    <rect x=\"0\" y=\"0\" width=\"2400\" height=\"1600\"/>\n  </clipPath>\n</defs>\n<path clip-path=\"url(#clip110)\" d=\"\nM0 1600 L2400 1600 L2400 0 L0 0  Z\n  \" fill=\"#ffffff\" fill-rule=\"evenodd\" fill-opacity=\"1\"/>\n<defs>\n  <clipPath id=\"clip111\">\n    <rect x=\"480\" y=\"0\" width=\"1681\" height=\"1600\"/>\n  </clipPath>\n</defs>\n<path clip-path=\"url(#clip110)\" d=\"\nM147.478 1486.45 L2352.76 1486.45 L2352.76 47.2441 L147.478 47.2441  Z\n  \" fill=\"#ffffff\" fill-rule=\"evenodd\" fill-opacity=\"1\"/>\n<defs>\n  <clipPath id=\"clip112\">\n    <rect x=\"147\" y=\"47\" width=\"2206\" height=\"1440\"/>\n  </clipPath>\n</defs>\n<polyline clip-path=\"url(#clip112)\" style=\"stroke:#000000; stroke-linecap:round; stroke-linejoin:round; stroke-width:2; stroke-opacity:0.1; fill:none\" points=\"\n  188.877,1486.45 188.877,47.2441 \n  \"/>\n<polyline clip-path=\"url(#clip112)\" style=\"stroke:#000000; stroke-linecap:round; stroke-linejoin:round; stroke-width:2; stroke-opacity:0.1; fill:none\" points=\"\n  714.243,1486.45 714.243,47.2441 \n  \"/>\n<polyline clip-path=\"url(#clip112)\" style=\"stroke:#000000; stroke-linecap:round; stroke-linejoin:round; stroke-width:2; stroke-opacity:0.1; fill:none\" points=\"\n  1239.61,1486.45 1239.61,47.2441 \n  \"/>\n<polyline clip-path=\"url(#clip112)\" style=\"stroke:#000000; stroke-linecap:round; stroke-linejoin:round; stroke-width:2; stroke-opacity:0.1; fill:none\" points=\"\n  1764.98,1486.45 1764.98,47.2441 \n  \"/>\n<polyline clip-path=\"url(#clip112)\" style=\"stroke:#000000; stroke-linecap:round; stroke-linejoin:round; stroke-width:2; stroke-opacity:0.1; fill:none\" points=\"\n  2290.34,1486.45 2290.34,47.2441 \n  \"/>\n<polyline clip-path=\"url(#clip110)\" style=\"stroke:#000000; stroke-linecap:round; stroke-linejoin:round; stroke-width:4; stroke-opacity:1; fill:none\" points=\"\n  147.478,1486.45 2352.76,1486.45 \n  \"/>\n<polyline clip-path=\"url(#clip110)\" style=\"stroke:#000000; stroke-linecap:round; stroke-linejoin:round; stroke-width:4; stroke-opacity:1; fill:none\" points=\"\n  188.877,1486.45 188.877,1467.55 \n  \"/>\n<polyline clip-path=\"url(#clip110)\" style=\"stroke:#000000; stroke-linecap:round; stroke-linejoin:round; stroke-width:4; stroke-opacity:1; fill:none\" points=\"\n  714.243,1486.45 714.243,1467.55 \n  \"/>\n<polyline clip-path=\"url(#clip110)\" style=\"stroke:#000000; stroke-linecap:round; stroke-linejoin:round; stroke-width:4; stroke-opacity:1; fill:none\" points=\"\n  1239.61,1486.45 1239.61,1467.55 \n  \"/>\n<polyline clip-path=\"url(#clip110)\" style=\"stroke:#000000; stroke-linecap:round; stroke-linejoin:round; stroke-width:4; stroke-opacity:1; fill:none\" points=\"\n  1764.98,1486.45 1764.98,1467.55 \n  \"/>\n<polyline clip-path=\"url(#clip110)\" style=\"stroke:#000000; stroke-linecap:round; stroke-linejoin:round; stroke-width:4; stroke-opacity:1; fill:none\" points=\"\n  2290.34,1486.45 2290.34,1467.55 \n  \"/>\n<path clip-path=\"url(#clip110)\" d=\"M188.877 1517.37 Q185.266 1517.37 183.437 1520.93 Q181.631 1524.47 181.631 1531.6 Q181.631 1538.71 183.437 1542.27 Q185.266 1545.82 188.877 1545.82 Q192.511 1545.82 194.317 1542.27 Q196.145 1538.71 196.145 1531.6 Q196.145 1524.47 194.317 1520.93 Q192.511 1517.37 188.877 1517.37 M188.877 1513.66 Q194.687 1513.66 197.742 1518.27 Q200.821 1522.85 200.821 1531.6 Q200.821 1540.33 197.742 1544.94 Q194.687 1549.52 188.877 1549.52 Q183.067 1549.52 179.988 1544.94 Q176.932 1540.33 176.932 1531.6 Q176.932 1522.85 179.988 1518.27 Q183.067 1513.66 188.877 1513.66 Z\" fill=\"#000000\" fill-rule=\"evenodd\" fill-opacity=\"1\" /><path clip-path=\"url(#clip110)\" d=\"M693.514 1544.91 L709.833 1544.91 L709.833 1548.85 L687.889 1548.85 L687.889 1544.91 Q690.551 1542.16 695.134 1537.53 Q699.741 1532.88 700.921 1531.53 Q703.167 1529.01 704.046 1527.27 Q704.949 1525.51 704.949 1523.82 Q704.949 1521.07 703.005 1519.33 Q701.084 1517.6 697.982 1517.6 Q695.783 1517.6 693.329 1518.36 Q690.898 1519.13 688.121 1520.68 L688.121 1515.95 Q690.945 1514.82 693.398 1514.24 Q695.852 1513.66 697.889 1513.66 Q703.259 1513.66 706.454 1516.35 Q709.648 1519.03 709.648 1523.52 Q709.648 1525.65 708.838 1527.57 Q708.051 1529.47 705.945 1532.07 Q705.366 1532.74 702.264 1535.95 Q699.162 1539.15 693.514 1544.91 Z\" fill=\"#000000\" fill-rule=\"evenodd\" fill-opacity=\"1\" /><path clip-path=\"url(#clip110)\" d=\"M719.695 1514.29 L738.051 1514.29 L738.051 1518.22 L723.977 1518.22 L723.977 1526.7 Q724.995 1526.35 726.014 1526.19 Q727.032 1526 728.051 1526 Q733.838 1526 737.218 1529.17 Q740.597 1532.34 740.597 1537.76 Q740.597 1543.34 737.125 1546.44 Q733.653 1549.52 727.333 1549.52 Q725.157 1549.52 722.889 1549.15 Q720.644 1548.78 718.236 1548.04 L718.236 1543.34 Q720.32 1544.47 722.542 1545.03 Q724.764 1545.58 727.241 1545.58 Q731.245 1545.58 733.583 1543.48 Q735.921 1541.37 735.921 1537.76 Q735.921 1534.15 733.583 1532.04 Q731.245 1529.94 727.241 1529.94 Q725.366 1529.94 723.491 1530.35 Q721.639 1530.77 719.695 1531.65 L719.695 1514.29 Z\" fill=\"#000000\" fill-rule=\"evenodd\" fill-opacity=\"1\" /><path clip-path=\"url(#clip110)\" d=\"M1214.31 1514.29 L1232.67 1514.29 L1232.67 1518.22 L1218.59 1518.22 L1218.59 1526.7 Q1219.61 1526.35 1220.63 1526.19 Q1221.65 1526 1222.67 1526 Q1228.45 1526 1231.83 1529.17 Q1235.21 1532.34 1235.21 1537.76 Q1235.21 1543.34 1231.74 1546.44 Q1228.27 1549.52 1221.95 1549.52 Q1219.77 1549.52 1217.5 1549.15 Q1215.26 1548.78 1212.85 1548.04 L1212.85 1543.34 Q1214.93 1544.47 1217.16 1545.03 Q1219.38 1545.58 1221.86 1545.58 Q1225.86 1545.58 1228.2 1543.48 Q1230.54 1541.37 1230.54 1537.76 Q1230.54 1534.15 1228.2 1532.04 Q1225.86 1529.94 1221.86 1529.94 Q1219.98 1529.94 1218.11 1530.35 Q1216.25 1530.77 1214.31 1531.65 L1214.31 1514.29 Z\" fill=\"#000000\" fill-rule=\"evenodd\" fill-opacity=\"1\" /><path clip-path=\"url(#clip110)\" d=\"M1254.42 1517.37 Q1250.81 1517.37 1248.98 1520.93 Q1247.18 1524.47 1247.18 1531.6 Q1247.18 1538.71 1248.98 1542.27 Q1250.81 1545.82 1254.42 1545.82 Q1258.06 1545.82 1259.86 1542.27 Q1261.69 1538.71 1261.69 1531.6 Q1261.69 1524.47 1259.86 1520.93 Q1258.06 1517.37 1254.42 1517.37 M1254.42 1513.66 Q1260.23 1513.66 1263.29 1518.27 Q1266.37 1522.85 1266.37 1531.6 Q1266.37 1540.33 1263.29 1544.94 Q1260.23 1549.52 1254.42 1549.52 Q1248.61 1549.52 1245.54 1544.94 Q1242.48 1540.33 1242.48 1531.6 Q1242.48 1522.85 1245.54 1518.27 Q1248.61 1513.66 1254.42 1513.66 Z\" fill=\"#000000\" fill-rule=\"evenodd\" fill-opacity=\"1\" /><path clip-path=\"url(#clip110)\" d=\"M1738.83 1514.29 L1761.05 1514.29 L1761.05 1516.28 L1748.51 1548.85 L1743.62 1548.85 L1755.43 1518.22 L1738.83 1518.22 L1738.83 1514.29 Z\" fill=\"#000000\" fill-rule=\"evenodd\" fill-opacity=\"1\" /><path clip-path=\"url(#clip110)\" d=\"M1770.22 1514.29 L1788.58 1514.29 L1788.58 1518.22 L1774.5 1518.22 L1774.5 1526.7 Q1775.52 1526.35 1776.54 1526.19 Q1777.56 1526 1778.58 1526 Q1784.36 1526 1787.74 1529.17 Q1791.12 1532.34 1791.12 1537.76 Q1791.12 1543.34 1787.65 1546.44 Q1784.18 1549.52 1777.86 1549.52 Q1775.68 1549.52 1773.41 1549.15 Q1771.17 1548.78 1768.76 1548.04 L1768.76 1543.34 Q1770.84 1544.47 1773.07 1545.03 Q1775.29 1545.58 1777.77 1545.58 Q1781.77 1545.58 1784.11 1543.48 Q1786.45 1541.37 1786.45 1537.76 Q1786.45 1534.15 1784.11 1532.04 Q1781.77 1529.94 1777.77 1529.94 Q1775.89 1529.94 1774.02 1530.35 Q1772.16 1530.77 1770.22 1531.65 L1770.22 1514.29 Z\" fill=\"#000000\" fill-rule=\"evenodd\" fill-opacity=\"1\" /><path clip-path=\"url(#clip110)\" d=\"M2249.95 1544.91 L2257.59 1544.91 L2257.59 1518.55 L2249.28 1520.21 L2249.28 1515.95 L2257.54 1514.29 L2262.22 1514.29 L2262.22 1544.91 L2269.86 1544.91 L2269.86 1548.85 L2249.95 1548.85 L2249.95 1544.91 Z\" fill=\"#000000\" fill-rule=\"evenodd\" fill-opacity=\"1\" /><path clip-path=\"url(#clip110)\" d=\"M2289.3 1517.37 Q2285.69 1517.37 2283.86 1520.93 Q2282.06 1524.47 2282.06 1531.6 Q2282.06 1538.71 2283.86 1542.27 Q2285.69 1545.82 2289.3 1545.82 Q2292.93 1545.82 2294.74 1542.27 Q2296.57 1538.71 2296.57 1531.6 Q2296.57 1524.47 2294.74 1520.93 Q2292.93 1517.37 2289.3 1517.37 M2289.3 1513.66 Q2295.11 1513.66 2298.17 1518.27 Q2301.25 1522.85 2301.25 1531.6 Q2301.25 1540.33 2298.17 1544.94 Q2295.11 1549.52 2289.3 1549.52 Q2283.49 1549.52 2280.41 1544.94 Q2277.36 1540.33 2277.36 1531.6 Q2277.36 1522.85 2280.41 1518.27 Q2283.49 1513.66 2289.3 1513.66 Z\" fill=\"#000000\" fill-rule=\"evenodd\" fill-opacity=\"1\" /><path clip-path=\"url(#clip110)\" d=\"M2319.46 1517.37 Q2315.85 1517.37 2314.02 1520.93 Q2312.22 1524.47 2312.22 1531.6 Q2312.22 1538.71 2314.02 1542.27 Q2315.85 1545.82 2319.46 1545.82 Q2323.1 1545.82 2324.9 1542.27 Q2326.73 1538.71 2326.73 1531.6 Q2326.73 1524.47 2324.9 1520.93 Q2323.1 1517.37 2319.46 1517.37 M2319.46 1513.66 Q2325.27 1513.66 2328.33 1518.27 Q2331.41 1522.85 2331.41 1531.6 Q2331.41 1540.33 2328.33 1544.94 Q2325.27 1549.52 2319.46 1549.52 Q2313.65 1549.52 2310.57 1544.94 Q2307.52 1540.33 2307.52 1531.6 Q2307.52 1522.85 2310.57 1518.27 Q2313.65 1513.66 2319.46 1513.66 Z\" fill=\"#000000\" fill-rule=\"evenodd\" fill-opacity=\"1\" /><polyline clip-path=\"url(#clip112)\" style=\"stroke:#000000; stroke-linecap:round; stroke-linejoin:round; stroke-width:2; stroke-opacity:0.1; fill:none\" points=\"\n  147.478,1166.04 2352.76,1166.04 \n  \"/>\n<polyline clip-path=\"url(#clip112)\" style=\"stroke:#000000; stroke-linecap:round; stroke-linejoin:round; stroke-width:2; stroke-opacity:0.1; fill:none\" points=\"\n  147.478,806.685 2352.76,806.685 \n  \"/>\n<polyline clip-path=\"url(#clip112)\" style=\"stroke:#000000; stroke-linecap:round; stroke-linejoin:round; stroke-width:2; stroke-opacity:0.1; fill:none\" points=\"\n  147.478,447.331 2352.76,447.331 \n  \"/>\n<polyline clip-path=\"url(#clip112)\" style=\"stroke:#000000; stroke-linecap:round; stroke-linejoin:round; stroke-width:2; stroke-opacity:0.1; fill:none\" points=\"\n  147.478,87.9763 2352.76,87.9763 \n  \"/>\n<polyline clip-path=\"url(#clip110)\" style=\"stroke:#000000; stroke-linecap:round; stroke-linejoin:round; stroke-width:4; stroke-opacity:1; fill:none\" points=\"\n  147.478,1486.45 147.478,47.2441 \n  \"/>\n<polyline clip-path=\"url(#clip110)\" style=\"stroke:#000000; stroke-linecap:round; stroke-linejoin:round; stroke-width:4; stroke-opacity:1; fill:none\" points=\"\n  147.478,1166.04 166.376,1166.04 \n  \"/>\n<polyline clip-path=\"url(#clip110)\" style=\"stroke:#000000; stroke-linecap:round; stroke-linejoin:round; stroke-width:4; stroke-opacity:1; fill:none\" points=\"\n  147.478,806.685 166.376,806.685 \n  \"/>\n<polyline clip-path=\"url(#clip110)\" style=\"stroke:#000000; stroke-linecap:round; stroke-linejoin:round; stroke-width:4; stroke-opacity:1; fill:none\" points=\"\n  147.478,447.331 166.376,447.331 \n  \"/>\n<polyline clip-path=\"url(#clip110)\" style=\"stroke:#000000; stroke-linecap:round; stroke-linejoin:round; stroke-width:4; stroke-opacity:1; fill:none\" points=\"\n  147.478,87.9763 166.376,87.9763 \n  \"/>\n<path clip-path=\"url(#clip110)\" d=\"M50.9921 1166.49 L80.6679 1166.49 L80.6679 1170.43 L50.9921 1170.43 L50.9921 1166.49 Z\" fill=\"#000000\" fill-rule=\"evenodd\" fill-opacity=\"1\" /><path clip-path=\"url(#clip110)\" d=\"M91.5706 1179.38 L99.2095 1179.38 L99.2095 1153.02 L90.8993 1154.69 L90.8993 1150.43 L99.1632 1148.76 L103.839 1148.76 L103.839 1179.38 L111.478 1179.38 L111.478 1183.32 L91.5706 1183.32 L91.5706 1179.38 Z\" fill=\"#000000\" fill-rule=\"evenodd\" fill-opacity=\"1\" /><path clip-path=\"url(#clip110)\" d=\"M99.5335 792.484 Q95.9224 792.484 94.0937 796.049 Q92.2882 799.591 92.2882 806.72 Q92.2882 813.827 94.0937 817.391 Q95.9224 820.933 99.5335 820.933 Q103.168 820.933 104.973 817.391 Q106.802 813.827 106.802 806.72 Q106.802 799.591 104.973 796.049 Q103.168 792.484 99.5335 792.484 M99.5335 788.78 Q105.344 788.78 108.399 793.387 Q111.478 797.97 111.478 806.72 Q111.478 815.447 108.399 820.053 Q105.344 824.637 99.5335 824.637 Q93.7234 824.637 90.6447 820.053 Q87.5892 815.447 87.5892 806.72 Q87.5892 797.97 90.6447 793.387 Q93.7234 788.78 99.5335 788.78 Z\" fill=\"#000000\" fill-rule=\"evenodd\" fill-opacity=\"1\" /><path clip-path=\"url(#clip110)\" d=\"M91.5706 460.676 L99.2095 460.676 L99.2095 434.31 L90.8993 435.977 L90.8993 431.718 L99.1632 430.051 L103.839 430.051 L103.839 460.676 L111.478 460.676 L111.478 464.611 L91.5706 464.611 L91.5706 460.676 Z\" fill=\"#000000\" fill-rule=\"evenodd\" fill-opacity=\"1\" /><path clip-path=\"url(#clip110)\" d=\"M95.1586 101.321 L111.478 101.321 L111.478 105.256 L89.5336 105.256 L89.5336 101.321 Q92.1956 98.5665 96.7789 93.9369 Q101.385 89.2841 102.566 87.9416 Q104.811 85.4184 105.691 83.6823 Q106.594 81.9231 106.594 80.2333 Q106.594 77.4786 104.649 75.7425 Q102.728 74.0064 99.6261 74.0064 Q97.4271 74.0064 94.9734 74.7703 Q92.5428 75.5342 89.7651 77.0851 L89.7651 72.3629 Q92.5891 71.2287 95.0428 70.65 Q97.4965 70.0713 99.5335 70.0713 Q104.904 70.0713 108.098 72.7565 Q111.293 75.4416 111.293 79.9323 Q111.293 82.062 110.483 83.9832 Q109.696 85.8814 107.589 88.474 Q107.01 89.1453 103.909 92.3628 Q100.807 95.5573 95.1586 101.321 Z\" fill=\"#000000\" fill-rule=\"evenodd\" fill-opacity=\"1\" /><polyline clip-path=\"url(#clip112)\" style=\"stroke:#009af9; stroke-linecap:round; stroke-linejoin:round; stroke-width:4; stroke-opacity:1; fill:none\" points=\"\n  209.891,87.9763 230.906,87.9763 251.921,87.9763 272.935,87.9763 293.95,87.9763 314.965,87.9763 335.979,87.9763 356.994,87.9763 378.009,87.9763 399.023,87.9763 \n  420.038,87.9763 441.053,87.9763 462.067,87.9763 483.082,87.9763 504.097,87.9763 525.111,87.9763 546.126,87.9763 567.141,87.9763 588.155,87.9763 609.17,93.8067 \n  630.185,317.892 651.199,548.778 672.214,820.51 693.229,1093.75 714.243,1240.09 735.258,1270.22 756.272,1291.27 777.287,1304.5 798.302,1311.02 819.316,1311.85 \n  840.331,1307.9 861.346,1299.96 882.36,1288.75 903.375,1274.88 924.39,1258.92 945.404,1241.34 966.419,1222.57 987.434,1202.96 1008.45,1182.83 1029.46,1162.46 \n  1050.48,1142.06 1071.49,1121.83 1092.51,1101.93 1113.52,1082.49 1134.54,1063.61 1155.55,1045.38 1176.57,1027.86 1197.58,1011.11 1218.59,995.142 1239.61,979.992 \n  1260.62,965.665 1281.64,952.161 1302.65,939.474 1323.67,927.588 1344.68,916.487 1365.7,906.146 1386.71,896.54 1407.73,887.639 1428.74,879.413 1449.76,871.83 \n  1470.77,864.856 1491.79,858.459 1512.8,852.605 1533.81,847.261 1554.83,842.396 1575.84,837.977 1596.86,833.974 1617.87,830.358 1638.89,827.099 1659.9,824.172 \n  1680.92,821.55 1701.93,819.208 1722.95,817.125 1743.96,815.277 1764.98,813.645 1785.99,812.21 1807.01,810.954 1828.02,809.861 1849.03,808.915 1870.05,808.102 \n  1891.06,807.41 1912.08,806.827 1933.09,806.341 1954.11,805.944 1975.12,805.626 1996.14,805.38 2017.15,805.197 2038.17,805.073 2059.18,805.001 2080.2,804.977 \n  2101.21,804.996 2122.23,805.054 2143.24,805.149 2164.25,805.278 2185.27,805.439 2206.28,805.63 2227.3,805.851 2248.31,806.101 2269.33,806.379 2290.34,806.685 \n  \n  \"/>\n<polyline clip-path=\"url(#clip112)\" style=\"stroke:#e26f46; stroke-linecap:round; stroke-linejoin:round; stroke-width:4; stroke-opacity:1; fill:none\" points=\"\n  209.891,517.969 230.906,542.24 251.921,564.131 272.935,583.903 293.95,601.81 314.965,618.097 335.979,633.001 356.994,646.736 378.009,659.488 399.023,671.387 \n  420.038,682.471 441.053,692.617 462.067,701.403 483.082,707.865 504.097,710.031 525.111,709.913 546.126,709.128 567.141,708.497 588.155,711.433 609.17,728.468 \n  630.185,787.401 651.199,924.115 672.214,1186.53 693.229,1423.25 714.243,1445.72 735.258,1355.59 756.272,1274.81 777.287,1202.62 798.302,1138.32 819.316,1081.23 \n  840.331,1030.74 861.346,986.249 882.36,947.213 903.375,913.118 924.39,883.491 945.404,857.889 966.419,835.906 987.434,817.166 1008.45,801.323 1029.46,788.062 \n  1050.48,777.091 1071.49,768.145 1092.51,760.984 1113.52,755.389 1134.54,751.16 1155.55,748.119 1176.57,746.104 1197.58,744.969 1218.59,744.585 1239.61,744.835 \n  1260.62,745.615 1281.64,746.834 1302.65,748.411 1323.67,750.274 1344.68,752.359 1365.7,754.614 1386.71,756.989 1407.73,759.444 1428.74,761.943 1449.76,764.457 \n  1470.77,766.961 1491.79,769.432 1512.8,771.854 1533.81,774.213 1554.83,776.496 1575.84,778.696 1596.86,780.805 1617.87,782.819 1638.89,784.734 1659.9,786.549 \n  1680.92,788.264 1701.93,789.878 1722.95,791.394 1743.96,792.813 1764.98,794.138 1785.99,795.372 1807.01,796.519 1828.02,797.581 1849.03,798.562 1870.05,799.468 \n  1891.06,800.3 1912.08,801.065 1933.09,801.764 1954.11,802.402 1975.12,802.984 1996.14,803.511 2017.15,803.988 2038.17,804.417 2059.18,804.802 2080.2,805.145 \n  2101.21,805.448 2122.23,805.715 2143.24,805.946 2164.25,806.144 2185.27,806.309 2206.28,806.444 2227.3,806.548 2248.31,806.623 2269.33,806.669 2290.34,806.685 \n  \n  \"/>\n<path clip-path=\"url(#clip110)\" d=\"\nM2006.29 250.738 L2279.25 250.738 L2279.25 95.2176 L2006.29 95.2176  Z\n  \" fill=\"#ffffff\" fill-rule=\"evenodd\" fill-opacity=\"1\"/>\n<polyline clip-path=\"url(#clip110)\" style=\"stroke:#000000; stroke-linecap:round; stroke-linejoin:round; stroke-width:4; stroke-opacity:1; fill:none\" points=\"\n  2006.29,250.738 2279.25,250.738 2279.25,95.2176 2006.29,95.2176 2006.29,250.738 \n  \"/>\n<polyline clip-path=\"url(#clip110)\" style=\"stroke:#009af9; stroke-linecap:round; stroke-linejoin:round; stroke-width:4; stroke-opacity:1; fill:none\" points=\"\n  2030.79,147.058 2177.81,147.058 \n  \"/>\n<path clip-path=\"url(#clip110)\" d=\"M2216.16 166.745 Q2214.35 171.375 2212.64 172.787 Q2210.92 174.199 2208.05 174.199 L2204.65 174.199 L2204.65 170.634 L2207.15 170.634 Q2208.91 170.634 2209.88 169.8 Q2210.85 168.967 2212.04 165.865 L2212.8 163.921 L2202.31 138.412 L2206.83 138.412 L2214.93 158.689 L2223.03 138.412 L2227.54 138.412 L2216.16 166.745 Z\" fill=\"#000000\" fill-rule=\"evenodd\" fill-opacity=\"1\" /><path clip-path=\"url(#clip110)\" d=\"M2234.84 160.402 L2242.48 160.402 L2242.48 134.037 L2234.16 135.703 L2234.16 131.444 L2242.43 129.778 L2247.1 129.778 L2247.1 160.402 L2254.74 160.402 L2254.74 164.338 L2234.84 164.338 L2234.84 160.402 Z\" fill=\"#000000\" fill-rule=\"evenodd\" fill-opacity=\"1\" /><polyline clip-path=\"url(#clip110)\" style=\"stroke:#e26f46; stroke-linecap:round; stroke-linejoin:round; stroke-width:4; stroke-opacity:1; fill:none\" points=\"\n  2030.79,198.898 2177.81,198.898 \n  \"/>\n<path clip-path=\"url(#clip110)\" d=\"M2216.16 218.585 Q2214.35 223.215 2212.64 224.627 Q2210.92 226.039 2208.05 226.039 L2204.65 226.039 L2204.65 222.474 L2207.15 222.474 Q2208.91 222.474 2209.88 221.64 Q2210.85 220.807 2212.04 217.705 L2212.8 215.761 L2202.31 190.252 L2206.83 190.252 L2214.93 210.529 L2223.03 190.252 L2227.54 190.252 L2216.16 218.585 Z\" fill=\"#000000\" fill-rule=\"evenodd\" fill-opacity=\"1\" /><path clip-path=\"url(#clip110)\" d=\"M2238.05 212.242 L2254.37 212.242 L2254.37 216.178 L2232.43 216.178 L2232.43 212.242 Q2235.09 209.488 2239.67 204.858 Q2244.28 200.205 2245.46 198.863 Q2247.71 196.34 2248.59 194.604 Q2249.49 192.844 2249.49 191.155 Q2249.49 188.4 2247.54 186.664 Q2245.62 184.928 2242.52 184.928 Q2240.32 184.928 2237.87 185.692 Q2235.44 186.455 2232.66 188.006 L2232.66 183.284 Q2235.48 182.15 2237.94 181.571 Q2240.39 180.993 2242.43 180.993 Q2247.8 180.993 2250.99 183.678 Q2254.19 186.363 2254.19 190.854 Q2254.19 192.983 2253.38 194.905 Q2252.59 196.803 2250.48 199.395 Q2249.91 200.067 2246.8 203.284 Q2243.7 206.479 2238.05 212.242 Z\" fill=\"#000000\" fill-rule=\"evenodd\" fill-opacity=\"1\" /></svg>\n"
     },
     "execution_count": 38,
     "metadata": {},
     "output_type": "execute_result"
    }
   ],
   "source": [
    "plot(u2ₜ)"
   ]
  },
  {
   "cell_type": "code",
   "execution_count": null,
   "metadata": {},
   "outputs": [],
   "source": []
  },
  {
   "cell_type": "code",
   "execution_count": null,
   "metadata": {},
   "outputs": [],
   "source": []
  }
 ],
 "metadata": {
  "kernelspec": {
   "display_name": "Julia 1.6.7",
   "language": "julia",
   "name": "julia-1.6"
  },
  "language_info": {
   "file_extension": ".jl",
   "mimetype": "application/julia",
   "name": "julia",
   "version": "1.6.7"
  },
  "vscode": {
   "interpreter": {
    "hash": "aee8b7b246df8f9039afb4144a1f6fd8d2ca17a180786b69acc140d282b71a49"
   }
  }
 },
 "nbformat": 4,
 "nbformat_minor": 2
}
