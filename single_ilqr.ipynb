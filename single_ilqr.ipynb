{
 "cells": [
  {
   "cell_type": "code",
   "execution_count": 1,
   "metadata": {},
   "outputs": [
    {
     "name": "stderr",
     "output_type": "stream",
     "text": [
      "\u001b[32m\u001b[1m  Activating\u001b[22m\u001b[39m environment at `~/Desktop/PHD2022/Autumn/CSE 579/CS_project/LQ_Game_Solver/CS_project/Project.toml`\n"
     ]
    }
   ],
   "source": [
    "import Pkg; Pkg.activate(@__DIR__); Pkg.instantiate()\n",
    "#import Pkg; Pkg.activate(joinpath(@__DIR__,\"..\")); Pkg.instantiate()"
   ]
  },
  {
   "cell_type": "code",
   "execution_count": 2,
   "metadata": {},
   "outputs": [],
   "source": [
    "using LinearAlgebra\n",
    "using Plots\n",
    "using SparseArrays\n",
    "using ForwardDiff\n",
    "#using ControlSystems"
   ]
  },
  {
   "cell_type": "markdown",
   "metadata": {},
   "source": [
    "### 2D Point Mass Continous dynamics"
   ]
  },
  {
   "cell_type": "code",
   "execution_count": 3,
   "metadata": {},
   "outputs": [
    {
     "data": {
      "text/plain": [
       "point_mass (generic function with 1 method)"
      ]
     },
     "metadata": {},
     "output_type": "display_data"
    }
   ],
   "source": [
    "c = 0.0\n",
    "m = 1.0\n",
    "function point_mass(x, u)\n",
    "   # x = state[1]                #x_1 = ẋ\n",
    "    ẋ = x[3]\n",
    "    ẍ = -(c/m)*ẋ + u[1]/(m)  #x_2 = ẍ = (-c/m)ẋ + u/m \n",
    "    #y = state[3]\n",
    "    ẏ = x[4]\n",
    "    ÿ = -(c/m)*ẏ + u[2]/(m)  #x_2 = ẍ = (-c/m)ẋ + u/m \n",
    "    return [ẋ; ẏ; ẍ; ÿ]\n",
    "end"
   ]
  },
  {
   "cell_type": "markdown",
   "metadata": {},
   "source": [
    "### Linearizing and discretizing the dynamics"
   ]
  },
  {
   "cell_type": "code",
   "execution_count": 4,
   "metadata": {},
   "outputs": [
    {
     "data": {
      "text/plain": [
       "4×2 Matrix{Float64}:\n",
       " 0.0   0.0\n",
       " 0.0   0.0\n",
       " 0.01  0.0\n",
       " 0.0   0.01"
      ]
     },
     "metadata": {},
     "output_type": "display_data"
    }
   ],
   "source": [
    "function lin_dyn_discrete(dynamics, x, u, dt)\n",
    "    A = ForwardDiff.jacobian(dx -> dynamics(dx, u), x)\n",
    "    B = ForwardDiff.jacobian(du -> dynamics(x, du), u)\n",
    "    A = dt .* A + I\n",
    "    B = dt .* B\n",
    "    return A, B\n",
    "end\n",
    "x = [0; 0; 0 ;0]\n",
    "u = [0; 0]\n",
    "A, B = lin_dyn_discrete(point_mass, x, u, 0.01)"
   ]
  },
  {
   "cell_type": "markdown",
   "metadata": {},
   "source": [
    "### Cost Function (add distance constrain to arbitary static object)"
   ]
  },
  {
   "cell_type": "code",
   "execution_count": 43,
   "metadata": {},
   "outputs": [
    {
     "data": {
      "text/plain": [
       "cost (generic function with 1 method)"
      ]
     },
     "metadata": {},
     "output_type": "display_data"
    }
   ],
   "source": [
    "Q = I(4) #state cost for point mass 1\n",
    "R = I(2)\n",
    "function cost(x, u)\n",
    "    c = 0.5*x'*Q*x + 0.5*u'*R*u #+ max(0, (x[1] - x[3])^2)\n",
    "    return c\n",
    "end"
   ]
  },
  {
   "cell_type": "markdown",
   "metadata": {},
   "source": [
    "### Evaluating Cost function"
   ]
  },
  {
   "cell_type": "code",
   "execution_count": 44,
   "metadata": {},
   "outputs": [
    {
     "data": {
      "text/plain": [
       "5.5"
      ]
     },
     "metadata": {},
     "output_type": "display_data"
    }
   ],
   "source": [
    "x = [0; 0; 1; 0]\n",
    "u = [1; 3]\n",
    "cost(x, u)"
   ]
  },
  {
   "cell_type": "markdown",
   "metadata": {},
   "source": [
    "### Quadritizing cost function"
   ]
  },
  {
   "cell_type": "code",
   "execution_count": 46,
   "metadata": {},
   "outputs": [
    {
     "data": {
      "text/plain": [
       "quadratic_cost (generic function with 1 method)"
      ]
     },
     "metadata": {},
     "output_type": "display_data"
    }
   ],
   "source": [
    "function quadratic_cost(cost_func, x, u)\n",
    "    \"\"\"\n",
    "    2nd order Taylor expansion of cost at t\n",
    "    I neglected the mixed paritals in the hessian\n",
    "    \"\"\"\n",
    "    Q = ForwardDiff.hessian(dx -> cost_func(dx, u), x)\n",
    "    l = ForwardDiff.gradient(dx -> cost_func(dx, u), x)\n",
    "    R = ForwardDiff.hessian(du -> cost_func(x, du), u)\n",
    "    r = ForwardDiff.gradient(du -> cost_func(x, du), u)\n",
    "    cost = 0.5 * x' * (Q*x + 2*l) + 0.5 * u' * (R*u + 2*r)\n",
    "    return cost, Q, l, R, r\n",
    "end"
   ]
  },
  {
   "cell_type": "markdown",
   "metadata": {},
   "source": [
    "#### Point Mass Discrete"
   ]
  },
  {
   "cell_type": "markdown",
   "metadata": {},
   "source": [
    "$$ \\frac{d}{dt}x = Ax + \\sum Bu$$\n",
    "\n",
    "Single 2D point mass:\n",
    "$$\\frac{d}{dt}\\begin{bmatrix} x \\\\ y \\\\ \\dot{x} \\\\ \\dot{y}\\end{bmatrix} =  \n",
    " \\begin{bmatrix} 0 & 0 & 1 & 0 \\\\ 0 & 0 & 0 & 1 \\\\ 0 & 0 & -c/m & 0 \\\\ 0 & 0 & 0 & -c/m \\end{bmatrix}\n",
    " \\begin{bmatrix} x \\\\ y \\\\ \\dot{x} \\\\ \\dot{y}\\end{bmatrix} + \n",
    " \\begin{bmatrix} 0 & 0 \\\\ 0 & 0 \\\\ 1/m & 0 \\\\ 0 & 1/m \\end{bmatrix}\n",
    " \\begin{bmatrix} u_x \\\\ u_y\\end{bmatrix} $$\n",
    "\n",
    "two 2D point masses:\n",
    "$$\\frac{d}{dt}\\begin{bmatrix} x_1 \\\\ y_1 \\\\ \\dot{x}_1 \\\\ \\dot{y}_1 \\\\ x_2 \\\\ y_2 \\\\ \\dot{x}_2 \\\\ \\dot{y}_2\\end{bmatrix} =  \n",
    " \\begin{bmatrix} 0 & 0 & 1 & 0 & 0 & 0 & 0 & 0\\\\ \n",
    "                0 & 0 & 0 & 1 & 0 & 0 & 0 & 0 \\\\ \n",
    "                0 & 0 & -c/m_1 & 0 & 0 & 0 & 0 & 0\\\\ \n",
    "                0 & 0 & 0 & -c/m_1 & 0 & 0 & 0 & 0\\\\\n",
    "                0 & 0 & 0 & 0 & 0 & 0 & 1 & 0\\\\ \n",
    "                0 & 0 & 0 & 0 & 0 & 0 & 0 & 1\\\\ \n",
    "                0 & 0 & 0 & 0 & 0 & 0 & -c/m_2 & 0\\\\ \n",
    "                0 & 0 & 0 & 0 & 0 & 0 & 0 & -c/m_2\\\\ \\end{bmatrix}\n",
    " \\begin{bmatrix} x_1 \\\\ y_1 \\\\ \\dot{x}_1 \\\\ \\dot{y}_1 \\\\ x_2 \\\\ y_2 \\\\ \\dot{x}_2 \\\\ \\dot{y}_2\\end{bmatrix} + \n",
    " \\begin{bmatrix} 0 & 0 \\\\ 0 & 0 \\\\ 1/m_1 & 0 \\\\ 0 & 1/m_1 \\\\ 0 & 0 \\\\ 0 & 0 \\\\ 0 & 0 \\\\ 0 & 0\\end{bmatrix}\n",
    " \\begin{bmatrix} u_x^1 \\\\ u_y^1 \\end{bmatrix} +\n",
    " \\begin{bmatrix} 0 & 0 \\\\ 0 & 0 \\\\ 0 & 0 \\\\ 0 & 0 \\\\ 0 & 0 \\\\ 0 & 0 \\\\ 1/m_2 & 0 \\\\ 0 & 1/m_2\\end{bmatrix}\n",
    " \\begin{bmatrix} u_x^2 \\\\ u_y^2 \\end{bmatrix}  $$\n"
   ]
  },
  {
   "cell_type": "markdown",
   "metadata": {},
   "source": [
    "### Single Iteration of Affine QR"
   ]
  },
  {
   "cell_type": "code",
   "execution_count": 1,
   "metadata": {},
   "outputs": [
    {
     "data": {
      "text/plain": [
       "affinelq! (generic function with 1 method)"
      ]
     },
     "metadata": {},
     "output_type": "display_data"
    }
   ],
   "source": [
    "n = 4 #8 states\n",
    "m = 2 #2 controls\n",
    "function affinelq!(Aₜ, Bₜ, Qₜ, lₜ, Rₜ , rₜ)\n",
    "\n",
    "    V = copy(Qₜ[:,:,end]) #at last time step\n",
    "    ζ = copy(lₜ[:,end]) #at last time step\n",
    "    #P = zeros(k_steps, n*m)\n",
    "    P = zeros(Float32, (m, n, k_steps))\n",
    "    #α = zeros(k_steps, m)\n",
    "    α = zeros(Float32, (m, k_steps))\n",
    "\n",
    "    #α₂ = zeros(T[1], m)\n",
    "\n",
    "    for t in k_steps:-1:1\n",
    "        # solving for Ps, check equation 19 in document\n",
    "        # Player 1\n",
    "        # Equation (10) only for 1 player for Pⱼ = 0 \n",
    "        Pₜ = (Rₜ[:,:,t] + (Bₜ[:,:,t]' * V * Bₜ[:,:,t]))\\(Bₜ[:,:,t]' * V * Aₜ[:,:,t])\n",
    "        # Equation (11) only for 1 player for for αⱼ = 0\n",
    "        αₜ = (Rₜ[:,:,t] + (Bₜ[:,:,t]' * V * Bₜ[:,:,t]))\\(Bₜ[:,:,t]' * ζ)\n",
    "        # Assign Values\n",
    "        P[:,:,t] = Pₜ\n",
    "        α[:,t] = αₜ\n",
    "        #Update value function(s)\n",
    "        # Equation (14)\n",
    "        Fₜ = Aₜ[:,:,t] - (Bₜ[:,:,t]*Pₜ)\n",
    "        # Equation (15)\n",
    "        βₜ = - Bₜ[:,:,t] * αₜ\n",
    "        # Equation (17)\n",
    "        ζ = lₜ[:,t] + (Pₜ' * Rₜ[:,:,t] * αₜ - Pₜ' * rₜ[:,t]) + Fₜ'*(ζ + V * βₜ)\n",
    "        # Equation (16) where V = Z\n",
    "        V = Qₜ[:,:,t]' + (Pₜ' * Rₜ[:,:,t] * Pₜ) + (Fₜ' * V * Fₜ)\n",
    "        #K[i, :] = reshape(transpose(K_i), (n*m,1))\n",
    "        #println(\"f\",reshape(K[i, :], (2,4))\n",
    "    end\n",
    "    return P, α\n",
    "end"
   ]
  },
  {
   "cell_type": "markdown",
   "metadata": {},
   "source": [
    "### Rollout a (nonlinear) trajectory"
   ]
  },
  {
   "cell_type": "code",
   "execution_count": 143,
   "metadata": {},
   "outputs": [
    {
     "data": {
      "text/plain": [
       "Rollout_RK4 (generic function with 2 methods)"
      ]
     },
     "metadata": {},
     "output_type": "display_data"
    }
   ],
   "source": [
    "function Rollout_RK4(fun, x₀, xf, H, dt, P, α)\n",
    "    \"\"\"\n",
    "    Rollout dynamics with initial state x₀ \n",
    "    and control law u = -Px - α\n",
    "    P is an n x b gain matrix\n",
    "    α is m x 1\n",
    "    \"\"\"\n",
    "    m = 2 #2 controls\n",
    "    k_steps = trunc(Int, H/dt) \n",
    "    xₜ = zeros(k_steps, length(x₀)) # 1500 x n\n",
    "    uₜ = zeros(k_steps, m) \n",
    "    xₜ[1,:] .= x₀\n",
    "    for t=1:(k_steps-1)\n",
    "        # WHAT IS x̂ in xₜ[t,:] - x̂\n",
    "        uₜ[t,:] = -P[:,:,t]*(xₜ[t,:] - xf) - α[:,t]\n",
    "        k1 = fun(xₜ[t,:], uₜ[t,:])\n",
    "        k2 = fun(xₜ[t,:] + 0.5*dt*k1, uₜ[t,:])\n",
    "        k3 = fun(xₜ[t,:] + 0.5*dt*k2, uₜ[t,:])\n",
    "        k4 = fun(xₜ[t,:] + dt*k3, uₜ[t,:])\n",
    "        xₜ[t+1,:] = xₜ[t,:] + (dt/6.0)*(k1 + 2*k2 + 2*k3 + k4)\n",
    "    end\n",
    "    \n",
    "    return xₜ, uₜ\n",
    "end"
   ]
  },
  {
   "cell_type": "markdown",
   "metadata": {},
   "source": [
    "### Initiating P's and alpha's"
   ]
  },
  {
   "cell_type": "code",
   "execution_count": 144,
   "metadata": {},
   "outputs": [
    {
     "data": {
      "text/plain": [
       "2×3000 Matrix{Float64}:\n",
       " 0.0  0.0  0.0  0.0  0.0  0.0  0.0  0.0  …  0.0  0.0  0.0  0.0  0.0  0.0  0.0\n",
       " 0.0  0.0  0.0  0.0  0.0  0.0  0.0  0.0     0.0  0.0  0.0  0.0  0.0  0.0  0.0"
      ]
     },
     "metadata": {},
     "output_type": "display_data"
    }
   ],
   "source": [
    "x₀=[0; 0; 0; 0]\n",
    "dt = 0.01 #step size\n",
    "H = 30.0  #Horizon\n",
    "P = zeros(2,4,3000)\n",
    "α = zeros(2,3000)"
   ]
  },
  {
   "cell_type": "code",
   "execution_count": 147,
   "metadata": {},
   "outputs": [
    {
     "data": {
      "text/plain": [
       "(2, 4, 3000)"
      ]
     },
     "metadata": {},
     "output_type": "display_data"
    }
   ],
   "source": [
    "#function ilqr()\n",
    "    # 1. Initialize an initial feasible trajectory\n",
    "n = 4\n",
    "m = 2\n",
    "x₀ = [0; 0; 0; 0]\n",
    "xf = [2; 2; 0; 0]\n",
    "xₜ, uₜ = Rollout_RK4(point_mass, x₀, xf, H, dt, P, α) #xₜ is [k_steps, 4]\n",
    "Aₜ = zeros(Float32, (n, n, k_steps))\n",
    "Bₜ = zeros(Float32, (n, m, k_steps))\n",
    "Qₜ = zeros(Float32, (n, n, k_steps))\n",
    "lₜ = zeros(Float32, (n, k_steps))\n",
    "Rₜ = zeros(Float32, (m, m, k_steps))\n",
    "rₜ = zeros(Float32, (m, k_steps))\n",
    "\n",
    "for t = 1:(k_steps)\n",
    "    # 2. Linearize dynamics about trajectory\n",
    "    # WHAT IS x̂ in xₜ[t,:] - x̂\n",
    "    Aₜ[:,:,t], Bₜ[:,:,t] = lin_dyn_discrete(point_mass, xₜ[t,:] - xf, uₜ[t,:], dt)\n",
    "    # 3. Compute second order Taylor series expansion the cost function\n",
    "    # WHAT IS x̂ in xₜ[t,:] - x̂\n",
    "    c, Qₜ[:,:,t], lₜ[:,t], Rₜ[:,:,t], rₜ[:,t] = quadratic_cost(cost, xₜ[t,:] - xf, uₜ[t,:])\n",
    "end\n",
    "\n",
    "# 4. Do lqr\n",
    "P, α = affinelq!(Aₜ, Bₜ, Qₜ, lₜ, Rₜ , rₜ)\n",
    "\n",
    "size(P)\n",
    "#end"
   ]
  },
  {
   "cell_type": "code",
   "execution_count": 148,
   "metadata": {},
   "outputs": [
    {
     "data": {
      "text/plain": [
       "([0.0 0.0 0.0 0.0; 9.660896017670631e-5 9.660896017670631e-5 0.019130426862566472 0.019130426862566472; … ; 3.333526516700677 3.333526516700677 0.0004373745817753235 0.0004373745817753235; 3.3335307625407467 3.3335307625407467 0.0004120467906871093 0.0004120467906871093], [3.942016124725342 3.942016124725342; 3.9379452432799242 3.9379452432799242; … ; 2.9449865860996246e-5 2.9449865860996246e-5; 0.0 0.0])"
      ]
     },
     "metadata": {},
     "output_type": "display_data"
    }
   ],
   "source": [
    "xₜ, uₜ = Rollout_RK4(point_mass, x₀, xf, H, dt, P, α)"
   ]
  },
  {
   "cell_type": "code",
   "execution_count": 150,
   "metadata": {},
   "outputs": [
    {
     "data": {
      "text/plain": [
       "4-element Vector{Float64}:\n",
       " 3.3335307625407467\n",
       " 3.3335307625407467\n",
       " 0.0004120467906871093\n",
       " 0.0004120467906871093"
      ]
     },
     "metadata": {},
     "output_type": "display_data"
    }
   ],
   "source": [
    "xₜ[end,:]"
   ]
  },
  {
   "cell_type": "code",
   "execution_count": null,
   "metadata": {},
   "outputs": [],
   "source": []
  }
 ],
 "metadata": {
  "kernelspec": {
   "display_name": "Julia 1.6.7",
   "language": "julia",
   "name": "julia-1.6"
  },
  "language_info": {
   "file_extension": ".jl",
   "mimetype": "application/julia",
   "name": "julia",
   "version": "1.6.7"
  },
  "orig_nbformat": 4,
  "vscode": {
   "interpreter": {
    "hash": "aee8b7b246df8f9039afb4144a1f6fd8d2ca17a180786b69acc140d282b71a49"
   }
  }
 },
 "nbformat": 4,
 "nbformat_minor": 2
}
